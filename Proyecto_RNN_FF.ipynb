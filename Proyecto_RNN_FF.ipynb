{
  "nbformat": 4,
  "nbformat_minor": 0,
  "metadata": {
    "colab": {
      "name": "Proyecto RNN_FF.ipynb",
      "version": "0.3.2",
      "provenance": []
    },
    "kernelspec": {
      "name": "python2",
      "display_name": "Python 2"
    },
    "accelerator": "GPU"
  },
  "cells": [
    {
      "cell_type": "markdown",
      "metadata": {
        "id": "0w8go0OOGOAy",
        "colab_type": "text"
      },
      "source": [
        "PROYECTO RNN: EL ACTUAL PROYECTO SE ENCUENTRA ORIENTADO A LA CLASIFICACIÓN DE LA FUNCIONALIDAD DE PROTEINAS A PARTIR DE SU SECUENCIA DE AMINO ACIDOS, PH, HIDROFOBICIDAD Y LOS CAMBIOS QUÍMICOS ALPHA. COMO METRICA SE IMPLEMENTO LA PRECISIÓN. EL PROYTECTO FUE DESARROLLADO Y CORRIDO EN EL COLAB ASI QUE SUGIERO LLEVARLO ALLÍ"
      ]
    },
    {
      "cell_type": "markdown",
      "metadata": {
        "id": "tH8CjkLCGyuT",
        "colab_type": "text"
      },
      "source": [
        "INICIALMENTE SE CARGAN LAS LIBRERIAS QUE SERAN UTILIZADAS DENTRO DEL PROYECTO"
      ]
    },
    {
      "cell_type": "code",
      "metadata": {
        "id": "7R92i9SD0xZF",
        "colab_type": "code",
        "colab": {}
      },
      "source": [
        "import numpy as np\n",
        "import pandas as pd\n",
        "import matplotlib.pyplot as plt\n",
        "from collections import Counter\n",
        "from keras.preprocessing import text, sequence\n",
        "from keras.preprocessing.text import Tokenizer\n",
        "from keras.models import Sequential\n",
        "from keras.layers import Dense\n",
        "from keras.layers import SimpleRNN\n",
        "from keras.layers import LSTM\n",
        "from keras.layers import GRU , SpatialDropout1D,Embedding\n",
        "from keras.layers import RepeatVector\n",
        "import matplotlib.pyplot as plt\n",
        "from tensorflow.keras.backend import clear_session\n",
        "from sklearn.model_selection import train_test_split\n",
        "from keras.optimizers import SGD,Adam\n",
        "import matplotlib.pyplot as plt\n",
        "from skimage import io"
      ],
      "execution_count": 0,
      "outputs": []
    },
    {
      "cell_type": "markdown",
      "metadata": {
        "id": "rPa2PJScG5bW",
        "colab_type": "text"
      },
      "source": [
        "SE PROCEDE A CARGAR LOS DATOS "
      ]
    },
    {
      "cell_type": "code",
      "metadata": {
        "id": "cct4FvVo0xZO",
        "colab_type": "code",
        "outputId": "ab5755f6-c6d8-4889-f1c8-607a145b517b",
        "colab": {
          "base_uri": "https://localhost:8080/",
          "height": 377
        }
      },
      "source": [
        "!wget -nc https://www.dropbox.com/s/mkbsnqusu2h2nqh/protein-data-set.zip?dl=0"
      ],
      "execution_count": 73,
      "outputs": [
        {
          "output_type": "stream",
          "text": [
            "--2019-06-03 19:18:11--  https://www.dropbox.com/s/cfyfdckcde0zmku/INDICESAA.csv?dl=0\n",
            "Resolving www.dropbox.com (www.dropbox.com)... 162.125.3.1, 2620:100:601b:1::a27d:801\n",
            "Connecting to www.dropbox.com (www.dropbox.com)|162.125.3.1|:443... connected.\n",
            "HTTP request sent, awaiting response... 301 Moved Permanently\n",
            "Location: /s/raw/cfyfdckcde0zmku/INDICESAA.csv [following]\n",
            "--2019-06-03 19:18:11--  https://www.dropbox.com/s/raw/cfyfdckcde0zmku/INDICESAA.csv\n",
            "Reusing existing connection to www.dropbox.com:443.\n",
            "HTTP request sent, awaiting response... 302 Found\n",
            "Location: https://ucd5b61119e3418f9bda0888eebc.dl.dropboxusercontent.com/cd/0/inline/AiKLZno5P9KO1UTLzph14Q2s5NM_CnPX4biIGOy49RxIkFUwJpb_f8xL5KYqDOC-IYoql18yREskY2W58CdTLz98sooyNQf1wis39_fTX17OnA/file# [following]\n",
            "--2019-06-03 19:18:11--  https://ucd5b61119e3418f9bda0888eebc.dl.dropboxusercontent.com/cd/0/inline/AiKLZno5P9KO1UTLzph14Q2s5NM_CnPX4biIGOy49RxIkFUwJpb_f8xL5KYqDOC-IYoql18yREskY2W58CdTLz98sooyNQf1wis39_fTX17OnA/file\n",
            "Resolving ucd5b61119e3418f9bda0888eebc.dl.dropboxusercontent.com (ucd5b61119e3418f9bda0888eebc.dl.dropboxusercontent.com)... 162.125.8.6, 2620:100:601b:6::a27d:806\n",
            "Connecting to ucd5b61119e3418f9bda0888eebc.dl.dropboxusercontent.com (ucd5b61119e3418f9bda0888eebc.dl.dropboxusercontent.com)|162.125.8.6|:443... connected.\n",
            "HTTP request sent, awaiting response... 200 OK\n",
            "Length: 466 [text/plain]\n",
            "Saving to: ‘INDICESAA.csv?dl=0’\n",
            "\n",
            "INDICESAA.csv?dl=0  100%[===================>]     466  --.-KB/s    in 0s      \n",
            "\n",
            "2019-06-03 19:18:11 (77.9 MB/s) - ‘INDICESAA.csv?dl=0’ saved [466/466]\n",
            "\n"
          ],
          "name": "stdout"
        }
      ]
    },
    {
      "cell_type": "code",
      "metadata": {
        "id": "-xoukV4OmXaR",
        "colab_type": "code",
        "outputId": "f8d8d00e-b9e5-4b23-be48-84efac5cb0c5",
        "colab": {
          "base_uri": "https://localhost:8080/",
          "height": 377
        }
      },
      "source": [
        "!wget -nc https://www.dropbox.com/s/gcg52llt67zyu7t/INDICESAA.csv?dl=0"
      ],
      "execution_count": 98,
      "outputs": [
        {
          "output_type": "stream",
          "text": [
            "--2019-06-03 19:38:03--  https://www.dropbox.com/s/gcg52llt67zyu7t/INDICESAA.csv?dl=0\n",
            "Resolving www.dropbox.com (www.dropbox.com)... 162.125.8.1, 2620:100:6018:1::a27d:301\n",
            "Connecting to www.dropbox.com (www.dropbox.com)|162.125.8.1|:443... connected.\n",
            "HTTP request sent, awaiting response... 301 Moved Permanently\n",
            "Location: /s/raw/gcg52llt67zyu7t/INDICESAA.csv [following]\n",
            "--2019-06-03 19:38:03--  https://www.dropbox.com/s/raw/gcg52llt67zyu7t/INDICESAA.csv\n",
            "Reusing existing connection to www.dropbox.com:443.\n",
            "HTTP request sent, awaiting response... 302 Found\n",
            "Location: https://uc7b8efba85062acb0c3a9042179.dl.dropboxusercontent.com/cd/0/inline/AiIRs4l7QqvLCima9fgwLDsF8Ke7iiRut9nu2PfB7aJwdSU1R5mgcmfiChhGq2hHqQHh0heyM63r0vSF5QTskipVi5sYh4wNJLnIwZNc6hdldA/file# [following]\n",
            "--2019-06-03 19:38:04--  https://uc7b8efba85062acb0c3a9042179.dl.dropboxusercontent.com/cd/0/inline/AiIRs4l7QqvLCima9fgwLDsF8Ke7iiRut9nu2PfB7aJwdSU1R5mgcmfiChhGq2hHqQHh0heyM63r0vSF5QTskipVi5sYh4wNJLnIwZNc6hdldA/file\n",
            "Resolving uc7b8efba85062acb0c3a9042179.dl.dropboxusercontent.com (uc7b8efba85062acb0c3a9042179.dl.dropboxusercontent.com)... 162.125.8.6, 2620:100:601b:6::a27d:806\n",
            "Connecting to uc7b8efba85062acb0c3a9042179.dl.dropboxusercontent.com (uc7b8efba85062acb0c3a9042179.dl.dropboxusercontent.com)|162.125.8.6|:443... connected.\n",
            "HTTP request sent, awaiting response... 200 OK\n",
            "Length: 400 [text/plain]\n",
            "Saving to: ‘INDICESAA.csv?dl=0’\n",
            "\n",
            "INDICESAA.csv?dl=0  100%[===================>]     400  --.-KB/s    in 0s      \n",
            "\n",
            "2019-06-03 19:38:04 (64.9 MB/s) - ‘INDICESAA.csv?dl=0’ saved [400/400]\n",
            "\n"
          ],
          "name": "stdout"
        }
      ]
    },
    {
      "cell_type": "code",
      "metadata": {
        "id": "fJ5V4SxmvfOX",
        "colab_type": "code",
        "colab": {
          "base_uri": "https://localhost:8080/",
          "height": 445
        },
        "outputId": "afe4e029-bec9-48ff-a06c-7d5ec1d3eb27"
      },
      "source": [
        "!wget -nc https://www.dropbox.com/s/9phlmut66ezqxum/img.zip?dl=0"
      ],
      "execution_count": 405,
      "outputs": [
        {
          "output_type": "stream",
          "text": [
            "--2019-06-04 01:11:38--  https://www.dropbox.com/s/9phlmut66ezqxum/img.zip?dl=0\n",
            "Resolving www.dropbox.com (www.dropbox.com)... 162.125.8.1, 2620:100:601b:1::a27d:801\n",
            "Connecting to www.dropbox.com (www.dropbox.com)|162.125.8.1|:443... connected.\n",
            "HTTP request sent, awaiting response... 301 Moved Permanently\n",
            "Location: /s/raw/9phlmut66ezqxum/img.zip [following]\n",
            "--2019-06-04 01:11:38--  https://www.dropbox.com/s/raw/9phlmut66ezqxum/img.zip\n",
            "Reusing existing connection to www.dropbox.com:443.\n",
            "HTTP request sent, awaiting response... 302 Found\n",
            "Location: https://uc6989649f63d6f18824f6de5d21.dl.dropboxusercontent.com/cd/0/inline/AiJonQHAupNKXoEhjLSrYqit4ac2GWwd1kYe7GwF45c2mY-Nu7-vUO08ny20nI0_YtJOcRdGZaL-d8LVfIRK_ndBuP2mjsnn-GFUFYPXfvOTCA/file# [following]\n",
            "--2019-06-04 01:11:39--  https://uc6989649f63d6f18824f6de5d21.dl.dropboxusercontent.com/cd/0/inline/AiJonQHAupNKXoEhjLSrYqit4ac2GWwd1kYe7GwF45c2mY-Nu7-vUO08ny20nI0_YtJOcRdGZaL-d8LVfIRK_ndBuP2mjsnn-GFUFYPXfvOTCA/file\n",
            "Resolving uc6989649f63d6f18824f6de5d21.dl.dropboxusercontent.com (uc6989649f63d6f18824f6de5d21.dl.dropboxusercontent.com)... 162.125.3.6, 2620:100:601b:6::a27d:806\n",
            "Connecting to uc6989649f63d6f18824f6de5d21.dl.dropboxusercontent.com (uc6989649f63d6f18824f6de5d21.dl.dropboxusercontent.com)|162.125.3.6|:443... connected.\n",
            "HTTP request sent, awaiting response... 302 FOUND\n",
            "Location: /cd/0/inline2/AiIYJwlfWXIYxkwbs3BFNYowfm2HOuK4HlGsxqiO14nAKRvTrln5XKPxZMV-7Fnn0JfyvQiNDNc2ysYBuEqYF4osaPq_dzQIj386WZfTxi3eSbiQpLraU1SbC_hEejLjSGMOqC3o3l_XlI3JPL7gTapKiau46JymSE_gplFeb4cvp-_piGQsTfqlk9Xpt_mXgRs3c8SiS5UcBRMhOf_V-IAhRKs_chJV76gLz22fC1fNCkgmeZRDRrA5YzMLwh0juiEzmCUGQL51q6VLIrW0kru40HMvXl3HwGrSdLEy2LN1y-nQukoAW7jbEf88ZhQrdC__3mTFktDdtmW6y0CdMGEG/file [following]\n",
            "--2019-06-04 01:11:39--  https://uc6989649f63d6f18824f6de5d21.dl.dropboxusercontent.com/cd/0/inline2/AiIYJwlfWXIYxkwbs3BFNYowfm2HOuK4HlGsxqiO14nAKRvTrln5XKPxZMV-7Fnn0JfyvQiNDNc2ysYBuEqYF4osaPq_dzQIj386WZfTxi3eSbiQpLraU1SbC_hEejLjSGMOqC3o3l_XlI3JPL7gTapKiau46JymSE_gplFeb4cvp-_piGQsTfqlk9Xpt_mXgRs3c8SiS5UcBRMhOf_V-IAhRKs_chJV76gLz22fC1fNCkgmeZRDRrA5YzMLwh0juiEzmCUGQL51q6VLIrW0kru40HMvXl3HwGrSdLEy2LN1y-nQukoAW7jbEf88ZhQrdC__3mTFktDdtmW6y0CdMGEG/file\n",
            "Reusing existing connection to uc6989649f63d6f18824f6de5d21.dl.dropboxusercontent.com:443.\n",
            "HTTP request sent, awaiting response... 200 OK\n",
            "Length: 107519 (105K) [application/zip]\n",
            "Saving to: ‘img.zip?dl=0’\n",
            "\n",
            "img.zip?dl=0        100%[===================>] 105.00K  --.-KB/s    in 0.02s   \n",
            "\n",
            "2019-06-04 01:11:39 (4.61 MB/s) - ‘img.zip?dl=0’ saved [107519/107519]\n",
            "\n"
          ],
          "name": "stdout"
        }
      ]
    },
    {
      "cell_type": "markdown",
      "metadata": {
        "id": "nrKEQcyFHF3y",
        "colab_type": "text"
      },
      "source": [
        "SE DESCOMPRIMERN LAS CARPETAS QUE SE DEBAN DESCOMPRIMIR"
      ]
    },
    {
      "cell_type": "code",
      "metadata": {
        "id": "Et9cOitAvj9O",
        "colab_type": "code",
        "colab": {
          "base_uri": "https://localhost:8080/",
          "height": 85
        },
        "outputId": "46563dd2-31b2-461c-a90f-274477653b56"
      },
      "source": [
        "!unzip img.zip?dl=0"
      ],
      "execution_count": 406,
      "outputs": [
        {
          "output_type": "stream",
          "text": [
            "Archive:  img.zip?dl=0\n",
            "  inflating: entrenamientogruuna.JPG  \n",
            "  inflating: numero de aminoacidos.JPG  \n",
            "  inflating: rnn.JPG                 \n"
          ],
          "name": "stdout"
        }
      ]
    },
    {
      "cell_type": "code",
      "metadata": {
        "id": "8kv8RpJI0xZV",
        "colab_type": "code",
        "outputId": "c65ab422-4d8b-486e-c0d0-66f90b88e827",
        "colab": {
          "base_uri": "https://localhost:8080/",
          "height": 68
        }
      },
      "source": [
        " !unzip protein-data-set.zip?dl=0"
      ],
      "execution_count": 0,
      "outputs": [
        {
          "output_type": "stream",
          "text": [
            "Archive:  protein-data-set.zip?dl=0\n",
            "  inflating: pdb_data_no_dups.csv    \n",
            "  inflating: pdb_data_seq.csv        \n"
          ],
          "name": "stdout"
        }
      ]
    },
    {
      "cell_type": "markdown",
      "metadata": {
        "id": "VAqCkqbpHVHz",
        "colab_type": "text"
      },
      "source": [
        "SE CARGAN LOS DATOS Y SE LES REALIZA EL CORRESPONDIENTE PRETRATAMIENTO. QUITANDO TODOS LAS FILAS QUE CONTENGAN DATOS MISSING EN LA CLASIFICACIÓN Y SECUENCIA"
      ]
    },
    {
      "cell_type": "code",
      "metadata": {
        "id": "z2-fgReR0xZa",
        "colab_type": "code",
        "colab": {}
      },
      "source": [
        "df = pd.read_csv('pdb_data_no_dups.csv').merge(pd.read_csv('pdb_data_seq.csv'), how='inner', on='structureId')\n",
        "aaind=pd.read_csv('INDICESAA.csv?dl=0')"
      ],
      "execution_count": 0,
      "outputs": []
    },
    {
      "cell_type": "code",
      "metadata": {
        "id": "GezBxPVz0xZd",
        "colab_type": "code",
        "outputId": "9b36079a-0d97-48a7-9194-b01e80bf5e6c",
        "colab": {
          "base_uri": "https://localhost:8080/",
          "height": 34
        }
      },
      "source": [
        "df.shape"
      ],
      "execution_count": 3,
      "outputs": [
        {
          "output_type": "execute_result",
          "data": {
            "text/plain": [
              "(471149, 18)"
            ]
          },
          "metadata": {
            "tags": []
          },
          "execution_count": 3
        }
      ]
    },
    {
      "cell_type": "code",
      "metadata": {
        "id": "tz146K0i0xZh",
        "colab_type": "code",
        "colab": {}
      },
      "source": [
        "df = df[[type(c) == type('') for c in df.classification.values]]\n",
        "df = df[[type(c) == type('') for c in df.sequence.values]]"
      ],
      "execution_count": 0,
      "outputs": []
    },
    {
      "cell_type": "markdown",
      "metadata": {
        "id": "DhnrMx0FHkYr",
        "colab_type": "text"
      },
      "source": [
        "SE EXTRAEN DE LA BASE DE DATOS EXCLUSIVAMENTE LOS DATOS QUE CORRESPONDAN A PROTEINAS"
      ]
    },
    {
      "cell_type": "code",
      "metadata": {
        "id": "tmFgr1SV0xZm",
        "colab_type": "code",
        "outputId": "93ba1445-0382-4386-a76e-61045be3f143",
        "colab": {
          "base_uri": "https://localhost:8080/",
          "height": 34
        }
      },
      "source": [
        "df = df[df.macromoleculeType_x == 'Protein']\n",
        "df.reset_index()\n",
        "df.shape"
      ],
      "execution_count": 5,
      "outputs": [
        {
          "output_type": "execute_result",
          "data": {
            "text/plain": [
              "(346321, 18)"
            ]
          },
          "metadata": {
            "tags": []
          },
          "execution_count": 5
        }
      ]
    },
    {
      "cell_type": "code",
      "metadata": {
        "id": "1f2jfRcM0xZq",
        "colab_type": "code",
        "outputId": "68134f85-7665-4c05-fae4-c9e1db4b81be",
        "colab": {
          "base_uri": "https://localhost:8080/",
          "height": 17034
        }
      },
      "source": [
        "cnt = Counter(df.classification)\n",
        "cnt"
      ],
      "execution_count": 6,
      "outputs": [
        {
          "output_type": "execute_result",
          "data": {
            "text/plain": [
              "Counter({'ZINC FINGER': 4,\n",
              "         'Hydrolase/Signaling Protein': 8,\n",
              "         'TRANSFERASE/REPLICATION': 6,\n",
              "         'HYDROLASE/HYDROLASE INHIBTIOR': 31,\n",
              "         'Sigaling protein': 4,\n",
              "         'STRUCTRUAL PROTEIN/HYDROLASE': 4,\n",
              "         'DNA RECOMBINATION': 7,\n",
              "         'HISTONE/TRANSFERASE': 8,\n",
              "         'Hormone/Growth factor receptor': 4,\n",
              "         'Hormone binding protein': 3,\n",
              "         'TOXIN, PROTEIN BINDING': 2,\n",
              "         'Transferase/Ribosomal protein': 6,\n",
              "         'DNA BINDING PROTEIN/CELL CYCLE': 12,\n",
              "         'CHAPERONE/PROTEIN TRANSPORT': 10,\n",
              "         'DNA excision repair': 2,\n",
              "         'BIOTIN BIOSYNTHESIS': 2,\n",
              "         'FATTY ACID SYNTHESIS PROTEIN': 1,\n",
              "         'METAL BINDING PROTEIN/TRANSLATION': 4,\n",
              "         'NERVE GROWTH FACTOR/TRKA COMPLEX': 4,\n",
              "         'VIRAL PROTEIN, HYDROLASE/INHIBITOR': 4,\n",
              "         'ISOMERASE, TRANSFERASE': 12,\n",
              "         'COMPLEX (TRANSFERASE/PHOSPHOCARRIER)': 2,\n",
              "         'MEMBRANE PROTEIN, DE NOVO PROTEIN': 1,\n",
              "         'toxin/toxin receptor': 4,\n",
              "         'SWEET TASTING PROTEIN': 4,\n",
              "         'TRANSFERASE, CELL CYCLE': 21,\n",
              "         'HYDROLASE/HYDROLASE REGULATOR': 47,\n",
              "         'PHOSPHATASE': 3,\n",
              "         'EXCITATORY NEUROTOXIN': 1,\n",
              "         'REDUCTASE': 28,\n",
              "         'LIPID BINDING PROTEIN, TRANSPORT PROTEIN': 1,\n",
              "         'Toxin/Toxin Repressor': 2,\n",
              "         'CHAPERONE/STRUCTURAL PROTEIN': 22,\n",
              "         'Immune system/protein binding': 1,\n",
              "         'replication, transferase': 4,\n",
              "         'HYDROLASE/LIGASE': 95,\n",
              "         'ELECTRON TRANSPORT PROTEIN (CYTOCHROME)': 14,\n",
              "         'Transcription repressor, drug binding': 1,\n",
              "         'ACTIN-BINDING PROTEIN': 62,\n",
              "         'TRANSCRIPTION/TRANSCRIPTION agonist': 2,\n",
              "         'GENE REGULATION/TRANSFERASE': 2,\n",
              "         'OXIDOREDUCTASE/peptide': 3,\n",
              "         'ACTIN-BINDING': 6,\n",
              "         'STRUCTURAL REGULATION PROTEIN': 4,\n",
              "         'VIRAL PROTEIN,METAL BINDING PROTEIN': 1,\n",
              "         'LYASE(OXO-ACID)': 65,\n",
              "         'PEPTIDOGLYCAN': 1,\n",
              "         'TRANSFERASE-HYDROLASE': 2,\n",
              "         'IMMUNE SYSTEM RECEPTOR': 22,\n",
              "         'CONTRACTILE PROTEIN/TRANSPORT PROTEIN': 18,\n",
              "         'OXIDOREDUCTASE/LIPID TRANSPORT': 16,\n",
              "         'COMPLEX (BLOOD COAGULATION/PEPTIDE)': 2,\n",
              "         'Hydrolase/Transport': 29,\n",
              "         'Signaling PROTEIN/membrane protein': 2,\n",
              "         'CYTOKINE Receptor': 1,\n",
              "         'TOXIN RECEPTOR': 6,\n",
              "         'ANTIVIRAL PROTEIN, RECOMBINATION': 1,\n",
              "         'Signaling Protein/Antagonist': 4,\n",
              "         'TRANSCRIPTION, ANTITUMOR PROTEIN': 3,\n",
              "         'Acetylcholine-Binding Protein': 30,\n",
              "         'ALDEHYDE DEHYDROGENASE': 4,\n",
              "         'TRANSPORT RECEPTOR': 4,\n",
              "         'BOWMAN-BIRK INHIBITOR': 2,\n",
              "         'Isomerase/Viral protein': 32,\n",
              "         'TRANSFERASE/transcription': 2,\n",
              "         'ISOMERASE, CELL CYCLE': 4,\n",
              "         'COMPLEX (SERINE ESTERASE/TOXIN)': 2,\n",
              "         'Hydrolase/receptor': 4,\n",
              "         'METAL BINDING PROTEIN/LIGASE': 2,\n",
              "         'Heme-binding protein': 4,\n",
              "         'COMPLEX (CALCIUM-BINDING/TRANSFERASE)': 2,\n",
              "         'Recombination/DNA binding': 1,\n",
              "         'SIGNALING PROTEIN/NEUROPEPTIDE': 2,\n",
              "         'hydrolase/antibiotic': 119,\n",
              "         'Hormone/Hormone Receptor': 2,\n",
              "         'VIRUS COAT PROTEIN': 3,\n",
              "         'COMPLEX (ADAPTOR PROTEIN/PEPTIDE)': 2,\n",
              "         'photosynthesis, metal transport': 1,\n",
              "         'STRUCTURAL GENOMICS,UNKNOWN FUNCTION': 21,\n",
              "         'membrane protein/antagonist': 4,\n",
              "         'GLYCINE BETAINE-BINDING PROTEIN': 2,\n",
              "         'membrane protein/metal transport': 21,\n",
              "         'BIOSYNTHETIC PROTEIN,isomerase': 2,\n",
              "         'pheromone-binding protein': 2,\n",
              "         'ONCOGENE PROTEIN': 22,\n",
              "         'calcium binding protein/antitumor protein': 4,\n",
              "         'PROTON TRANSPORT, HYDROLASE': 1,\n",
              "         'CELL ADHESION': 2999,\n",
              "         'MYRISTYLATION': 4,\n",
              "         'DNA binding protein/Transcription': 3,\n",
              "         'Lyase/Lyase inhibitor': 9,\n",
              "         'ACID ANHYDRIDE HYDROLASE': 4,\n",
              "         'HIGH DENSITY LIPOPROTEINS': 2,\n",
              "         'metal binding protein/Transferase': 2,\n",
              "         'ligase/ligase inhibitor': 94,\n",
              "         'DESIGNED HELICAL BUNDLE': 1,\n",
              "         'TRANSFERASE/Transferase regulator': 8,\n",
              "         'SYNTHASE': 90,\n",
              "         'Toxin, Lyase/Metal Binding Protein': 6,\n",
              "         'HYDROLASE, ISOMERASE': 9,\n",
              "         'ROTAMASE (ISOMERASE)': 2,\n",
              "         'VIRAL PROTEIN/ISOMERASE': 2,\n",
              "         'hydrolase/unknown function': 10,\n",
              "         'TRANSPORT PROTEIN/CONTRACTILE PROTEIN': 4,\n",
              "         'CHOLINE-BINDING PROTEIN': 85,\n",
              "         'Hydrolase, Apoptosis': 18,\n",
              "         'HYDROLASE/HORMONE': 48,\n",
              "         'IMMUNE SYSTEM, LIPID BINDING PROTEIN': 1,\n",
              "         'COMPLEX (TRANSFERASE/INHIBITOR)': 2,\n",
              "         'PROTEIN DEGRADATION': 1,\n",
              "         'oxidoreductase/oxidoreductase Inhibitor': 8,\n",
              "         'COMPLEX (GROWTH FACTOR/GROWTH FACTOR)': 2,\n",
              "         'Serine protease inhibitor': 3,\n",
              "         'translation/antibiotic': 2,\n",
              "         'Structure Genomics, unknown function': 41,\n",
              "         'BLOOD COAGULATION': 67,\n",
              "         'DNA BINDING PROTEIN/TRANSCRIPTION': 5,\n",
              "         'TOXIN, TRANSFERASE/TRANSFERASE INHIBITOR': 2,\n",
              "         'METALLOCHAPERONE': 6,\n",
              "         'Antibiotic, Hormone': 1,\n",
              "         'HYDROLASE/substrate': 12,\n",
              "         'WILLEBRAND': 1,\n",
              "         'MEMBRANE PROTEIN, OXIDOREDUCTASE': 10,\n",
              "         'TRANSPORT PROTEIN/RIBOSOMAL PROTEIN': 3,\n",
              "         'MULTICATALYTIC PROTEINASE': 28,\n",
              "         'TRANSLATION, TOXIN': 8,\n",
              "         'CELL CYCLE PROTEIN': 5,\n",
              "         'PROTEIN BIOSYNTHESIS': 8,\n",
              "         'ALPHA-HELICAL BUNDLE': 4,\n",
              "         'Protein Transport,Antimicrobial Protein': 2,\n",
              "         'TRANSFERASE/HYDROLASE/INHIBITOR': 20,\n",
              "         'TRANSPORT PROTEIN INHIBITOR': 6,\n",
              "         'NEURAMINIDASE': 1,\n",
              "         'PEPTIDE RECOGNITION': 4,\n",
              "         'Hormone receptor/antagonist': 2,\n",
              "         'Viral protein inhibitor': 1,\n",
              "         'SUGAR BINDING PROTEN': 1,\n",
              "         'ANTIBIOTIC INHIBITOR': 16,\n",
              "         'PROTEIN TRANSPORT,STRUCTURAL PROTEIN': 4,\n",
              "         'HISTIDINE BIOSYNTHESIS': 2,\n",
              "         'Transferase/Protein Binding': 24,\n",
              "         'CELL WALL BIOSYNTHESIS': 4,\n",
              "         'GLYCOLYTIC PATHWAY': 2,\n",
              "         'OXYGEN TRANSPORT': 977,\n",
              "         'TRANSPORT PROTEIN / PEPTIDE': 2,\n",
              "         'DOMAIN SWAPPING': 6,\n",
              "         'IMMUNE SYSTEM/CYTOKINE': 58,\n",
              "         'PEPTIDASE': 18,\n",
              "         'CASPASE RECRUITMENT DOMAIN': 1,\n",
              "         'XYLANASE A': 1,\n",
              "         'GALECTIN': 1,\n",
              "         'LIGASE/VIRAL PROTEIN': 66,\n",
              "         'ANTI-COAGULANT': 2,\n",
              "         'IMMUNOSUPPRESSANT': 5,\n",
              "         'COMPLEX(TRANSFERASE/PEPTIDE)': 2,\n",
              "         'COMPLEX (GTP-BINDING/ATP-BINDING)': 2,\n",
              "         'TRANSCRIPTION REGULATION PROTEIN': 1,\n",
              "         'OXIDOREDUCTASE/TRANSCRIPTION': 9,\n",
              "         'oxidoreductase, electron transport': 6,\n",
              "         'Oxidoreductase/METAL BINDING PROTEIN': 8,\n",
              "         'OXIDOREDUCTASE(H2O2(A))': 16,\n",
              "         'TRANSFERASE/RNA': 6,\n",
              "         'OXYGEN TRANSPORT/PROTEIN BINDING': 26,\n",
              "         'TROPOMYOSIN': 2,\n",
              "         'TRANSFERASE (GLUCOSYLTRANSFERASE)': 1,\n",
              "         'structural protein, signaling protein': 6,\n",
              "         'Viral Protein, Transferase': 1,\n",
              "         'Transport protein/toxin': 18,\n",
              "         'ALU DOMAIN': 1,\n",
              "         'TRANSFERASE/TRANSFERASE INHIBITOR': 3032,\n",
              "         'TRANSPORT PROTEIN/IMMUNE SYSTEM': 70,\n",
              "         'TRANSFERASE(GLUCANOTRANSFERASE)': 1,\n",
              "         'OXIDASE': 16,\n",
              "         'OXIDOREDUCTASE (CHOH(D)-NADP+(A))': 5,\n",
              "         'Thyroid hormone-binding protein': 6,\n",
              "         'ACYLPHOSPHATASE': 1,\n",
              "         'Oxidoreductase Activator': 1,\n",
              "         'ELECTRON TRANSPORT(COPPER)': 4,\n",
              "         'SIGNALING PROTEIN/PROTEIN BINDING': 70,\n",
              "         'INSULIN': 4,\n",
              "         'antimicrobial, antitumor protein': 1,\n",
              "         'CELL CYCLE/PROTEIN FIBRIL': 1,\n",
              "         'IMMUNE SYSTEM/MEMBRANE PROTEIN': 14,\n",
              "         'translation factor/antibiotic': 10,\n",
              "         'TRANSPORT PROTEIN RECEPTOR': 4,\n",
              "         'HYDROLASE(ACTING ON CYCLIC AMIDES)': 1,\n",
              "         'CELL ADHESION/ANTITUMOR PROTEIN': 4,\n",
              "         'LIGASE(AMIDE SYNTHETASE)': 36,\n",
              "         'viral protein, recombination': 4,\n",
              "         'COMPLEX (MHC PROTEINTIGEN)': 3,\n",
              "         'Transferase, Signaling Protein': 2,\n",
              "         'SPLICING, TRANSCRIPTION': 8,\n",
              "         'TRANSPORT PROTEIN/DNA binding Protein': 6,\n",
              "         'TRANSCRIPTION/TBP-ASSOCIATED FACTORS': 4,\n",
              "         'De Novo Protein, Hydrolase': 4,\n",
              "         'transport protein/transferase': 3,\n",
              "         'Structural Genomics/Unknown Function': 11,\n",
              "         'signaling protein / HYDROLASE': 2,\n",
              "         'Signaling Protein, Transport Protein': 2,\n",
              "         'LYASE,METAL BINDING PROTEIN': 20,\n",
              "         'METAL TRANSPORT': 1166,\n",
              "         'HYPERTHERMOPHILE': 1,\n",
              "         'SUGAR BINDING PROTEIN, IMMUNE SYSTEM': 2,\n",
              "         'PROTEIN BINDING/PEPTIDE': 32,\n",
              "         'Viral Protein/membrane protein': 4,\n",
              "         'TRANSCRIPTION TERMINATION': 4,\n",
              "         'CARBOXYLIC ESTER HYDROLASE': 14,\n",
              "         'HYDROLASE/MOTOR PROTEIN': 12,\n",
              "         'KRINGLE': 2,\n",
              "         'SIGNALING PROTEIN, HYDROLASE/ANTIBIOTIC': 2,\n",
              "         'UNKNOWN FUNCTION, PROTEIN BINDING': 6,\n",
              "         'REPLICATION, TRANSCRIPTION REGULATOR': 1,\n",
              "         'TRANSFERASE, RNA BINDING PROTEIN': 2,\n",
              "         'SIGNALING PROTEIN, HORMONE': 2,\n",
              "         'MHC II': 4,\n",
              "         'TRANSFERASE,OXIDOREDUCTASE/INHIBITOR': 5,\n",
              "         'D-L PEPTIDE': 2,\n",
              "         'hydrolase/hydrolase inhibitor': 734,\n",
              "         'TRANSPORT PROTEIN, CALCIUM BINDING PROTEIN': 2,\n",
              "         'DNA binding protein inhibitor': 2,\n",
              "         'BIOSYNTHETIC PROTEIN, FLAVOPROTEIN': 8,\n",
              "         'heme-binding protein': 10,\n",
              "         'PHOSPHOPROTEIN-BINDING DOMAIN': 8,\n",
              "         'BETA-CLAMP': 4,\n",
              "         'EXCHANGE FACTOR': 2,\n",
              "         'TRANSLATION REGULATOR': 8,\n",
              "         'ACTIN BINDING PROTEIN': 7,\n",
              "         'METHIONINE-BINDING PROTEIN': 5,\n",
              "         'ELECTRON TRANSFER(FLAVOPROTEIN)': 1,\n",
              "         'TRANSIT PEPTIDE': 3,\n",
              "         'BACTERIAL CHEMOTAXIS': 2,\n",
              "         'ALKALINE PHOSPHATASE': 14,\n",
              "         'TRANSCRIPTION/DNA': 9,\n",
              "         'Transcription activator': 3,\n",
              "         'SIGNALING PROTEIN/INHIBITOR': 155,\n",
              "         'signaling Protein/transferase/Inhibitor': 6,\n",
              "         'PROTEIN TRANSPORT/DNA BINDING PROTEIN': 10,\n",
              "         'Transcription/protein binding/inhibitor': 4,\n",
              "         'HEPATIC LECTIN': 2,\n",
              "         'TRANSPORT PROTEIN/inhibitor': 3,\n",
              "         'LYSOSOMAL ASPARTIC PROTEASE': 4,\n",
              "         'CALMODULIN-BINDING PROTEIN': 2,\n",
              "         'IMMUNE SYSTEM/CHAPERONE': 22,\n",
              "         'BINDING PROTEIN(IMMUNOGLOBULIN L CHAIN)': 1,\n",
              "         'PROTEIN TRANSPORT/Ligase': 4,\n",
              "         'TRANSCRIPTION/APOPTOSIS': 1,\n",
              "         'TRANSCRIPTION REGULATOR, OXIDOREDUCTASE': 4,\n",
              "         'CRYSTALLINE CELLULOSE-BINDING PROTEIN': 1,\n",
              "         'STRUCTURAL GENOMICS,   UNKNOWN FUNCTION': 3,\n",
              "         'IMMUNE SYSTEM/LIGASE': 2,\n",
              "         'Blood Coagulation,OXIDOREDUCTASE': 1,\n",
              "         'RIBOFLAVIN SYNTHASE': 30,\n",
              "         'Hydrolase, METAL BINDING PROTEIN': 2,\n",
              "         'PROTEIN BINDING/LIPID BINDING PROTEIN': 12,\n",
              "         'COMPLEX (IMMUNORECEPTOR/IMMUNOGLOBULIN)': 8,\n",
              "         'ANGIOGENIN': 2,\n",
              "         'DNA-BINDING (VIRAL)': 4,\n",
              "         'TRANSCRIPTION, RNA BINDING PROTEIN': 1,\n",
              "         'ADHESIN': 17,\n",
              "         'STRUCTURAL PROTEIN/SIGNALING PROTEIN': 5,\n",
              "         'photoreceptor': 9,\n",
              "         'RNA BINDING PROTEIN/Transferase': 2,\n",
              "         'HYDROLASE ACTIVATOR/SIGNALING PROTEIN': 2,\n",
              "         'SIGNALING PROTEIN,TRANSFERASE,MEMBRANE PROTEIN': 1,\n",
              "         'THIOL PROTEASE INHIBITOR': 3,\n",
              "         'TRANSCRIPTIONAL REGULATORY PROTEIN': 2,\n",
              "         'GENE-REGULATING PROTEIN': 4,\n",
              "         'TRANSPORT PROTEIN/AGONIST': 10,\n",
              "         'TRANSFERASE/METAL-BINDING PROTEIN': 6,\n",
              "         'MATRIX PROTEIN': 19,\n",
              "         'LYMPHOKINE': 19,\n",
              "         'ISOMERASE/ANTIBIOTIC': 1,\n",
              "         'CELL CYCLE/TRANSFERASE SUBSTRATE': 6,\n",
              "         'CHROMATIN REGULATOR': 4,\n",
              "         'Biosynthetic Protein/Protein Binding': 4,\n",
              "         'NEUROTOXIN (POST-SYNAPTIC)': 1,\n",
              "         'BLOOD CLOTTING/HYDROLASE INHIBITOR': 52,\n",
              "         'STEROID BINDING PROTEIN': 3,\n",
              "         'MAGNETITE-BINDING PROTEIN': 4,\n",
              "         'AMINOACYL-TRNA SYNTHETASE': 14,\n",
              "         'MEMBRANE': 2,\n",
              "         'CELL ADHESION/MEMBRANE PROTEIN': 3,\n",
              "         'COMPLEX (KINASE/PEPTIDE)': 8,\n",
              "         'NITRITE REDUCTASE': 2,\n",
              "         'OXIDOREDUCTASE/STRUCTURAL PROTEIN': 2,\n",
              "         'DE NOVO PROTEIN, HYDROLASE': 5,\n",
              "         'Oxidoreductase/Protein Binding': 4,\n",
              "         'SUGAR BINDING PROTEIN/PEPTIDE': 6,\n",
              "         'TRANSPORT PROTEIN': 8371,\n",
              "         'OXIDOREDUCTASE/TRANSFERASE': 74,\n",
              "         'heme binding protein': 4,\n",
              "         'METHANOGENESIS': 30,\n",
              "         'Transferase/transferase activator': 1,\n",
              "         'transcription regulation/ANTIBIOTIC': 2,\n",
              "         'FIMBRIAL PROTEIN': 8,\n",
              "         'TRANSCRIPTION, CELL CYCLE': 2,\n",
              "         'DE NOVO PROTEIN/HYDROLASE': 6,\n",
              "         'THIOESTERASE': 2,\n",
              "         'Immune System/Viral protein': 6,\n",
              "         'RNA CAP': 1,\n",
              "         'DYE-BINDING PROTEIN': 5,\n",
              "         'Hydrolase/Toxin': 6,\n",
              "         'COMPLEX (METHYLTRANSFERASE/PEPTIDE)': 2,\n",
              "         'Transcription/Transferase': 38,\n",
              "         'METAL BINDING PROTEIN/INHIBITOR': 15,\n",
              "         'S-ADENOSYLMETHIONINE DECARBOXYLASE': 4,\n",
              "         'HYDROLASE (PHOSPHORIC MONOESTER)': 54,\n",
              "         'CONNECTIN': 1,\n",
              "         'Protein binding/inhibitor': 4,\n",
              "         'KINASE INHIBITOR/PEPTIDE': 8,\n",
              "         'LYASE/BIOSYNTHETIC PROTEIN': 5,\n",
              "         'LYASE, PROTEIN BINDING, PHOTOSYNTHESIS': 8,\n",
              "         'REACTION CENTRE': 3,\n",
              "         'SYNTHETASE': 4,\n",
              "         'UBIQUITIN-BINDING DOMAIN': 1,\n",
              "         'ISOMERASE(PEPTIDYL-PROLYL CIS-TRANS)': 3,\n",
              "         'Hydrolase/hydrolase inhibitor': 42,\n",
              "         'PROTEIN BINDING/Ligase': 6,\n",
              "         'PROTEIN BINDING, LIGASE': 6,\n",
              "         'PROTEIN': 5,\n",
              "         'TRANSFERASE,HYDROLASE/TRANSPORT PROTEIN': 12,\n",
              "         'OXIDOREDUCTASE (CHOH(D) - NAD(P))': 4,\n",
              "         'ISOMERASE/CHAPERONE': 9,\n",
              "         'CARBOHYDRATE-BINDING DOMAIN': 2,\n",
              "         'ZINC ENDOPEPTIDASE': 5,\n",
              "         'Human serum albumin binding protein': 1,\n",
              "         'RESTRICTION ENDONUCLEASE': 1,\n",
              "         'Hydrolase/transferase': 4,\n",
              "         'COMPLEX (THIAZOLIDINEDIONE/RECEPTOR)': 3,\n",
              "         'IRON STORAGE/ELECTRON TRANSPORT': 48,\n",
              "         'HYDROLASE(GUANYLORIBONUCLEASE)': 4,\n",
              "         'STRUCTURAL PROTEIN/PROTEIN BINDING': 30,\n",
              "         'NAD-BINDING PROTEIN': 4,\n",
              "         'COMPLEX (HYDROLASE/INHIBITOR)': 34,\n",
              "         'CELL CYCLE, APOPTOSIS': 1,\n",
              "         'ANTIBIOTIC, ANTIMICROBIAL PROTEIN': 3,\n",
              "         'Endocytosis/exocytosis': 18,\n",
              "         'FLUORESCENT PROTEIN/PROTEIN BINDING': 3,\n",
              "         'ELECTRON TRANSFER(CUPROPROTEIN)': 16,\n",
              "         'PEPTIDE HORMONE': 2,\n",
              "         'COMPLEX (HYDROLASE (O-GLYCOSYL)/CYS)': 1,\n",
              "         'ANTITUMOR PROTEIN': 108,\n",
              "         'Cytokine,  HORMONE/GROWTH FACTOR': 3,\n",
              "         'SERINE PROTEINASE INHIBITOR': 13,\n",
              "         'DEVELOPMENTAL PROTEIN': 2,\n",
              "         'Hydrolase, Ligase': 7,\n",
              "         'Transferase/Protein Transport/Inhibitor': 2,\n",
              "         'REPLICATION': 573,\n",
              "         'PROTEIN BINDING, ligase': 4,\n",
              "         'RECEPTOR/INHIBITOR': 10,\n",
              "         'periplasmic binding protein': 2,\n",
              "         'DNA REPAIR, HYDROLASE': 2,\n",
              "         'Antibiotic binding protein/antibiotic': 2,\n",
              "         'VIRAL PROTEIN/PEPTIDE': 20,\n",
              "         'CELL ADHESION/IMMUNE SYSTEM/PEPTIDE': 50,\n",
              "         'DNA BINDING PROTEIN/DNA': 2,\n",
              "         'ONCOPROTEIN': 75,\n",
              "         'HYSROLASE/HYDROLASE INHIBITOR': 4,\n",
              "         'TRANSFERASE (GLUTATHIONE)': 12,\n",
              "         'S1 RNA-BINDING DOMAIN': 1,\n",
              "         'VIRAL PROTEIN/TRANSCRIPTION': 2,\n",
              "         'PROTEIN BINDING/HORMONE/GROWTH FACTOR': 13,\n",
              "         'SRC HOMOLOGY 2 DOMAIN': 1,\n",
              "         'Actin Binding': 4,\n",
              "         'CELL CYCLE, STRUCTURAL PROTEIN': 7,\n",
              "         'SUGAR BINDING, METAL BINDING PROTEIN': 4,\n",
              "         'HYDROLASE, SIGNALING PROTEIN': 24,\n",
              "         'TRANSCRIPTIONAL ANTITERMINATOR': 1,\n",
              "         'TRNA-MODIFYING ENZYME': 3,\n",
              "         'Structural protein, Immune system': 2,\n",
              "         'LIGASE/TRANSCRIPTION': 4,\n",
              "         'PENICILLIN BINDING': 2,\n",
              "         'TRANSCRIPTIONAL ACTIVATOR': 3,\n",
              "         'HYDROLASE,DNA binding protein': 3,\n",
              "         'STRUCTURAL GENOMICS, TRANSCRIPTION': 2,\n",
              "         'METAL TRANSPORT, TRANSPORT PROTEIN': 2,\n",
              "         'DNA BINDING PROTEIN/REPLICATION': 8,\n",
              "         'PHOSPHOTRANSFERASE': 180,\n",
              "         'BETA-LACTAMASE': 8,\n",
              "         'STRUCTURAL PROTEIN/CHAPERONE': 15,\n",
              "         'ISOMERASE/Inhibitor': 2,\n",
              "         'HEMATOPOIETIC CELL RECEPTOR': 2,\n",
              "         'VIRAL PROTEIN, FUSION PROTEIN': 2,\n",
              "         'CELLULOSE BINDING PROTEIN': 2,\n",
              "         'membrane protein, hydrolase': 28,\n",
              "         'Ligase/Transferase': 10,\n",
              "         'CELL CYCLE, SIGNALING PROTEIN': 6,\n",
              "         'transcription receptor': 2,\n",
              "         'LYASE/SIGNALING PROTEIN': 2,\n",
              "         'FERRITIN': 1,\n",
              "         'STRESS PROTEIN/LIPOCALIN': 2,\n",
              "         'TRANSCRIPTION/Peptide/Agonist': 8,\n",
              "         'CELL CYCLE, GENE REGULATION': 2,\n",
              "         'DNA BINDING PROTEIN, RECOMBINATION': 10,\n",
              "         'Viral protein complex': 8,\n",
              "         'POTASSIUM CHANNEL': 3,\n",
              "         'isomerase, lyase': 3,\n",
              "         'COLLAGEN FACIT XIV': 2,\n",
              "         'METALLOREGULATION': 2,\n",
              "         'TRANSFERASE/MOTOR PROTEIN': 6,\n",
              "         'APOPTOSIS, METAL BINDING PROTEIN': 1,\n",
              "         'TRANSFERASE, HYDROLASE/ANTIBIOTIC': 1,\n",
              "         'RIBOSOME, RNA BINDING PROTEIN': 1,\n",
              "         'DEOXYRIBONUCLEASE': 3,\n",
              "         'Structural Genomics, protein binding': 4,\n",
              "         'CHOLINE-BINDING DOMAIN': 12,\n",
              "         'PROTEIN TRANSPORT/CELL ADHESION': 2,\n",
              "         'SIGNALING PROTEIN/PEPTIDE': 87,\n",
              "         'TRANSFERASE/TRANSFERASE REGULATOR': 46,\n",
              "         'GLUTAMINE AMIDOTRANSFERASE': 6,\n",
              "         'Toxin,Hydrolase/protein binding': 4,\n",
              "         'SYNTHETIC PROTEIN': 1,\n",
              "         'Peptide,Transferase': 1,\n",
              "         'CELL CYCLE REGULATORY PROTEIN': 4,\n",
              "         'CHAPERONE, STRUCTURAL, MEMBRANE PROTEIN': 3,\n",
              "         'cell cycle inhibitor': 6,\n",
              "         'HYDROLASE(SH2 DOMAIN)': 9,\n",
              "         'APOPTOSIS, OXIDOREDUCTASE': 1,\n",
              "         'OXYGEN BINDING': 143,\n",
              "         'DNA BINDING PROTEIN/inhibitor': 8,\n",
              "         'TOXIN,LYASE/METAL BINDING PROTEIN': 18,\n",
              "         'MANGANESE SUPEROXIDE DISMUTASE': 2,\n",
              "         'CHITIN-BINDING': 1,\n",
              "         'Transcription/antitumor Protein': 2,\n",
              "         'TRANSDUCER': 1,\n",
              "         'Hydrolase/Apoptosis': 10,\n",
              "         'LIGASE/PROTEIN BINDING': 48,\n",
              "         'tranport protein, viral protein': 3,\n",
              "         'SERUM PROTEIN': 8,\n",
              "         'MRNA PROCESSING': 3,\n",
              "         'MEMBRANE PROTEIN/Agonist': 1,\n",
              "         'PYRIDOXAL PHOSPHATE': 2,\n",
              "         'Hormone/Transferase': 4,\n",
              "         'Resiniferatoxin binding protein': 4,\n",
              "         'APOPTOSIS INHIBITOR/APOPTOSIS': 2,\n",
              "         'GENE REGULATION/SIGNALING PROTEIN': 13,\n",
              "         'CONTRACTILE PROTEIN/peptide': 4,\n",
              "         'Exchange Factor': 1,\n",
              "         'MHC CLASS I': 6,\n",
              "         'NUCLEAR PROTEIN/NUCLEAR PROTEIN': 2,\n",
              "         'TRANSCRIPTIONAL REGULATION': 6,\n",
              "         'COMPLEMENT REGULATOR': 4,\n",
              "         'ATTRACTIN': 1,\n",
              "         'TRANSFERASE/INHIBITOR': 226,\n",
              "         'Viral protein/ translation': 4,\n",
              "         'CELL SHAPE REGULATION': 2,\n",
              "         'APOPTOSIS/APOPTOSIS REGULATOR': 33,\n",
              "         'LIGAND BINDING PROTEIN, BLOOD CLOTTING': 4,\n",
              "         'HEPATOCYTE GROWTH FACTOR': 1,\n",
              "         'Transcription/Transcription inhibitor': 7,\n",
              "         'Transferase/Antibiotic': 41,\n",
              "         'REPRESSOR': 16,\n",
              "         'IMMUNE SYSTEM, VIRAL PROTEIN': 3,\n",
              "         'phosphopantetheine binding protein': 2,\n",
              "         'PLANT SEED STORAGE PROTEIN (VICILIN)': 1,\n",
              "         'Transferase Activator': 2,\n",
              "         'CELL ADHESION/TRANSPORT/CHAPERONE': 6,\n",
              "         'HYDROLASE, PLANT PROTEIN': 5,\n",
              "         'BETA BETA ALPHA MOTIF': 1,\n",
              "         'ADAPTOR PROTEIN CONTAINING SH2 AND SH3': 2,\n",
              "         'PROTEIN BINDING, Ligase': 4,\n",
              "         'TRANSFERASE,HYDROLASE/INHIBITOR': 12,\n",
              "         'VIRAL PROTEIN/ANTIVIRAL PROTEIN': 16,\n",
              "         'OXIDOREDUCTASE, ISOMERASE': 4,\n",
              "         'LUMINESCENT PROTEIN': 457,\n",
              "         'TRANSFERASE (CREATINE KINASE)': 8,\n",
              "         'HYDROLASE (GLUCANASE)': 4,\n",
              "         'SIGNAL TRANSDUCTION ADAPTOR': 2,\n",
              "         'COMPLEX (TRNA SYNTHETASE/PEPTIDE)': 4,\n",
              "         'PROTEIN BINDING PROTEIN': 2,\n",
              "         'Transferase/Transport Protein': 2,\n",
              "         'ACTIN DEPOLYMERIZATION FACTOR': 1,\n",
              "         'LAYSE, TOXIN': 4,\n",
              "         'Cell adhesion/Cell adhesion': 8,\n",
              "         'VIRUS/RECEPTOR': 34,\n",
              "         'CHAPERONE/STRUCTURAL/MEMBRANE PROTEIN': 3,\n",
              "         'COMPLEX (BLOOD COAGULATION/PROENZYME)': 6,\n",
              "         'HYDROLASE / HYDROLASE INHIBITOR': 4,\n",
              "         'DNA BINDING': 12,\n",
              "         'OXIDODREDUCTASE/COPPER BINDING PROTEIN': 8,\n",
              "         'METAL TRANSPORT/MEMBRANE PROTEIN': 4,\n",
              "         'FUNGAL TOXIC ELICITOR': 2,\n",
              "         'TRANSPORT (THYROXINE,RETINOL) IN SERUM': 4,\n",
              "         'COMPLEX (PROTEIN/PROTEIN)': 6,\n",
              "         'OXIDOREDUCTASE, TRANSFERASE/INHIBITOR': 20,\n",
              "         'structural genomics, gene regulation': 10,\n",
              "         'LYASE, ISOMERASE': 29,\n",
              "         'Ligase,Protein Binding': 7,\n",
              "         'HISTOCOMPATIBILITY ANTIGEN': 78,\n",
              "         'TOXIN/SUGAR BINDING PROTEIN': 1,\n",
              "         'Avirulence Protein': 1,\n",
              "         'Carbohydrate binding protein': 14,\n",
              "         'TRANSFERASE/PEPTIDE': 121,\n",
              "         'COMPLEX (CYTOKINE/RECEPTOR)': 3,\n",
              "         'TRANSFERASE(THIOSULFATE,CYANIDE SULFUR)': 1,\n",
              "         'HORMONE, BINDING PROTEIN': 2,\n",
              "         'Ligase, Signaling Protein': 1,\n",
              "         'CEREAL INHIBITOR': 4,\n",
              "         'IMMUNE SYSTEM, STRUCTURAL PROTEIN': 6,\n",
              "         'INHIBITOR': 66,\n",
              "         'BACTERIAL ADHESIN': 1,\n",
              "         'PROTEIN BINDING, CELL CYCLE': 5,\n",
              "         'REPLICATION, RNA BINDING PROTEIN': 6,\n",
              "         'KINASE/HYDROLASE': 2,\n",
              "         'STRUCTURAL GENOMICS UNKNOWN FUNCTION': 3,\n",
              "         'TRANSFERASE/RECEPTOR': 2,\n",
              "         'hydrolase/substrate': 6,\n",
              "         'IMMUNOGLOBULIN/HYDROLASE(O-GLYCOSYL)': 6,\n",
              "         'FAMILY 10 XYLANASE': 8,\n",
              "         'SUGAR TRANSPORT': 6,\n",
              "         'FORMYLTRANSFERASE': 6,\n",
              "         'IRON-SULFUR PROTEIN': 5,\n",
              "         'TRANSFERASE/IMMUNE SYSTEM': 46,\n",
              "         'BINDING PROTEINS': 6,\n",
              "         'Protein Binding, Ligase': 4,\n",
              "         'PROTOHEME FERRO-LYASE': 1,\n",
              "         'transcription activator': 4,\n",
              "         'COMPLEX (PROTEIN TRANSPORT/PEPTIDE)': 6,\n",
              "         'LYASE (ALDEHYDE)': 11,\n",
              "         'serine protease, hydrolase': 4,\n",
              "         'PROTEIN TRANSPORT, RNA BINDING PROTEIN': 4,\n",
              "         'TRANSCRIPTION/TRANSCRIPTION inhibitor': 38,\n",
              "         'TRANSPORT PROTEIN/RNA BINDING PROTEIN': 12,\n",
              "         'Transferase/Nuclear Protein': 2,\n",
              "         'acetylcholine binding protein': 10,\n",
              "         'SULFOTRANSFERASE': 1,\n",
              "         'HYDROLASE, TRANSCRIPTION REGULATION': 3,\n",
              "         'PROTEIN BINDING/VIRAL PROTEIN': 8,\n",
              "         'TRANSLATION, PROTEIN TRANSPORT': 6,\n",
              "         'TOXIN/CELL CYCLE': 4,\n",
              "         'HYDROLASE/BLOOD CLOTTING': 42,\n",
              "         'Apoptosis, transcription': 2,\n",
              "         'COMPLEX (CYTOKINE RECEPTOR/PEPTIDE)': 4,\n",
              "         'CELL DIFFERENTIATION': 5,\n",
              "         'HYDROLASE(C-TERMINAL PEPTIDASE)': 8,\n",
              "         'Heparin-binding Protein': 1,\n",
              "         'Oxidoreductase/IMMUNE SYSTEM': 6,\n",
              "         'METAL-BINDING PROTEIN/INHIBITOR': 2,\n",
              "         'NEUROPEPTIDE/MEMBRANE PROTEIN': 4,\n",
              "         'METAL BINDING PROTEIN/PROTEIN TRANSPORT': 4,\n",
              "         'CELL CYCLE, LIGAND BINDING PROTEIN': 2,\n",
              "         'Immune system/Cytokine': 6,\n",
              "         'transport protein/immune system': 45,\n",
              "         'Protein Binding/Transferase': 2,\n",
              "         'Immune system/agonist': 54,\n",
              "         'PROTEIN TRANSPORT/INHIBITOR': 14,\n",
              "         'HYDROLASE/DNA': 6,\n",
              "         'Sugar binding protein, toxin': 1,\n",
              "         'GRISEOLUTEATE-BINDING PROTEIN': 6,\n",
              "         'MEMBRANE PROTEIN, PHOTOSYNTHESIS': 18,\n",
              "         'SIGNALING PROTEIN, LIPID TRANSPORT': 1,\n",
              "         'STRUCTURAL PROTEIN/TRANSCRIPTION': 2,\n",
              "         'carboxypeptidase': 6,\n",
              "         'STRUCTURAL PROTEIN/PEPTIDE': 12,\n",
              "         'HYDROLYASE/TRANSLATION': 1,\n",
              "         'SM-LIKE PROTEIN': 28,\n",
              "         'Structural Genomics, transferase': 2,\n",
              "         'CARDIAC STIMULANT': 1,\n",
              "         'COMPLEX (HUMANIZED ANTIBODY/HYDROLASE)': 6,\n",
              "         'IMMUNE SYSTEM/ANTIGEN': 19,\n",
              "         'SIGNALING PROTEIN/PEPTIDE INHIBITOR': 12,\n",
              "         'ACETYLCHOLINE BINDING PROTEIN': 84,\n",
              "         'PHOSPHOTRANSFERASE SYSTEM': 3,\n",
              "         'Transferase/Transcription Regulator': 16,\n",
              "         'membrane protein/transport protein': 5,\n",
              "         'Transferase/cAMP binding Protein': 4,\n",
              "         'Replication/Chaperone': 1,\n",
              "         'oxidoreductase/lyase': 2,\n",
              "         'XYLANASE': 8,\n",
              "         'SOLUTE BINDING PROTEIN': 9,\n",
              "         'PLANT SEED PROTEIN': 6,\n",
              "         'PROTEIN FIBRIL/Immune System': 3,\n",
              "         'LYASE (CARBON-CARBON)': 60,\n",
              "         'OXIDOREDUCTASE (ALDEHYDE(D)-NAD+(A))': 8,\n",
              "         'OXIDOREDUCTASE(CHNH(D)-NAD+ OR NADP+(A))': 1,\n",
              "         'CYTOCHROME': 7,\n",
              "         'ALLOSTERY': 1,\n",
              "         'CELL CYCLE/CELL CYCLE INHIBITOR': 3,\n",
              "         'PENTOSYLTRANSFERASE': 14,\n",
              "         'replication, hydrolase': 1,\n",
              "         'INSECT IMMUNITY': 2,\n",
              "         'REPLICATION REGULATOR': 11,\n",
              "         'LIGAND BINDING, TRANSPORT PROTEIN': 6,\n",
              "         'Oxidoreductase/Inhibitor': 30,\n",
              "         'VIRAL PROTEIN, TRANSFERASE': 1,\n",
              "         'SYNTHETIC PROTEIN MODEL': 1,\n",
              "         'TRANSPORT PROTEIN/CHAPERONE': 3,\n",
              "         'TRANSFERASE, STRUCTURAL PROTEIN, SIGNALING PROTEIN': 3,\n",
              "         'CLASS II ALDOLASE': 4,\n",
              "         'cytokine, Isomerase': 17,\n",
              "         'IMMUNE SYSTEM-VIRAL PROTEIN COMPLEX': 9,\n",
              "         'HYDROLASE/Peptide': 13,\n",
              "         'PLANT DEFENSIN': 1,\n",
              "         'HYDROLASE/TRANSFERASE': 30,\n",
              "         'ENDOCYTOSIS, HYDROLASE': 1,\n",
              "         'OXIDOREDUCTASE(OXYGENASE)': 24,\n",
              "         'IMMUNE SYSTEM/PEPTIDE': 67,\n",
              "         'RECOMBINATION': 192,\n",
              "         'IMMUNOGLOBULIN-LIKE DOMAIN': 2,\n",
              "         'CHAPERONE': 4156,\n",
              "         'CHAPERONE,PROTEIN TRANSPORT': 2,\n",
              "         'FUNGICIDE': 1,\n",
              "         'TRANSACTIVATION REGION': 2,\n",
              "         'structural genomics, METAL BINDING PROTEIN': 1,\n",
              "         'hydrolase, lyase': 8,\n",
              "         'TRANSCRIPTION RECEPTOR/COACTIVATOR': 4,\n",
              "         'THREE-HELIX BUNDLE': 1,\n",
              "         'Immune system/hydrolase inhibitor': 8,\n",
              "         'AMINE/CARBOXYLATE LIGASE': 1,\n",
              "         'Hydrolase/Ribosomal Protein': 8,\n",
              "         'METAL TRANSPORT, HYDROLASE': 4,\n",
              "         'MEMBRANE PROTEIN/OXIDOREDUCTASE': 6,\n",
              "         'OXIDOREDUCTASE, APOPTOSIS': 2,\n",
              "         'cytokine, ISOMERASE': 3,\n",
              "         'HORMONE RECEPTOR/PEPTIDE': 52,\n",
              "         'TRANSFERASE/NUCLEAR PROTEIN': 14,\n",
              "         'APOPTOSIS/CELL CYCLE/GENE REGULATION': 4,\n",
              "         'SERINE PROTEINASE': 20,\n",
              "         'CYTOKINE RECEPTOR': 4,\n",
              "         'RETINOL-BINDING PROTEIN': 7,\n",
              "         'TRANSFERASE,HYDROLASE': 13,\n",
              "         'COMPLEX (PHOSPHOTRANSFERASE/ADENOSINE)': 1,\n",
              "         'PHOSPHOLIPASE': 2,\n",
              "         'DNA BINDING PROTEIN, SUGAR BINDING PROTEIN': 1,\n",
              "         'COMPLEX(SERINE ESTERASE/INHIBITOR)': 1,\n",
              "         'TRANSPORT PROTEIN/CALCIUM BINDING': 10,\n",
              "         'CALCIUM-BINDING/TRANSFERASE': 2,\n",
              "         'Transferase/Antiobiotic': 2,\n",
              "         'Ligase/Ligase inhibitor': 48,\n",
              "         'ENDOCYTOSIS/EXOCYTOSIS,SIGNALING PROTEIN': 1,\n",
              "         'Immune system/Hydrolase': 18,\n",
              "         'membrane protein, metal transport': 34,\n",
              "         'MYOGLOBIN (CARBONMONOXY)': 1,\n",
              "         'PEROXIDASE (DONOR:H2O2 OXIDOREDUCTASE)': 5,\n",
              "         'HYDROLASE, IMMUNE SYSTEM': 25,\n",
              "         'Membrane Protein, Transferase': 1,\n",
              "         'CHAPERONE/CELL INVASION': 3,\n",
              "         'STRUCTURAL GENOMICS,BIOSYNTHETIC PROTEIN': 3,\n",
              "         'OXYGEN STORAGE/Transport': 45,\n",
              "         'MITOCHONDRIAL ELECTRON TRANSPORT': 2,\n",
              "         'LYASE (ACTING ON POLYSACCHARIDES)': 2,\n",
              "         'CELL CYCLE, REPLICATION': 8,\n",
              "         'Lyase Activator': 3,\n",
              "         'PROTEINASE INHIBITOR(KAZAL TYPE)': 1,\n",
              "         'HYDROLASE/DE NOVO PROTEIN': 58,\n",
              "         'VIRAL PROTEIN/REPLICATION INHIBITOR': 4,\n",
              "         'TRANSFERASE INHIBITOR': 11,\n",
              "         'CYTOKINE/Signaling Protein': 6,\n",
              "         'FORMIN BINDING PROTEIN': 1,\n",
              "         'DNA BINDING PROTEIN, PROTEIN BINDING': 7,\n",
              "         'FLAVIN-DEPENDENT OXIDASE ENZYME': 2,\n",
              "         'Transcription/Peptide': 10,\n",
              "         'RNA BINDING PROTEIN, HYDROLASE': 2,\n",
              "         'HISTIDINE KINASE': 1,\n",
              "         'TRANSLATION/LIGASE': 8,\n",
              "         'Transport Protein/Hydrolase Activator': 4,\n",
              "         'LEUCINE ZIPPER': 27,\n",
              "         'COMPLEX (IMMUNOGLOBULIN/RECEPTOR)': 6,\n",
              "         'Transcription/Agonist': 14,\n",
              "         'SH3-DOMAIN': 7,\n",
              "         'TRANSFERASE/ANTIBIOTIC/INHIBITOR': 2,\n",
              "         'TOXIN (HEMOLYTIC POLYPEPTIDE)': 4,\n",
              "         'AMP-BINDING PROTEIN': 1,\n",
              "         'OXIDOREDUCTASE/Inhibitor': 31,\n",
              "         'NUCLEAR HORMONE RECEPTOR': 7,\n",
              "         'biotin-binding protein': 7,\n",
              "         'METAL BINDING PROTEIN/PROTEIN BINDING': 12,\n",
              "         'ASPARTIC PROTEASE ZYMOGEN': 4,\n",
              "         'CHAPERONE/OXIDOREDUCTASE': 2,\n",
              "         'TRANSFERASE, SUGAR BINDING PROTEIN/SUBSTRATE': 4,\n",
              "         'Immune System, RNA Binding Protein': 10,\n",
              "         'STRUCTURAL GENOMICS, Unknown function': 3,\n",
              "         'PROTEASOME ACTIVATOR': 14,\n",
              "         'METAL BINDING PROTEIN/PEPTIDE BINDING PROTEIN': 2,\n",
              "         'Cell adhesion, immune system': 2,\n",
              "         'HYDROLASE REGULATOR': 29,\n",
              "         'COBALAMIN BIOSYNTHESIS': 3,\n",
              "         'BLOOD CLOTTING,HYDROLASE': 4,\n",
              "         'COMPLEX (HYDROLASE/CYTIDYLIC ACID)': 2,\n",
              "         'TERNARY COMPLEX (ZYMOGEN)': 4,\n",
              "         'TRANSFORMING GROWTH FACTOR': 1,\n",
              "         'TRANSCRIPTION, DNA REPAIR': 2,\n",
              "         'CHAPERONE/IMMUNE SYSTEM': 7,\n",
              "         'LIGASE,BIOSYNTHETIC PROTEIN': 4,\n",
              "         'Hormone/Hormone receptor': 2,\n",
              "         'NUCLEOTIDE MONOPHOSPHATE KINASE': 1,\n",
              "         'RECEPTOR INHIBITOR': 2,\n",
              "         'structural genomics, unknown function': 953,\n",
              "         'Antibody, Hydrolase': 4,\n",
              "         'HYDROLASE/RECEPTOR': 27,\n",
              "         'Odorant-Binding Protein': 2,\n",
              "         'Carbohydrate Binding Protein': 19,\n",
              "         'Oxidoreductase/oxidoreductase Inhibitor': 6,\n",
              "         'HYDROLASE/Antibiotic': 8,\n",
              "         'PROTON TRANSPORT,MEMBRANE PROTEIN': 24,\n",
              "         'Hydrolase/Hydrolase inhibitor': 217,\n",
              "         'viral protein, dna binding protein': 1,\n",
              "         'transcription repression': 7,\n",
              "         'OXIDOREDUCTASE/PEPTIDE': 42,\n",
              "         'bacteriochlorophyll binding protein': 14,\n",
              "         'Transferase/transferase inhibitor': 132,\n",
              "         'HYDROLASE(XYLAN DEGRADATION)': 3,\n",
              "         'PROTEIN BINDING/MOTOR PROTEIN': 8,\n",
              "         'CELL INVASION': 293,\n",
              "         'LIPID TRANSPORT/INHIBITOR': 2,\n",
              "         'transcription/transferase': 4,\n",
              "         'Octopine-binding protein': 2,\n",
              "         'VIRUS/TRANSFERASE': 2,\n",
              "         'TRYPTOPHAN BIOSYNTHESIS': 4,\n",
              "         'HYDRONLASE/HYDROLASE inhibitor': 28,\n",
              "         'CLATHRIN': 2,\n",
              "         'RHO-GTPASE INHIBITOR': 2,\n",
              "         'ANTIVIRAL PROTEIN,SUGAR BINDING PROTEIN': 2,\n",
              "         'signaling protein/inhibitor/activator': 6,\n",
              "         'HYDROLASE, CELL CYCLE': 5,\n",
              "         'Signaling Protein, Membrane Protein': 6,\n",
              "         'METAL BINDING PROTEIN, LIPID BINDING PROTEIN': 2,\n",
              "         'TRANSCRIPTION ACTIVATOR/ANTIBIOTIC': 4,\n",
              "         'APOPTOSIS, HYDROLASE/HYDROLASE INHIBITOR': 16,\n",
              "         'OXIDOREDUCTASE/RNA BINDING PROTEIN': 7,\n",
              "         'DNA BINDING PROTEIN, CHAPERONE': 7,\n",
              "         'H3K4me3 binding protein, Transferase': 4,\n",
              "         'MEMBRANE PROTEIN/METAL BINDING PROTEIN': 4,\n",
              "         'ONCOPROTEIN/INHIBITOR': 4,\n",
              "         'METAL BINDING PROTEIN/TRANSFERASE': 23,\n",
              "         'protein binding/toxin': 8,\n",
              "         'DISULFIDE OXIDOREDUCTASE': 10,\n",
              "         'CONTRACTILE SYSTEM PROTEINS': 1,\n",
              "         'DNA-BINDING MOTIF': 1,\n",
              "         'CHLOROPHYLL BIOSYNTHESIS': 4,\n",
              "         'SIGNALING PROTEIN, HYDROLASE ACTIVATOR': 4,\n",
              "         'Ligase/ligase activator': 4,\n",
              "         'OXIDOREDUCTASE,LYASE': 4,\n",
              "         'Oxygen Storage, Oxygen Transport': 6,\n",
              "         'DNA INTEGRATION': 23,\n",
              "         'OXIDOREDUCTASE(NAD(A)-CHOH(D))': 26,\n",
              "         'Oxidoreductase activator': 5,\n",
              "         'ANTIOXIDANT': 2,\n",
              "         'TRANSMEMBRANE PROTEIN': 11,\n",
              "         'Structural Genomics, unknown function': 50,\n",
              "         'protein binding/Ligase': 2,\n",
              "         'lyase/metal binding protein': 6,\n",
              "         'ADP-RIBOSE BINDING PROTEIN': 1,\n",
              "         'VIRAL PROTEIN, DNA-BINDING PROTEIN': 8,\n",
              "         'RIBOSOME INHIBITOR': 12,\n",
              "         'OXIDOREDUCTASE (CYTOCHROME(C)-OXYGEN)': 26,\n",
              "         'transcription regulator / ribosomal protein': 6,\n",
              "         'Unknown Function, Structural Genomics': 4,\n",
              "         'HISTIDINE-BINDING PROTEIN': 1,\n",
              "         'ACYLTRANSFERASE': 16,\n",
              "         'METAL BINDING PROTEIN/APOTOSIS': 2,\n",
              "         'TRANSCRIPTION REPRESSOR, CELL CYCLE': 5,\n",
              "         'TRANSFERASE/SIGNALING PROTEIN': 93,\n",
              "         'Isomerase/Transferase': 8,\n",
              "         'RNA BINDING PROTEIN, Transport protein': 2,\n",
              "         'signaling protein / cell adhesion': 4,\n",
              "         'Transport, Transferase': 1,\n",
              "         'Oxidoreductase,Transferase': 4,\n",
              "         'TRANSCRIPTION, TRANSFERASE': 44,\n",
              "         'Oxidoreductase/Immune system': 4,\n",
              "         'Solute Binding Protein': 1,\n",
              "         'TRANSPORT PROTEIN, membrane protein': 15,\n",
              "         'GLYCOLYSIS': 2,\n",
              "         'VIRAL PROTEIN, TRANSCRIPTION': 28,\n",
              "         'ACETYLATION': 3,\n",
              "         'Transferase/VIRAL PROTEIN': 2,\n",
              "         'TRANSFERASE (AMINOTRANSFERASE)': 20,\n",
              "         'DE NOVO PROTEIN, IMMUNE SYSTEM': 3,\n",
              "         'HORMONE RECEPTOR, HYDROLASE REGULATOR': 4,\n",
              "         'acyl-CoA binding protein': 2,\n",
              "         'EYE-LENS PROTEIN': 6,\n",
              "         'COMPLEX (IMMUNOGLOBULIN/HYDROLASE)': 15,\n",
              "         'SIGNALING PROTEIN/ONCOPROTEIN': 2,\n",
              "         'IMMUNE SYSTEM, SUGAR BINDING PROTEIN': 55,\n",
              "         'Transport Protein, Membrane protein': 1,\n",
              "         'GLUTATHIONE BIOSYNTHESIS LIGASE': 2,\n",
              "         'TELOKIN-LIKE PROTEIN': 1,\n",
              "         'DNA BINDING (VIRAL)': 1,\n",
              "         'ADHESION': 4,\n",
              "         'hydrolase/hydrolase INHIBITOR': 2,\n",
              "         'VIRAL PROTEIN, PROTEIN BINDING': 4,\n",
              "         'ASPARAGINASE': 12,\n",
              "         'LECTIN/IMMUNE SYSTEM': 2,\n",
              "         'TRANSFERASE ACTIVATOR/TRANSFERASE': 39,\n",
              "         'Oncoprotein/Hydrolase': 6,\n",
              "         'TONB DEPENDENT RECEPTOR': 2,\n",
              "         'MOTOR PROTEIN/INHIBITOR': 1,\n",
              "         'Cytokine Regulator': 2,\n",
              "         'COMPLEX (PHOSPHOTRANSFERASE/RECEPTOR)': 2,\n",
              "         'THIOLASE': 4,\n",
              "         'TRANSPORT PROTEIN, RECEPTOR': 18,\n",
              "         'COUPLING PROTEIN': 36,\n",
              "         'Oxidoreductase/electron transport': 18,\n",
              "         'GENE REGULATION,NUCLEAR PROTEIN': 1,\n",
              "         'RIBONUCLEASE INHIBITOR': 5,\n",
              "         'PROTEIN FIBRIL, LIGASE': 8,\n",
              "         'HISTONE': 2,\n",
              "         'CELL DIVISION': 31,\n",
              "         'IMMUNE SYSTEM/APOPTOSIS': 6,\n",
              "         'OXIDOREDUCTASE/OXIDOREDUCTASE': 2,\n",
              "         'viral protein/Immune system': 3,\n",
              "         'UBIQUITIN-CONJUGATING ENZYME': 1,\n",
              "         'HYDROLASE, Viral protein': 4,\n",
              "         'HYDROLASE/Signaling Protein': 6,\n",
              "         'HYDROLASE/HYROLASE INHIBITOR': 6,\n",
              "         'OXIDOREDUCTASE, MEMBRANE PROTEIN': 9,\n",
              "         'APOPTOSIS/APOPTOSIS INHIBITOR': 28,\n",
              "         'VIRAL PROTEIN/DE NOVO PROTEIN': 12,\n",
              "         'ACETYLATION AND ACTIN-BINDING': 2,\n",
              "         'viral protein/transcription inhibitor': 10,\n",
              "         'MUTATOR PROTEIN': 1,\n",
              "         'HYDROLASE': 46336,\n",
              "         'HYDROLASE-TRANSPEPTIDASE': 2,\n",
              "         'lipid transport/activator': 3,\n",
              "         'TRANSFERASE/ACTIVATOR': 3,\n",
              "         'Plant Protein, BIOSYNTHETIC PROTEIN': 2,\n",
              "         'PROTEIN BINDING, INHIBITOR': 2,\n",
              "         'Viral Protein/Immune system': 2,\n",
              "         'IMMUNE SYSTEM/OXIDOREDUCTASE': 20,\n",
              "         'COMPLEX (MHC I/PEPTIDE)': 22,\n",
              "         'COMPLEX (HYDROLASE/PEPTIDE)': 17,\n",
              "         'oxidoreductase, transferase': 8,\n",
              "         'PROTEIN BINDING, TRANSCRIPTION': 2,\n",
              "         'DESIGNED PEPTIDE': 1,\n",
              "         'MEMBRANE PROTEIN, TRANSFERASE': 2,\n",
              "         'TRANSFERASE , HYDROLASE': 1,\n",
              "         'IMMUNE SYSTEM/ cell adhesion': 12,\n",
              "         'Apoptosis, Signaling protein': 4,\n",
              "         'PROTEIN BINDING/MEMBRANE PROTEIN': 6,\n",
              "         'HYDROLASE, GENE REGULATION': 5,\n",
              "         'COMPLEX (SERINE PROTEINASE/PROSEGMENT)': 2,\n",
              "         'METAL BINDING PROTEIN, SIGNALING PROTEIN': 8,\n",
              "         'ENDOCYTOSIS, EXOCYTOSIS': 2,\n",
              "         'RIBOSOMAL PROTEIN/NUCLEAR PROTEIN': 4,\n",
              "         'COMPLEX(BIOTIN-BINDING PROTEIN/PEPTIDE)': 10,\n",
              "         'CYTOKINE(CHEMOTACTIC)': 4,\n",
              "         'OXIDOREDUCTASE INHIBITOR': 1,\n",
              "         'TRANSCRIPTION/HYDROLASE': 10,\n",
              "         'COMPLEX (ISOMERASE/PROTEIN KINASE)': 8,\n",
              "         'TRANSFERASE,TRANSCRIPTION': 2,\n",
              "         'Signaling Protein/Peptide': 26,\n",
              "         'LIGASE (SYNTHETASE)': 13,\n",
              "         'Structural protein, CELL AHDESION': 1,\n",
              "         'STRUCTURAL PROTEIN, PROTEIN BINDING': 21,\n",
              "         'FATTY ACID METABOLISM': 1,\n",
              "         'TRANSLATION/IMMUNE SYSTEM': 6,\n",
              "         'ONCOPROTEIN, VIRUS/VIRAL PROTEIN': 3,\n",
              "         'PHOSPHORYLCHOLINE-BINDING PROTEIN': 2,\n",
              "         'DNA BINDING PROTEIN/STRUCTURAL GENOMICS': 2,\n",
              "         'Transferase/Cell cycle': 8,\n",
              "         'HYDROLASE (PROTEINASE)': 1,\n",
              "         'CALMODULIN-PEPTIDE COMPLEX': 2,\n",
              "         'LIGAND RECEPTOR/TRANSCRIPTION REGULATION': 2,\n",
              "         'microtubule binding protein': 16,\n",
              "         'LYASE': 11682,\n",
              "         'chaperone,hydrolase': 3,\n",
              "         'PHOSPHATE TRANSPORT': 10,\n",
              "         'PROTEIN BINDING, ONCOPROTEIN': 1,\n",
              "         'ANTIMICROBIAL': 7,\n",
              "         'DNA BINDING PROTEIN, protein binding': 1,\n",
              "         'TRANSFERASE/TRANSFERASE INHIBOTOR': 1,\n",
              "         'oxidoreductase, metal binding protein': 1,\n",
              "         'TRANSLATION/REGULATION PROTEIN': 1,\n",
              "         'CHROMOSOME SEGREGATION': 22,\n",
              "         'DNA BINDING PROTEIN/PROTEIN': 2,\n",
              "         'Immune system/viral protein receptor': 3,\n",
              "         'GENE REGULATING PROTEIN': 13,\n",
              "         'ELECTRON TRANSPORT (CUPROPROTEIN)': 1,\n",
              "         'COMPLEX (PROTEASE/INHIBITOR)': 13,\n",
              "         'ATP BINDING PROTEIN': 13,\n",
              "         'SIGNALING PROTEIN,PROTEIN BINDING': 1,\n",
              "         'SIGNALING PROTEIN, TRANSPORT PROTEIN': 1,\n",
              "         'TRANSPORT PROTEIN/PROTEIN BINDING': 28,\n",
              "         'PROTEIN BINDING, HYDROLASE': 14,\n",
              "         'PROTEIN BINDING/Cell Adhesion': 3,\n",
              "         'TRANSFERASE, TRANSCRIPTION': 21,\n",
              "         'STRUCTURAL GENOMICS, OXIDOREDUCTASE': 3,\n",
              "         'CYTOKINE/Transferase Receptor': 4,\n",
              "         'Ligase, Hydrolase': 2,\n",
              "         'AMINOTRANSFERASE': 94,\n",
              "         'MEMBRANE PROTEIN/ISOMERASE': 2,\n",
              "         'SIGNALING PROTEIN/SIGNALING PROTEIN': 51,\n",
              "         'COILED COIL': 7,\n",
              "         'CHAPERONE/INHIBITOR': 11,\n",
              "         'Metal binding protein/target peptide': 2,\n",
              "         'HYDROLASE  INHIBITOR': 1,\n",
              "         'VIRAL PROTEIN, STRUCTURAL PROTEIN': 2,\n",
              "         'LATE PROTEIN': 1,\n",
              "         'IMMUNE SYSTEM/BLOOD CLOTTING': 6,\n",
              "         'MOTOR PROTEIN/METAL-BINDNG PROTEIN': 2,\n",
              "         'COMPLEX (CHROMOSOMAL TRANSLOCATION/ADE)': 1,\n",
              "         'TOXIN/TOXIN INHIBITOR': 13,\n",
              "         'Hydrolysis/Apoptosis': 1,\n",
              "         'FLAVOPROTEIN/TRANSCRIPTION': 3,\n",
              "         'Metal Binding Protein/Transferase': 2,\n",
              "         'BIOSYNTHETIC PROTEIN, RNA BINDING': 20,\n",
              "         'HORMONE/GROWTH FACTOR/HORMONE RECEPTOR': 3,\n",
              "         'GLUTATHIONE REDUCTASE': 1,\n",
              "         'OXIDOREDUCTASE(FLAVOPROTEIN)': 6,\n",
              "         'GLYCOSYLTRANSFERASE': 40,\n",
              "         'REPLICATION,OXIDOREDUCTASE': 1,\n",
              "         'SIGNALING PROTEIN,HYDROLASE': 7,\n",
              "         'SYNTHETIC PEPTIDE': 20,\n",
              "         'Penicillin Binding Protein/Antibiotic': 1,\n",
              "         'PROTEIN TURNOVER': 5,\n",
              "         'SUGAR BINDING PROTEIN, VIRAL PROTEIN': 7,\n",
              "         'SUGAR BINDING PROTEIN, PROTEIN FIBRIL': 6,\n",
              "         'HYDROLASE,LYASE': 2,\n",
              "         'PHOSPHORIBOSYLTRANSFERASE': 23,\n",
              "         'GTP binding protein/Transferase': 2,\n",
              "         'HYDROLASE/HYDROLASE RECEPTOR': 15,\n",
              "         'Signaling protein complex': 1,\n",
              "         'Ligase/Ligase Inhibitor': 35,\n",
              "         'Transcription/Replication': 2,\n",
              "         'Chaperone/Chaperone Effector': 2,\n",
              "         'CELL CYCLE/PROTEIN-BINDING': 2,\n",
              "         'LYASE (OXO-ACID)': 27,\n",
              "         'TRANSFERASE': 36424,\n",
              "         'NUCLEAR PROTEIN/RNA BINDING PROTEIN': 1,\n",
              "         'Hormone Binding Protein': 1,\n",
              "         'HYDROLASE (PROTEASE)': 5,\n",
              "         'Hormone activator': 1,\n",
              "         'COMPLEX (KINASE/ANTI-ONCOGENE)': 2,\n",
              "         'Hydrolase/antibiotic': 24,\n",
              "         'HORMONE/HORMONE RECEPTOR': 20,\n",
              "         'Transport Protein/RNA Binding Protein': 2,\n",
              "         'REPLICATION INHIBITOR': 12,\n",
              "         'NEUROPEPTIDE': 64,\n",
              "         'HYPOTHETICAL PROTEIN': 17,\n",
              "         'RNA BINDING PROTEIN/HYDROLASE': 2,\n",
              "         'hormone binding protein': 16,\n",
              "         'BETA-AMYLASE': 1,\n",
              "         'TRANSPORT PROTEIN/ISOMERASE': 248,\n",
              "         'COMPLEX(LECTIN/SACCHARIDE)': 10,\n",
              "         'ADP RIBOSE-BINDING PROTEIN': 1,\n",
              "         'TRANSFERASE/SUBSTRATE': 8,\n",
              "         'CALCIUM-BINDING PROTEIN/HORMONE RECEPTOR': 3,\n",
              "         'hydrolase, toxin': 3,\n",
              "         'APOPTOSIS/SIGNALLING PROTEIN': 2,\n",
              "         'HYDROLAST/HYDROLASE INHIBITOR': 1,\n",
              "         'Toxin, Protein Binding': 16,\n",
              "         'GTP-BINDING': 3,\n",
              "         'Hydrolase/Transferase': 4,\n",
              "         'BINDING PROTEIN': 69,\n",
              "         'CONDENSING ENZYME': 1,\n",
              "         'OXIDOREDUCTASE(COPPER)': 4,\n",
              "         'METAL BINDING PROTEIN, UNKNOWN FUNCTION': 2,\n",
              "         'VIB BINDING PROTEIN': 2,\n",
              "         'BIOSYNTHETIC PROTEIN, TRANSLATION': 2,\n",
              "         'Hydrolase/Antibody': 10,\n",
              "         'ANTIBIOTIC BIOSYNTHESIS': 13,\n",
              "         'CHAPERONE-BINDING PROTEIN/CHAPERONE': 2,\n",
              "         'TRANSCRIPTION REPRESSOR': 53,\n",
              "         'ISOMERASE/BIOSYNTHETIC PROTEIN': 10,\n",
              "         'CHROMOSOMAL PROTEIN': 9,\n",
              "         'STRUCTURAL PROTEIN, BLOOD CLOTTING': 3,\n",
              "         'COMPLEX(ANTIBODY/HIV-1 FRAGMENT)': 3,\n",
              "         'OXIDOREDUCTASE/OXIDOREDUCTASE inhibitor': 66,\n",
              "         'FLAVOENZYME': 35,\n",
              "         'LIGASE, CELL CYCLE': 6,\n",
              "         'RNA BINDING PROTEIN/ANTIMICROBIAL': 2,\n",
              "         'HYDROLASE (UREA AMIDO)': 6,\n",
              "         'STRUCTURAL PROTEIN/TRANSPORT PROTEIN': 6,\n",
              "         'BLOOD CLOTTING, CELL ADHESION': 3,\n",
              "         'RAN BINDING PROTEIN/PEPTIDE': 4,\n",
              "         'CHOLESTEROL-BINDING PROTEIN': 2,\n",
              "         'SIGNALING PROTEIN/De Novo Protein': 4,\n",
              "         'CIRCADIAN RHYTHM': 2,\n",
              "         'TRANSFERASE, IMMUNE SYSTEM/METAL BINDING PROTEIN': 16,\n",
              "         'HYDROLASE(PHOSPHORIC DIESTER,RNA)': 21,\n",
              "         'RNA BINDING PROTEIN/STRUCTURAL PROTEIN': 1,\n",
              "         'SIGNALING PROTEIN complex': 6,\n",
              "         'ENDOCYTOSIS, PROTEIN BINDING': 2,\n",
              "         'STRUCTURE FROM CYANA 3.97': 3,\n",
              "         'PHOTOSYSTEM II': 1,\n",
              "         'SIGNALLING PROTEIN,LIGASE': 2,\n",
              "         'TRANSFORMING PROTEIN': 2,\n",
              "         'HYDROLASE inhibitor': 11,\n",
              "         'Transcription/DNA binding protein': 7,\n",
              "         'TRANSFERASE (GLUTAMINE AMIDOTRANSFERASE)': 12,\n",
              "         'ISOMERASE, HYDROLASE': 22,\n",
              "         'Acetylcholine-binding protein/agonist': 80,\n",
              "         'LIGASE/PEPTIDE': 22,\n",
              "         'STRUCTURAL PROTEIN/HYDROLASE': 37,\n",
              "         'PEPTIDE BINDING/SIGNALING PROTEIN': 2,\n",
              "         'TRANSFERASE(PHOSPHO,ALCOHOL ACCEPTOR)': 1,\n",
              "         'HYDROLASE/HYDROLASE INTHIBITOR': 2,\n",
              "         'SPLICING/SIGNALING PROTEIN': 2,\n",
              "         'Formylglycinamide Synthetase': 4,\n",
              "         'TRANSFERASE/GENE REGULATION': 12,\n",
              "         'Protein Transport/Splicing': 6,\n",
              "         'AMINE OXIDASE': 6,\n",
              "         'METHYLTRANSFERASE': 76,\n",
              "         'MEMBRANE PROTEIN/VIRAL PROTEIN': 3,\n",
              "         'Oxidoreductase, hydrolase': 1,\n",
              "         'Antifreeze protein, Cell adhesion': 1,\n",
              "         'hydrolase/PROTEIN BINDING': 2,\n",
              "         'EPIMERASE/REDUCTASE': 3,\n",
              "         'blood clotting,hydrolase': 2,\n",
              "         'CYTOKINE/CYTOKINE RECEPTOR': 135,\n",
              "         ...})"
            ]
          },
          "metadata": {
            "tags": []
          },
          "execution_count": 6
        }
      ]
    },
    {
      "cell_type": "markdown",
      "metadata": {
        "id": "1_-ffL5JHqvt",
        "colab_type": "text"
      },
      "source": [
        "SE SELECCIONAN LAS CLASES QUE CONTENGAN MAYOR CANTIDAD DE DATOS"
      ]
    },
    {
      "cell_type": "code",
      "metadata": {
        "id": "n4cn-mDW0xZu",
        "colab_type": "code",
        "outputId": "26e0ca58-cb70-48e0-8fa4-95351cbbf76c",
        "colab": {
          "base_uri": "https://localhost:8080/",
          "height": 204
        }
      },
      "source": [
        "data = cnt.most_common()[:10]\n",
        "clases = [c[0] for c in data]\n",
        "len(data),data"
      ],
      "execution_count": 7,
      "outputs": [
        {
          "output_type": "execute_result",
          "data": {
            "text/plain": [
              "(10,\n",
              " [('HYDROLASE', 46336),\n",
              "  ('TRANSFERASE', 36424),\n",
              "  ('OXIDOREDUCTASE', 34321),\n",
              "  ('IMMUNE SYSTEM', 15615),\n",
              "  ('LYASE', 11682),\n",
              "  ('HYDROLASE/HYDROLASE INHIBITOR', 11218),\n",
              "  ('TRANSCRIPTION', 8919),\n",
              "  ('VIRAL PROTEIN', 8495),\n",
              "  ('TRANSPORT PROTEIN', 8371),\n",
              "  ('VIRUS', 6972)])"
            ]
          },
          "metadata": {
            "tags": []
          },
          "execution_count": 7
        }
      ]
    },
    {
      "cell_type": "code",
      "metadata": {
        "id": "lOCgJGwu0xZy",
        "colab_type": "code",
        "colab": {}
      },
      "source": [
        "data_set = df[[c in clases for c in df.classification]]\n",
        "data_set_arr=np.asarray(data_set)"
      ],
      "execution_count": 0,
      "outputs": []
    },
    {
      "cell_type": "markdown",
      "metadata": {
        "id": "j2zy9w47HyEP",
        "colab_type": "text"
      },
      "source": [
        "SE REALIZA UN TRATAMIENTO PARA QUE EN LO POSIBLE TODAS LAS CLASES QUEDEN CON LA MISMA CANTIDAD DE DATOS, PARA EL CASO DEL PROYECTO SE BUSCO QUE TODAS LAS CLASES TUVIERAN AL MENOS LA MISMA CANTIDAD QUE LA MENOR DE LAS 10 CLASES QUE MAS DATOS, EN ESTE CASO 'VIRUS' LA CUAL TENIAN 6972"
      ]
    },
    {
      "cell_type": "code",
      "metadata": {
        "id": "aX10PN4TPgMw",
        "colab_type": "code",
        "colab": {}
      },
      "source": [
        "data_work=[]\n",
        "c_clase=6972\n",
        "for clas in clases:\n",
        "  count=0\n",
        "  j=1\n",
        "  for i in data_set.classification:\n",
        "    if i == clas and count < c_clase:\n",
        "      data_work.append(data_set_arr[j])\n",
        "      count=count+1 \n",
        "    j=j+1"
      ],
      "execution_count": 0,
      "outputs": []
    },
    {
      "cell_type": "code",
      "metadata": {
        "id": "EHKmQMvzSQes",
        "colab_type": "code",
        "outputId": "d3d767ae-d6f6-4e16-96e0-853fc76cda88",
        "colab": {
          "base_uri": "https://localhost:8080/",
          "height": 3332
        }
      },
      "source": [
        "data_work=pd.DataFrame(data_work,columns=['structureId','classification','experimentalTechnique','macromoleculeType_x','residueCount_x','resolution','structureMolecularWeight','crystallizationMethod','crystallizationTempK','densityMatthews','densityPercentSol\t','pdbxDetails','phValue','publicationYear','chainId','sequence','residueCount_y','macromoleculeType_y'])\n",
        "data_work"
      ],
      "execution_count": 10,
      "outputs": [
        {
          "output_type": "execute_result",
          "data": {
            "text/html": [
              "<div>\n",
              "<style scoped>\n",
              "    .dataframe tbody tr th:only-of-type {\n",
              "        vertical-align: middle;\n",
              "    }\n",
              "\n",
              "    .dataframe tbody tr th {\n",
              "        vertical-align: top;\n",
              "    }\n",
              "\n",
              "    .dataframe thead th {\n",
              "        text-align: right;\n",
              "    }\n",
              "</style>\n",
              "<table border=\"1\" class=\"dataframe\">\n",
              "  <thead>\n",
              "    <tr style=\"text-align: right;\">\n",
              "      <th></th>\n",
              "      <th>structureId</th>\n",
              "      <th>classification</th>\n",
              "      <th>experimentalTechnique</th>\n",
              "      <th>macromoleculeType_x</th>\n",
              "      <th>residueCount_x</th>\n",
              "      <th>resolution</th>\n",
              "      <th>structureMolecularWeight</th>\n",
              "      <th>crystallizationMethod</th>\n",
              "      <th>crystallizationTempK</th>\n",
              "      <th>densityMatthews</th>\n",
              "      <th>densityPercentSol</th>\n",
              "      <th>pdbxDetails</th>\n",
              "      <th>phValue</th>\n",
              "      <th>publicationYear</th>\n",
              "      <th>chainId</th>\n",
              "      <th>sequence</th>\n",
              "      <th>residueCount_y</th>\n",
              "      <th>macromoleculeType_y</th>\n",
              "    </tr>\n",
              "  </thead>\n",
              "  <tbody>\n",
              "    <tr>\n",
              "      <th>0</th>\n",
              "      <td>117E</td>\n",
              "      <td>HYDROLASE</td>\n",
              "      <td>X-RAY DIFFRACTION</td>\n",
              "      <td>Protein</td>\n",
              "      <td>572</td>\n",
              "      <td>2.15</td>\n",
              "      <td>65203.21</td>\n",
              "      <td>NaN</td>\n",
              "      <td>NaN</td>\n",
              "      <td>2.71</td>\n",
              "      <td>54.69</td>\n",
              "      <td>17-19% MPD, 25 MM MES, PH 6.0, 1 MM MNCL2, 0.5...</td>\n",
              "      <td>6.00</td>\n",
              "      <td>1998.0</td>\n",
              "      <td>B</td>\n",
              "      <td>TYTTRQIGAKNTLEYKVYIEKDGKPVSAFHDIPLYADKENNIFNMV...</td>\n",
              "      <td>572</td>\n",
              "      <td>Protein</td>\n",
              "    </tr>\n",
              "    <tr>\n",
              "      <th>1</th>\n",
              "      <td>11BA</td>\n",
              "      <td>HYDROLASE</td>\n",
              "      <td>X-RAY DIFFRACTION</td>\n",
              "      <td>Protein</td>\n",
              "      <td>248</td>\n",
              "      <td>2.06</td>\n",
              "      <td>28700.28</td>\n",
              "      <td>NaN</td>\n",
              "      <td>NaN</td>\n",
              "      <td>2.48</td>\n",
              "      <td>50.36</td>\n",
              "      <td>pH 4.8</td>\n",
              "      <td>4.80</td>\n",
              "      <td>1998.0</td>\n",
              "      <td>A</td>\n",
              "      <td>KESAAAKFERQHMDSGNSPSSSSNYCNLMMCCRKMTQGKCKPVNTF...</td>\n",
              "      <td>248</td>\n",
              "      <td>Protein</td>\n",
              "    </tr>\n",
              "    <tr>\n",
              "      <th>2</th>\n",
              "      <td>11BA</td>\n",
              "      <td>HYDROLASE</td>\n",
              "      <td>X-RAY DIFFRACTION</td>\n",
              "      <td>Protein</td>\n",
              "      <td>248</td>\n",
              "      <td>2.06</td>\n",
              "      <td>28700.28</td>\n",
              "      <td>NaN</td>\n",
              "      <td>NaN</td>\n",
              "      <td>2.48</td>\n",
              "      <td>50.36</td>\n",
              "      <td>pH 4.8</td>\n",
              "      <td>4.80</td>\n",
              "      <td>1998.0</td>\n",
              "      <td>B</td>\n",
              "      <td>KESAAAKFERQHMDSGNSPSSSSNYCNLMMCCRKMTQGKCKPVNTF...</td>\n",
              "      <td>248</td>\n",
              "      <td>Protein</td>\n",
              "    </tr>\n",
              "    <tr>\n",
              "      <th>3</th>\n",
              "      <td>11BG</td>\n",
              "      <td>HYDROLASE</td>\n",
              "      <td>X-RAY DIFFRACTION</td>\n",
              "      <td>Protein</td>\n",
              "      <td>248</td>\n",
              "      <td>1.90</td>\n",
              "      <td>30391.41</td>\n",
              "      <td>NaN</td>\n",
              "      <td>NaN</td>\n",
              "      <td>2.40</td>\n",
              "      <td>48.68</td>\n",
              "      <td>pH 4.8</td>\n",
              "      <td>4.80</td>\n",
              "      <td>1999.0</td>\n",
              "      <td>A</td>\n",
              "      <td>KESAAAKFERQHMDSGNSPSSSSNYCNLMMCCRKMTQGKCKPVNTF...</td>\n",
              "      <td>248</td>\n",
              "      <td>Protein</td>\n",
              "    </tr>\n",
              "    <tr>\n",
              "      <th>4</th>\n",
              "      <td>11BG</td>\n",
              "      <td>HYDROLASE</td>\n",
              "      <td>X-RAY DIFFRACTION</td>\n",
              "      <td>Protein</td>\n",
              "      <td>248</td>\n",
              "      <td>1.90</td>\n",
              "      <td>30391.41</td>\n",
              "      <td>NaN</td>\n",
              "      <td>NaN</td>\n",
              "      <td>2.40</td>\n",
              "      <td>48.68</td>\n",
              "      <td>pH 4.8</td>\n",
              "      <td>4.80</td>\n",
              "      <td>1999.0</td>\n",
              "      <td>B</td>\n",
              "      <td>KESAAAKFERQHMDSGNSPSSSSNYCNLMMCCRKMTQGKCKPVNTF...</td>\n",
              "      <td>248</td>\n",
              "      <td>Protein</td>\n",
              "    </tr>\n",
              "    <tr>\n",
              "      <th>5</th>\n",
              "      <td>11GS</td>\n",
              "      <td>TRANSFERASE</td>\n",
              "      <td>X-RAY DIFFRACTION</td>\n",
              "      <td>Protein</td>\n",
              "      <td>420</td>\n",
              "      <td>2.30</td>\n",
              "      <td>48366.94</td>\n",
              "      <td>NaN</td>\n",
              "      <td>NaN</td>\n",
              "      <td>2.53</td>\n",
              "      <td>51.44</td>\n",
              "      <td>pH 6.4</td>\n",
              "      <td>6.40</td>\n",
              "      <td>1997.0</td>\n",
              "      <td>A</td>\n",
              "      <td>MPPYTVVYFPVRGRCAALRMLLADQGQSWKEEVVTVETWQEGSLKA...</td>\n",
              "      <td>420</td>\n",
              "      <td>Protein</td>\n",
              "    </tr>\n",
              "    <tr>\n",
              "      <th>6</th>\n",
              "      <td>178L</td>\n",
              "      <td>HYDROLASE</td>\n",
              "      <td>X-RAY DIFFRACTION</td>\n",
              "      <td>Protein</td>\n",
              "      <td>164</td>\n",
              "      <td>2.71</td>\n",
              "      <td>18633.27</td>\n",
              "      <td>NaN</td>\n",
              "      <td>NaN</td>\n",
              "      <td>3.71</td>\n",
              "      <td>66.87</td>\n",
              "      <td>NaN</td>\n",
              "      <td>NaN</td>\n",
              "      <td>1995.0</td>\n",
              "      <td>A</td>\n",
              "      <td>MNIFEMLRIDEGLRLKIYKDTEGYYTIGIGHLLTKSPSLNAAKSEL...</td>\n",
              "      <td>164</td>\n",
              "      <td>Protein</td>\n",
              "    </tr>\n",
              "    <tr>\n",
              "      <th>7</th>\n",
              "      <td>17GS</td>\n",
              "      <td>TRANSFERASE</td>\n",
              "      <td>X-RAY DIFFRACTION</td>\n",
              "      <td>Protein</td>\n",
              "      <td>420</td>\n",
              "      <td>1.90</td>\n",
              "      <td>48010.02</td>\n",
              "      <td>NaN</td>\n",
              "      <td>NaN</td>\n",
              "      <td>2.62</td>\n",
              "      <td>53.09</td>\n",
              "      <td>pH 6.6</td>\n",
              "      <td>6.60</td>\n",
              "      <td>NaN</td>\n",
              "      <td>A</td>\n",
              "      <td>MPPYTVVYFPVRGRCAALRMLLADQGQSWKEEVVTVETWQEGSLKA...</td>\n",
              "      <td>420</td>\n",
              "      <td>Protein</td>\n",
              "    </tr>\n",
              "    <tr>\n",
              "      <th>8</th>\n",
              "      <td>1A1Q</td>\n",
              "      <td>HYDROLASE</td>\n",
              "      <td>X-RAY DIFFRACTION</td>\n",
              "      <td>Protein</td>\n",
              "      <td>567</td>\n",
              "      <td>2.40</td>\n",
              "      <td>59880.04</td>\n",
              "      <td>NaN</td>\n",
              "      <td>NaN</td>\n",
              "      <td>3.18</td>\n",
              "      <td>62.00</td>\n",
              "      <td>VAPOR DIFFUSION. PROTEIN MIXED WITH WELL SOLUT...</td>\n",
              "      <td>6.50</td>\n",
              "      <td>1996.0</td>\n",
              "      <td>A</td>\n",
              "      <td>APITAYSQQTRGLLGCIITSLTGRDKNQVEGEVQVVSTATQSFLAT...</td>\n",
              "      <td>567</td>\n",
              "      <td>Protein</td>\n",
              "    </tr>\n",
              "    <tr>\n",
              "      <th>9</th>\n",
              "      <td>1A1Q</td>\n",
              "      <td>HYDROLASE</td>\n",
              "      <td>X-RAY DIFFRACTION</td>\n",
              "      <td>Protein</td>\n",
              "      <td>567</td>\n",
              "      <td>2.40</td>\n",
              "      <td>59880.04</td>\n",
              "      <td>NaN</td>\n",
              "      <td>NaN</td>\n",
              "      <td>3.18</td>\n",
              "      <td>62.00</td>\n",
              "      <td>VAPOR DIFFUSION. PROTEIN MIXED WITH WELL SOLUT...</td>\n",
              "      <td>6.50</td>\n",
              "      <td>1996.0</td>\n",
              "      <td>B</td>\n",
              "      <td>APITAYSQQTRGLLGCIITSLTGRDKNQVEGEVQVVSTATQSFLAT...</td>\n",
              "      <td>567</td>\n",
              "      <td>Protein</td>\n",
              "    </tr>\n",
              "    <tr>\n",
              "      <th>10</th>\n",
              "      <td>1A1Q</td>\n",
              "      <td>HYDROLASE</td>\n",
              "      <td>X-RAY DIFFRACTION</td>\n",
              "      <td>Protein</td>\n",
              "      <td>567</td>\n",
              "      <td>2.40</td>\n",
              "      <td>59880.04</td>\n",
              "      <td>NaN</td>\n",
              "      <td>NaN</td>\n",
              "      <td>3.18</td>\n",
              "      <td>62.00</td>\n",
              "      <td>VAPOR DIFFUSION. PROTEIN MIXED WITH WELL SOLUT...</td>\n",
              "      <td>6.50</td>\n",
              "      <td>1996.0</td>\n",
              "      <td>C</td>\n",
              "      <td>APITAYSQQTRGLLGCIITSLTGRDKNQVEGEVQVVSTATQSFLAT...</td>\n",
              "      <td>567</td>\n",
              "      <td>Protein</td>\n",
              "    </tr>\n",
              "    <tr>\n",
              "      <th>11</th>\n",
              "      <td>1A1R</td>\n",
              "      <td>VIRAL PROTEIN</td>\n",
              "      <td>X-RAY DIFFRACTION</td>\n",
              "      <td>Protein</td>\n",
              "      <td>442</td>\n",
              "      <td>2.50</td>\n",
              "      <td>47008.85</td>\n",
              "      <td>NaN</td>\n",
              "      <td>NaN</td>\n",
              "      <td>4.60</td>\n",
              "      <td>73.00</td>\n",
              "      <td>PROTEIN WAS CRYSTALLIZED FROM 1.8 M NACL, 100 ...</td>\n",
              "      <td>6.50</td>\n",
              "      <td>1996.0</td>\n",
              "      <td>A</td>\n",
              "      <td>ASMTGGQQMGAPITAYAQQTRGLLGCIITSLTGRDKNQVEGEVQIV...</td>\n",
              "      <td>442</td>\n",
              "      <td>Protein</td>\n",
              "    </tr>\n",
              "    <tr>\n",
              "      <th>12</th>\n",
              "      <td>1A30</td>\n",
              "      <td>HYDROLASE/HYDROLASE INHIBITOR</td>\n",
              "      <td>X-RAY DIFFRACTION</td>\n",
              "      <td>Protein</td>\n",
              "      <td>201</td>\n",
              "      <td>2.00</td>\n",
              "      <td>21984.99</td>\n",
              "      <td>NaN</td>\n",
              "      <td>NaN</td>\n",
              "      <td>2.65</td>\n",
              "      <td>42.50</td>\n",
              "      <td>pH 4.2</td>\n",
              "      <td>4.20</td>\n",
              "      <td>1998.0</td>\n",
              "      <td>A</td>\n",
              "      <td>PQITLWKRPLVTIKIGGQLKEALLDTGADDTVIEEMSLPGRWKPKM...</td>\n",
              "      <td>201</td>\n",
              "      <td>Protein</td>\n",
              "    </tr>\n",
              "    <tr>\n",
              "      <th>13</th>\n",
              "      <td>1A3B</td>\n",
              "      <td>HYDROLASE/HYDROLASE INHIBITOR</td>\n",
              "      <td>X-RAY DIFFRACTION</td>\n",
              "      <td>Protein</td>\n",
              "      <td>313</td>\n",
              "      <td>1.80</td>\n",
              "      <td>36405.20</td>\n",
              "      <td>NaN</td>\n",
              "      <td>NaN</td>\n",
              "      <td>2.46</td>\n",
              "      <td>47.00</td>\n",
              "      <td>20% PEG 8000, 0.05 M SODIUM PHOSPHATE, PH 7.15</td>\n",
              "      <td>7.15</td>\n",
              "      <td>1998.0</td>\n",
              "      <td>H</td>\n",
              "      <td>IVEGSDAEIGMSPWQVMLFRKSPQELLCGASLISDRWVLTAAHCLL...</td>\n",
              "      <td>313</td>\n",
              "      <td>Protein</td>\n",
              "    </tr>\n",
              "    <tr>\n",
              "      <th>14</th>\n",
              "      <td>1A3W</td>\n",
              "      <td>TRANSFERASE</td>\n",
              "      <td>X-RAY DIFFRACTION</td>\n",
              "      <td>Protein</td>\n",
              "      <td>1000</td>\n",
              "      <td>3.00</td>\n",
              "      <td>110405.26</td>\n",
              "      <td>NaN</td>\n",
              "      <td>NaN</td>\n",
              "      <td>2.64</td>\n",
              "      <td>53.36</td>\n",
              "      <td>pH 6.5</td>\n",
              "      <td>6.50</td>\n",
              "      <td>1998.0</td>\n",
              "      <td>A</td>\n",
              "      <td>MSRLERLTSLNVVAGSDLRRTSIIGTIGPKTNNPETLVALRKAGLN...</td>\n",
              "      <td>1000</td>\n",
              "      <td>Protein</td>\n",
              "    </tr>\n",
              "    <tr>\n",
              "      <th>15</th>\n",
              "      <td>1A4G</td>\n",
              "      <td>HYDROLASE</td>\n",
              "      <td>X-RAY DIFFRACTION</td>\n",
              "      <td>Protein</td>\n",
              "      <td>780</td>\n",
              "      <td>2.20</td>\n",
              "      <td>88085.78</td>\n",
              "      <td>NaN</td>\n",
              "      <td>NaN</td>\n",
              "      <td>2.86</td>\n",
              "      <td>56.95</td>\n",
              "      <td>pH 7.8</td>\n",
              "      <td>7.80</td>\n",
              "      <td>1998.0</td>\n",
              "      <td>B</td>\n",
              "      <td>EPEWTYPRLSCQGSTFQKALLISPHRFGEARGNSAPLIIREPFIAC...</td>\n",
              "      <td>780</td>\n",
              "      <td>Protein</td>\n",
              "    </tr>\n",
              "    <tr>\n",
              "      <th>16</th>\n",
              "      <td>1A4I</td>\n",
              "      <td>OXIDOREDUCTASE</td>\n",
              "      <td>X-RAY DIFFRACTION</td>\n",
              "      <td>Protein</td>\n",
              "      <td>602</td>\n",
              "      <td>1.50</td>\n",
              "      <td>66791.93</td>\n",
              "      <td>NaN</td>\n",
              "      <td>NaN</td>\n",
              "      <td>2.10</td>\n",
              "      <td>44.00</td>\n",
              "      <td>pH 5.5</td>\n",
              "      <td>5.50</td>\n",
              "      <td>1998.0</td>\n",
              "      <td>A</td>\n",
              "      <td>MAPAEILNGKEISAQIRARLKNQVTQLKEQVPGFTPRLAILQVGNR...</td>\n",
              "      <td>602</td>\n",
              "      <td>Protein</td>\n",
              "    </tr>\n",
              "    <tr>\n",
              "      <th>17</th>\n",
              "      <td>1A4L</td>\n",
              "      <td>HYDROLASE</td>\n",
              "      <td>X-RAY DIFFRACTION</td>\n",
              "      <td>Protein</td>\n",
              "      <td>1396</td>\n",
              "      <td>2.60</td>\n",
              "      <td>160195.47</td>\n",
              "      <td>NaN</td>\n",
              "      <td>NaN</td>\n",
              "      <td>2.60</td>\n",
              "      <td>58.00</td>\n",
              "      <td>20% PEG 3350, 100 MM NACL, 100 MM HEPES PH 7.0</td>\n",
              "      <td>7.00</td>\n",
              "      <td>1998.0</td>\n",
              "      <td>B</td>\n",
              "      <td>TPAFNKPKVELHVHLDGAIKPETILYFGKKRGIALPADTVEELRNI...</td>\n",
              "      <td>1396</td>\n",
              "      <td>Protein</td>\n",
              "    </tr>\n",
              "    <tr>\n",
              "      <th>18</th>\n",
              "      <td>1A4L</td>\n",
              "      <td>HYDROLASE</td>\n",
              "      <td>X-RAY DIFFRACTION</td>\n",
              "      <td>Protein</td>\n",
              "      <td>1396</td>\n",
              "      <td>2.60</td>\n",
              "      <td>160195.47</td>\n",
              "      <td>NaN</td>\n",
              "      <td>NaN</td>\n",
              "      <td>2.60</td>\n",
              "      <td>58.00</td>\n",
              "      <td>20% PEG 3350, 100 MM NACL, 100 MM HEPES PH 7.0</td>\n",
              "      <td>7.00</td>\n",
              "      <td>1998.0</td>\n",
              "      <td>C</td>\n",
              "      <td>TPAFNKPKVELHVHLDGAIKPETILYFGKKRGIALPADTVEELRNI...</td>\n",
              "      <td>1396</td>\n",
              "      <td>Protein</td>\n",
              "    </tr>\n",
              "    <tr>\n",
              "      <th>19</th>\n",
              "      <td>1A4L</td>\n",
              "      <td>HYDROLASE</td>\n",
              "      <td>X-RAY DIFFRACTION</td>\n",
              "      <td>Protein</td>\n",
              "      <td>1396</td>\n",
              "      <td>2.60</td>\n",
              "      <td>160195.47</td>\n",
              "      <td>NaN</td>\n",
              "      <td>NaN</td>\n",
              "      <td>2.60</td>\n",
              "      <td>58.00</td>\n",
              "      <td>20% PEG 3350, 100 MM NACL, 100 MM HEPES PH 7.0</td>\n",
              "      <td>7.00</td>\n",
              "      <td>1998.0</td>\n",
              "      <td>D</td>\n",
              "      <td>TPAFNKPKVELHVHLDGAIKPETILYFGKKRGIALPADTVEELRNI...</td>\n",
              "      <td>1396</td>\n",
              "      <td>Protein</td>\n",
              "    </tr>\n",
              "    <tr>\n",
              "      <th>20</th>\n",
              "      <td>1A4M</td>\n",
              "      <td>HYDROLASE</td>\n",
              "      <td>X-RAY DIFFRACTION</td>\n",
              "      <td>Protein</td>\n",
              "      <td>1396</td>\n",
              "      <td>1.95</td>\n",
              "      <td>160207.39</td>\n",
              "      <td>NaN</td>\n",
              "      <td>NaN</td>\n",
              "      <td>2.60</td>\n",
              "      <td>58.00</td>\n",
              "      <td>20% PEG 3350, 100 MM NACL, 100 MM HEPES PH 7.0</td>\n",
              "      <td>7.00</td>\n",
              "      <td>1998.0</td>\n",
              "      <td>A</td>\n",
              "      <td>TPAFNKPKVELHVHLDGAIKPETILYFGKKRGIALPADTVEELRNI...</td>\n",
              "      <td>1396</td>\n",
              "      <td>Protein</td>\n",
              "    </tr>\n",
              "    <tr>\n",
              "      <th>21</th>\n",
              "      <td>1A4M</td>\n",
              "      <td>HYDROLASE</td>\n",
              "      <td>X-RAY DIFFRACTION</td>\n",
              "      <td>Protein</td>\n",
              "      <td>1396</td>\n",
              "      <td>1.95</td>\n",
              "      <td>160207.39</td>\n",
              "      <td>NaN</td>\n",
              "      <td>NaN</td>\n",
              "      <td>2.60</td>\n",
              "      <td>58.00</td>\n",
              "      <td>20% PEG 3350, 100 MM NACL, 100 MM HEPES PH 7.0</td>\n",
              "      <td>7.00</td>\n",
              "      <td>1998.0</td>\n",
              "      <td>B</td>\n",
              "      <td>TPAFNKPKVELHVHLDGAIKPETILYFGKKRGIALPADTVEELRNI...</td>\n",
              "      <td>1396</td>\n",
              "      <td>Protein</td>\n",
              "    </tr>\n",
              "    <tr>\n",
              "      <th>22</th>\n",
              "      <td>1A4M</td>\n",
              "      <td>HYDROLASE</td>\n",
              "      <td>X-RAY DIFFRACTION</td>\n",
              "      <td>Protein</td>\n",
              "      <td>1396</td>\n",
              "      <td>1.95</td>\n",
              "      <td>160207.39</td>\n",
              "      <td>NaN</td>\n",
              "      <td>NaN</td>\n",
              "      <td>2.60</td>\n",
              "      <td>58.00</td>\n",
              "      <td>20% PEG 3350, 100 MM NACL, 100 MM HEPES PH 7.0</td>\n",
              "      <td>7.00</td>\n",
              "      <td>1998.0</td>\n",
              "      <td>C</td>\n",
              "      <td>TPAFNKPKVELHVHLDGAIKPETILYFGKKRGIALPADTVEELRNI...</td>\n",
              "      <td>1396</td>\n",
              "      <td>Protein</td>\n",
              "    </tr>\n",
              "    <tr>\n",
              "      <th>23</th>\n",
              "      <td>1A4M</td>\n",
              "      <td>HYDROLASE</td>\n",
              "      <td>X-RAY DIFFRACTION</td>\n",
              "      <td>Protein</td>\n",
              "      <td>1396</td>\n",
              "      <td>1.95</td>\n",
              "      <td>160207.39</td>\n",
              "      <td>NaN</td>\n",
              "      <td>NaN</td>\n",
              "      <td>2.60</td>\n",
              "      <td>58.00</td>\n",
              "      <td>20% PEG 3350, 100 MM NACL, 100 MM HEPES PH 7.0</td>\n",
              "      <td>7.00</td>\n",
              "      <td>1998.0</td>\n",
              "      <td>D</td>\n",
              "      <td>TPAFNKPKVELHVHLDGAIKPETILYFGKKRGIALPADTVEELRNI...</td>\n",
              "      <td>1396</td>\n",
              "      <td>Protein</td>\n",
              "    </tr>\n",
              "    <tr>\n",
              "      <th>24</th>\n",
              "      <td>1A4Q</td>\n",
              "      <td>HYDROLASE</td>\n",
              "      <td>X-RAY DIFFRACTION</td>\n",
              "      <td>Protein</td>\n",
              "      <td>780</td>\n",
              "      <td>1.90</td>\n",
              "      <td>88200.05</td>\n",
              "      <td>NaN</td>\n",
              "      <td>NaN</td>\n",
              "      <td>2.86</td>\n",
              "      <td>57.05</td>\n",
              "      <td>pH 7.8</td>\n",
              "      <td>7.80</td>\n",
              "      <td>1998.0</td>\n",
              "      <td>A</td>\n",
              "      <td>EPEWTYPRLSCQGSTFQKALLISPHRFGEARGNSAPLIIREPFIAC...</td>\n",
              "      <td>780</td>\n",
              "      <td>Protein</td>\n",
              "    </tr>\n",
              "    <tr>\n",
              "      <th>25</th>\n",
              "      <td>1A4Q</td>\n",
              "      <td>HYDROLASE</td>\n",
              "      <td>X-RAY DIFFRACTION</td>\n",
              "      <td>Protein</td>\n",
              "      <td>780</td>\n",
              "      <td>1.90</td>\n",
              "      <td>88200.05</td>\n",
              "      <td>NaN</td>\n",
              "      <td>NaN</td>\n",
              "      <td>2.86</td>\n",
              "      <td>57.05</td>\n",
              "      <td>pH 7.8</td>\n",
              "      <td>7.80</td>\n",
              "      <td>1998.0</td>\n",
              "      <td>B</td>\n",
              "      <td>EPEWTYPRLSCQGSTFQKALLISPHRFGEARGNSAPLIIREPFIAC...</td>\n",
              "      <td>780</td>\n",
              "      <td>Protein</td>\n",
              "    </tr>\n",
              "    <tr>\n",
              "      <th>26</th>\n",
              "      <td>1A4R</td>\n",
              "      <td>HYDROLASE</td>\n",
              "      <td>X-RAY DIFFRACTION</td>\n",
              "      <td>Protein</td>\n",
              "      <td>382</td>\n",
              "      <td>2.50</td>\n",
              "      <td>43561.04</td>\n",
              "      <td>NaN</td>\n",
              "      <td>NaN</td>\n",
              "      <td>2.90</td>\n",
              "      <td>51.00</td>\n",
              "      <td>pH 4.60</td>\n",
              "      <td>4.60</td>\n",
              "      <td>1999.0</td>\n",
              "      <td>A</td>\n",
              "      <td>MQTIKCVVVGDVAVGKTCLLISYTTNKFPSEYVPTVFDNYAVTVMI...</td>\n",
              "      <td>382</td>\n",
              "      <td>Protein</td>\n",
              "    </tr>\n",
              "    <tr>\n",
              "      <th>27</th>\n",
              "      <td>1A4R</td>\n",
              "      <td>HYDROLASE</td>\n",
              "      <td>X-RAY DIFFRACTION</td>\n",
              "      <td>Protein</td>\n",
              "      <td>382</td>\n",
              "      <td>2.50</td>\n",
              "      <td>43561.04</td>\n",
              "      <td>NaN</td>\n",
              "      <td>NaN</td>\n",
              "      <td>2.90</td>\n",
              "      <td>51.00</td>\n",
              "      <td>pH 4.60</td>\n",
              "      <td>4.60</td>\n",
              "      <td>1999.0</td>\n",
              "      <td>B</td>\n",
              "      <td>MQTIKCVVVGDVAVGKTCLLISYTTNKFPSEYVPTVFDNYAVTVMI...</td>\n",
              "      <td>382</td>\n",
              "      <td>Protein</td>\n",
              "    </tr>\n",
              "    <tr>\n",
              "      <th>28</th>\n",
              "      <td>1A4S</td>\n",
              "      <td>OXIDOREDUCTASE</td>\n",
              "      <td>X-RAY DIFFRACTION</td>\n",
              "      <td>Protein</td>\n",
              "      <td>2012</td>\n",
              "      <td>2.10</td>\n",
              "      <td>217689.59</td>\n",
              "      <td>NaN</td>\n",
              "      <td>287.0</td>\n",
              "      <td>2.43</td>\n",
              "      <td>41.00</td>\n",
              "      <td>PROTEIN WAS CRYSTALLIZED AT 14 DEGREES FROM 20...</td>\n",
              "      <td>7.50</td>\n",
              "      <td>1998.0</td>\n",
              "      <td>A</td>\n",
              "      <td>AQLVDSMPSASTGSVVVTDDLNYWGGRRIKSKDGATTEPVFEPATG...</td>\n",
              "      <td>2012</td>\n",
              "      <td>Protein</td>\n",
              "    </tr>\n",
              "    <tr>\n",
              "      <th>29</th>\n",
              "      <td>1A5H</td>\n",
              "      <td>HYDROLASE</td>\n",
              "      <td>X-RAY DIFFRACTION</td>\n",
              "      <td>Protein</td>\n",
              "      <td>518</td>\n",
              "      <td>2.90</td>\n",
              "      <td>58750.69</td>\n",
              "      <td>NaN</td>\n",
              "      <td>NaN</td>\n",
              "      <td>2.24</td>\n",
              "      <td>45.00</td>\n",
              "      <td>pH 4.5</td>\n",
              "      <td>4.50</td>\n",
              "      <td>1997.0</td>\n",
              "      <td>B</td>\n",
              "      <td>IKGGLFADIASHPWQAAIFAKHRRSPGERFLCGGILISSCWILSAA...</td>\n",
              "      <td>518</td>\n",
              "      <td>Protein</td>\n",
              "    </tr>\n",
              "    <tr>\n",
              "      <th>...</th>\n",
              "      <td>...</td>\n",
              "      <td>...</td>\n",
              "      <td>...</td>\n",
              "      <td>...</td>\n",
              "      <td>...</td>\n",
              "      <td>...</td>\n",
              "      <td>...</td>\n",
              "      <td>...</td>\n",
              "      <td>...</td>\n",
              "      <td>...</td>\n",
              "      <td>...</td>\n",
              "      <td>...</td>\n",
              "      <td>...</td>\n",
              "      <td>...</td>\n",
              "      <td>...</td>\n",
              "      <td>...</td>\n",
              "      <td>...</td>\n",
              "      <td>...</td>\n",
              "    </tr>\n",
              "    <tr>\n",
              "      <th>69690</th>\n",
              "      <td>6F9D</td>\n",
              "      <td>VIRUS</td>\n",
              "      <td>ELECTRON MICROSCOPY</td>\n",
              "      <td>Protein</td>\n",
              "      <td>4482</td>\n",
              "      <td>13.30</td>\n",
              "      <td>490946.84</td>\n",
              "      <td>NaN</td>\n",
              "      <td>NaN</td>\n",
              "      <td>NaN</td>\n",
              "      <td>NaN</td>\n",
              "      <td>NaN</td>\n",
              "      <td>NaN</td>\n",
              "      <td>2018.0</td>\n",
              "      <td>F</td>\n",
              "      <td>DPGCSELIQASSRITTCSTEGVNTKCRLSGTALIRAGSVGAEACLM...</td>\n",
              "      <td>4482</td>\n",
              "      <td>Protein</td>\n",
              "    </tr>\n",
              "    <tr>\n",
              "      <th>69691</th>\n",
              "      <td>6F9D</td>\n",
              "      <td>VIRUS</td>\n",
              "      <td>ELECTRON MICROSCOPY</td>\n",
              "      <td>Protein</td>\n",
              "      <td>4482</td>\n",
              "      <td>13.30</td>\n",
              "      <td>490946.84</td>\n",
              "      <td>NaN</td>\n",
              "      <td>NaN</td>\n",
              "      <td>NaN</td>\n",
              "      <td>NaN</td>\n",
              "      <td>NaN</td>\n",
              "      <td>NaN</td>\n",
              "      <td>2018.0</td>\n",
              "      <td>G</td>\n",
              "      <td>EDPHLRNRPGKGHNYIDGMTQEDATCKPVTYAGACSSFDVLLEKGK...</td>\n",
              "      <td>4482</td>\n",
              "      <td>Protein</td>\n",
              "    </tr>\n",
              "    <tr>\n",
              "      <th>69692</th>\n",
              "      <td>6F9D</td>\n",
              "      <td>VIRUS</td>\n",
              "      <td>ELECTRON MICROSCOPY</td>\n",
              "      <td>Protein</td>\n",
              "      <td>4482</td>\n",
              "      <td>13.30</td>\n",
              "      <td>490946.84</td>\n",
              "      <td>NaN</td>\n",
              "      <td>NaN</td>\n",
              "      <td>NaN</td>\n",
              "      <td>NaN</td>\n",
              "      <td>NaN</td>\n",
              "      <td>NaN</td>\n",
              "      <td>2018.0</td>\n",
              "      <td>H</td>\n",
              "      <td>DPGCSELIQASSRITTCSTEGVNTKCRLSGTALIRAGSVGAEACLM...</td>\n",
              "      <td>4482</td>\n",
              "      <td>Protein</td>\n",
              "    </tr>\n",
              "    <tr>\n",
              "      <th>69693</th>\n",
              "      <td>6F9D</td>\n",
              "      <td>VIRUS</td>\n",
              "      <td>ELECTRON MICROSCOPY</td>\n",
              "      <td>Protein</td>\n",
              "      <td>4482</td>\n",
              "      <td>13.30</td>\n",
              "      <td>490946.84</td>\n",
              "      <td>NaN</td>\n",
              "      <td>NaN</td>\n",
              "      <td>NaN</td>\n",
              "      <td>NaN</td>\n",
              "      <td>NaN</td>\n",
              "      <td>NaN</td>\n",
              "      <td>2018.0</td>\n",
              "      <td>I</td>\n",
              "      <td>EDPHLRNRPGKGHNYIDGMTQEDATCKPVTYAGACSSFDVLLEKGK...</td>\n",
              "      <td>4482</td>\n",
              "      <td>Protein</td>\n",
              "    </tr>\n",
              "    <tr>\n",
              "      <th>69694</th>\n",
              "      <td>6F9D</td>\n",
              "      <td>VIRUS</td>\n",
              "      <td>ELECTRON MICROSCOPY</td>\n",
              "      <td>Protein</td>\n",
              "      <td>4482</td>\n",
              "      <td>13.30</td>\n",
              "      <td>490946.84</td>\n",
              "      <td>NaN</td>\n",
              "      <td>NaN</td>\n",
              "      <td>NaN</td>\n",
              "      <td>NaN</td>\n",
              "      <td>NaN</td>\n",
              "      <td>NaN</td>\n",
              "      <td>2018.0</td>\n",
              "      <td>J</td>\n",
              "      <td>DPGCSELIQASSRITTCSTEGVNTKCRLSGTALIRAGSVGAEACLM...</td>\n",
              "      <td>4482</td>\n",
              "      <td>Protein</td>\n",
              "    </tr>\n",
              "    <tr>\n",
              "      <th>69695</th>\n",
              "      <td>6F9D</td>\n",
              "      <td>VIRUS</td>\n",
              "      <td>ELECTRON MICROSCOPY</td>\n",
              "      <td>Protein</td>\n",
              "      <td>4482</td>\n",
              "      <td>13.30</td>\n",
              "      <td>490946.84</td>\n",
              "      <td>NaN</td>\n",
              "      <td>NaN</td>\n",
              "      <td>NaN</td>\n",
              "      <td>NaN</td>\n",
              "      <td>NaN</td>\n",
              "      <td>NaN</td>\n",
              "      <td>2018.0</td>\n",
              "      <td>K</td>\n",
              "      <td>EDPHLRNRPGKGHNYIDGMTQEDATCKPVTYAGACSSFDVLLEKGK...</td>\n",
              "      <td>4482</td>\n",
              "      <td>Protein</td>\n",
              "    </tr>\n",
              "    <tr>\n",
              "      <th>69696</th>\n",
              "      <td>6F9D</td>\n",
              "      <td>VIRUS</td>\n",
              "      <td>ELECTRON MICROSCOPY</td>\n",
              "      <td>Protein</td>\n",
              "      <td>4482</td>\n",
              "      <td>13.30</td>\n",
              "      <td>490946.84</td>\n",
              "      <td>NaN</td>\n",
              "      <td>NaN</td>\n",
              "      <td>NaN</td>\n",
              "      <td>NaN</td>\n",
              "      <td>NaN</td>\n",
              "      <td>NaN</td>\n",
              "      <td>2018.0</td>\n",
              "      <td>L</td>\n",
              "      <td>DPGCSELIQASSRITTCSTEGVNTKCRLSGTALIRAGSVGAEACLM...</td>\n",
              "      <td>4482</td>\n",
              "      <td>Protein</td>\n",
              "    </tr>\n",
              "    <tr>\n",
              "      <th>69697</th>\n",
              "      <td>6F9E</td>\n",
              "      <td>VIRUS</td>\n",
              "      <td>ELECTRON MICROSCOPY</td>\n",
              "      <td>Protein</td>\n",
              "      <td>4482</td>\n",
              "      <td>13.30</td>\n",
              "      <td>490946.84</td>\n",
              "      <td>NaN</td>\n",
              "      <td>NaN</td>\n",
              "      <td>NaN</td>\n",
              "      <td>NaN</td>\n",
              "      <td>NaN</td>\n",
              "      <td>NaN</td>\n",
              "      <td>2018.0</td>\n",
              "      <td>A</td>\n",
              "      <td>EDPHLRNRPGKGHNYIDGMTQEDATCKPVTYAGACSSFDVLLEKGK...</td>\n",
              "      <td>4482</td>\n",
              "      <td>Protein</td>\n",
              "    </tr>\n",
              "    <tr>\n",
              "      <th>69698</th>\n",
              "      <td>6F9E</td>\n",
              "      <td>VIRUS</td>\n",
              "      <td>ELECTRON MICROSCOPY</td>\n",
              "      <td>Protein</td>\n",
              "      <td>4482</td>\n",
              "      <td>13.30</td>\n",
              "      <td>490946.84</td>\n",
              "      <td>NaN</td>\n",
              "      <td>NaN</td>\n",
              "      <td>NaN</td>\n",
              "      <td>NaN</td>\n",
              "      <td>NaN</td>\n",
              "      <td>NaN</td>\n",
              "      <td>2018.0</td>\n",
              "      <td>B</td>\n",
              "      <td>DPGCSELIQASSRITTCSTEGVNTKCRLSGTALIRAGSVGAEACLM...</td>\n",
              "      <td>4482</td>\n",
              "      <td>Protein</td>\n",
              "    </tr>\n",
              "    <tr>\n",
              "      <th>69699</th>\n",
              "      <td>6F9E</td>\n",
              "      <td>VIRUS</td>\n",
              "      <td>ELECTRON MICROSCOPY</td>\n",
              "      <td>Protein</td>\n",
              "      <td>4482</td>\n",
              "      <td>13.30</td>\n",
              "      <td>490946.84</td>\n",
              "      <td>NaN</td>\n",
              "      <td>NaN</td>\n",
              "      <td>NaN</td>\n",
              "      <td>NaN</td>\n",
              "      <td>NaN</td>\n",
              "      <td>NaN</td>\n",
              "      <td>2018.0</td>\n",
              "      <td>C</td>\n",
              "      <td>EDPHLRNRPGKGHNYIDGMTQEDATCKPVTYAGACSSFDVLLEKGK...</td>\n",
              "      <td>4482</td>\n",
              "      <td>Protein</td>\n",
              "    </tr>\n",
              "    <tr>\n",
              "      <th>69700</th>\n",
              "      <td>6F9E</td>\n",
              "      <td>VIRUS</td>\n",
              "      <td>ELECTRON MICROSCOPY</td>\n",
              "      <td>Protein</td>\n",
              "      <td>4482</td>\n",
              "      <td>13.30</td>\n",
              "      <td>490946.84</td>\n",
              "      <td>NaN</td>\n",
              "      <td>NaN</td>\n",
              "      <td>NaN</td>\n",
              "      <td>NaN</td>\n",
              "      <td>NaN</td>\n",
              "      <td>NaN</td>\n",
              "      <td>2018.0</td>\n",
              "      <td>D</td>\n",
              "      <td>DPGCSELIQASSRITTCSTEGVNTKCRLSGTALIRAGSVGAEACLM...</td>\n",
              "      <td>4482</td>\n",
              "      <td>Protein</td>\n",
              "    </tr>\n",
              "    <tr>\n",
              "      <th>69701</th>\n",
              "      <td>6F9E</td>\n",
              "      <td>VIRUS</td>\n",
              "      <td>ELECTRON MICROSCOPY</td>\n",
              "      <td>Protein</td>\n",
              "      <td>4482</td>\n",
              "      <td>13.30</td>\n",
              "      <td>490946.84</td>\n",
              "      <td>NaN</td>\n",
              "      <td>NaN</td>\n",
              "      <td>NaN</td>\n",
              "      <td>NaN</td>\n",
              "      <td>NaN</td>\n",
              "      <td>NaN</td>\n",
              "      <td>2018.0</td>\n",
              "      <td>E</td>\n",
              "      <td>EDPHLRNRPGKGHNYIDGMTQEDATCKPVTYAGACSSFDVLLEKGK...</td>\n",
              "      <td>4482</td>\n",
              "      <td>Protein</td>\n",
              "    </tr>\n",
              "    <tr>\n",
              "      <th>69702</th>\n",
              "      <td>6F9E</td>\n",
              "      <td>VIRUS</td>\n",
              "      <td>ELECTRON MICROSCOPY</td>\n",
              "      <td>Protein</td>\n",
              "      <td>4482</td>\n",
              "      <td>13.30</td>\n",
              "      <td>490946.84</td>\n",
              "      <td>NaN</td>\n",
              "      <td>NaN</td>\n",
              "      <td>NaN</td>\n",
              "      <td>NaN</td>\n",
              "      <td>NaN</td>\n",
              "      <td>NaN</td>\n",
              "      <td>2018.0</td>\n",
              "      <td>F</td>\n",
              "      <td>DPGCSELIQASSRITTCSTEGVNTKCRLSGTALIRAGSVGAEACLM...</td>\n",
              "      <td>4482</td>\n",
              "      <td>Protein</td>\n",
              "    </tr>\n",
              "    <tr>\n",
              "      <th>69703</th>\n",
              "      <td>6F9E</td>\n",
              "      <td>VIRUS</td>\n",
              "      <td>ELECTRON MICROSCOPY</td>\n",
              "      <td>Protein</td>\n",
              "      <td>4482</td>\n",
              "      <td>13.30</td>\n",
              "      <td>490946.84</td>\n",
              "      <td>NaN</td>\n",
              "      <td>NaN</td>\n",
              "      <td>NaN</td>\n",
              "      <td>NaN</td>\n",
              "      <td>NaN</td>\n",
              "      <td>NaN</td>\n",
              "      <td>2018.0</td>\n",
              "      <td>G</td>\n",
              "      <td>EDPHLRNRPGKGHNYIDGMTQEDATCKPVTYAGACSSFDVLLEKGK...</td>\n",
              "      <td>4482</td>\n",
              "      <td>Protein</td>\n",
              "    </tr>\n",
              "    <tr>\n",
              "      <th>69704</th>\n",
              "      <td>6F9E</td>\n",
              "      <td>VIRUS</td>\n",
              "      <td>ELECTRON MICROSCOPY</td>\n",
              "      <td>Protein</td>\n",
              "      <td>4482</td>\n",
              "      <td>13.30</td>\n",
              "      <td>490946.84</td>\n",
              "      <td>NaN</td>\n",
              "      <td>NaN</td>\n",
              "      <td>NaN</td>\n",
              "      <td>NaN</td>\n",
              "      <td>NaN</td>\n",
              "      <td>NaN</td>\n",
              "      <td>2018.0</td>\n",
              "      <td>H</td>\n",
              "      <td>DPGCSELIQASSRITTCSTEGVNTKCRLSGTALIRAGSVGAEACLM...</td>\n",
              "      <td>4482</td>\n",
              "      <td>Protein</td>\n",
              "    </tr>\n",
              "    <tr>\n",
              "      <th>69705</th>\n",
              "      <td>6F9E</td>\n",
              "      <td>VIRUS</td>\n",
              "      <td>ELECTRON MICROSCOPY</td>\n",
              "      <td>Protein</td>\n",
              "      <td>4482</td>\n",
              "      <td>13.30</td>\n",
              "      <td>490946.84</td>\n",
              "      <td>NaN</td>\n",
              "      <td>NaN</td>\n",
              "      <td>NaN</td>\n",
              "      <td>NaN</td>\n",
              "      <td>NaN</td>\n",
              "      <td>NaN</td>\n",
              "      <td>2018.0</td>\n",
              "      <td>I</td>\n",
              "      <td>EDPHLRNRPGKGHNYIDGMTQEDATCKPVTYAGACSSFDVLLEKGK...</td>\n",
              "      <td>4482</td>\n",
              "      <td>Protein</td>\n",
              "    </tr>\n",
              "    <tr>\n",
              "      <th>69706</th>\n",
              "      <td>6F9E</td>\n",
              "      <td>VIRUS</td>\n",
              "      <td>ELECTRON MICROSCOPY</td>\n",
              "      <td>Protein</td>\n",
              "      <td>4482</td>\n",
              "      <td>13.30</td>\n",
              "      <td>490946.84</td>\n",
              "      <td>NaN</td>\n",
              "      <td>NaN</td>\n",
              "      <td>NaN</td>\n",
              "      <td>NaN</td>\n",
              "      <td>NaN</td>\n",
              "      <td>NaN</td>\n",
              "      <td>2018.0</td>\n",
              "      <td>J</td>\n",
              "      <td>DPGCSELIQASSRITTCSTEGVNTKCRLSGTALIRAGSVGAEACLM...</td>\n",
              "      <td>4482</td>\n",
              "      <td>Protein</td>\n",
              "    </tr>\n",
              "    <tr>\n",
              "      <th>69707</th>\n",
              "      <td>6F9E</td>\n",
              "      <td>VIRUS</td>\n",
              "      <td>ELECTRON MICROSCOPY</td>\n",
              "      <td>Protein</td>\n",
              "      <td>4482</td>\n",
              "      <td>13.30</td>\n",
              "      <td>490946.84</td>\n",
              "      <td>NaN</td>\n",
              "      <td>NaN</td>\n",
              "      <td>NaN</td>\n",
              "      <td>NaN</td>\n",
              "      <td>NaN</td>\n",
              "      <td>NaN</td>\n",
              "      <td>2018.0</td>\n",
              "      <td>K</td>\n",
              "      <td>EDPHLRNRPGKGHNYIDGMTQEDATCKPVTYAGACSSFDVLLEKGK...</td>\n",
              "      <td>4482</td>\n",
              "      <td>Protein</td>\n",
              "    </tr>\n",
              "    <tr>\n",
              "      <th>69708</th>\n",
              "      <td>6F9E</td>\n",
              "      <td>VIRUS</td>\n",
              "      <td>ELECTRON MICROSCOPY</td>\n",
              "      <td>Protein</td>\n",
              "      <td>4482</td>\n",
              "      <td>13.30</td>\n",
              "      <td>490946.84</td>\n",
              "      <td>NaN</td>\n",
              "      <td>NaN</td>\n",
              "      <td>NaN</td>\n",
              "      <td>NaN</td>\n",
              "      <td>NaN</td>\n",
              "      <td>NaN</td>\n",
              "      <td>2018.0</td>\n",
              "      <td>L</td>\n",
              "      <td>DPGCSELIQASSRITTCSTEGVNTKCRLSGTALIRAGSVGAEACLM...</td>\n",
              "      <td>4482</td>\n",
              "      <td>Protein</td>\n",
              "    </tr>\n",
              "    <tr>\n",
              "      <th>69709</th>\n",
              "      <td>6F9F</td>\n",
              "      <td>VIRUS</td>\n",
              "      <td>ELECTRON MICROSCOPY</td>\n",
              "      <td>Protein</td>\n",
              "      <td>3735</td>\n",
              "      <td>13.30</td>\n",
              "      <td>409122.38</td>\n",
              "      <td>NaN</td>\n",
              "      <td>NaN</td>\n",
              "      <td>NaN</td>\n",
              "      <td>NaN</td>\n",
              "      <td>NaN</td>\n",
              "      <td>NaN</td>\n",
              "      <td>2018.0</td>\n",
              "      <td>A</td>\n",
              "      <td>EDPHLRNRPGKGHNYIDGMTQEDATCKPVTYAGACSSFDVLLEKGK...</td>\n",
              "      <td>3735</td>\n",
              "      <td>Protein</td>\n",
              "    </tr>\n",
              "    <tr>\n",
              "      <th>69710</th>\n",
              "      <td>6F9F</td>\n",
              "      <td>VIRUS</td>\n",
              "      <td>ELECTRON MICROSCOPY</td>\n",
              "      <td>Protein</td>\n",
              "      <td>3735</td>\n",
              "      <td>13.30</td>\n",
              "      <td>409122.38</td>\n",
              "      <td>NaN</td>\n",
              "      <td>NaN</td>\n",
              "      <td>NaN</td>\n",
              "      <td>NaN</td>\n",
              "      <td>NaN</td>\n",
              "      <td>NaN</td>\n",
              "      <td>2018.0</td>\n",
              "      <td>B</td>\n",
              "      <td>DPGCSELIQASSRITTCSTEGVNTKCRLSGTALIRAGSVGAEACLM...</td>\n",
              "      <td>3735</td>\n",
              "      <td>Protein</td>\n",
              "    </tr>\n",
              "    <tr>\n",
              "      <th>69711</th>\n",
              "      <td>6F9F</td>\n",
              "      <td>VIRUS</td>\n",
              "      <td>ELECTRON MICROSCOPY</td>\n",
              "      <td>Protein</td>\n",
              "      <td>3735</td>\n",
              "      <td>13.30</td>\n",
              "      <td>409122.38</td>\n",
              "      <td>NaN</td>\n",
              "      <td>NaN</td>\n",
              "      <td>NaN</td>\n",
              "      <td>NaN</td>\n",
              "      <td>NaN</td>\n",
              "      <td>NaN</td>\n",
              "      <td>2018.0</td>\n",
              "      <td>C</td>\n",
              "      <td>EDPHLRNRPGKGHNYIDGMTQEDATCKPVTYAGACSSFDVLLEKGK...</td>\n",
              "      <td>3735</td>\n",
              "      <td>Protein</td>\n",
              "    </tr>\n",
              "    <tr>\n",
              "      <th>69712</th>\n",
              "      <td>6F9F</td>\n",
              "      <td>VIRUS</td>\n",
              "      <td>ELECTRON MICROSCOPY</td>\n",
              "      <td>Protein</td>\n",
              "      <td>3735</td>\n",
              "      <td>13.30</td>\n",
              "      <td>409122.38</td>\n",
              "      <td>NaN</td>\n",
              "      <td>NaN</td>\n",
              "      <td>NaN</td>\n",
              "      <td>NaN</td>\n",
              "      <td>NaN</td>\n",
              "      <td>NaN</td>\n",
              "      <td>2018.0</td>\n",
              "      <td>D</td>\n",
              "      <td>DPGCSELIQASSRITTCSTEGVNTKCRLSGTALIRAGSVGAEACLM...</td>\n",
              "      <td>3735</td>\n",
              "      <td>Protein</td>\n",
              "    </tr>\n",
              "    <tr>\n",
              "      <th>69713</th>\n",
              "      <td>6F9F</td>\n",
              "      <td>VIRUS</td>\n",
              "      <td>ELECTRON MICROSCOPY</td>\n",
              "      <td>Protein</td>\n",
              "      <td>3735</td>\n",
              "      <td>13.30</td>\n",
              "      <td>409122.38</td>\n",
              "      <td>NaN</td>\n",
              "      <td>NaN</td>\n",
              "      <td>NaN</td>\n",
              "      <td>NaN</td>\n",
              "      <td>NaN</td>\n",
              "      <td>NaN</td>\n",
              "      <td>2018.0</td>\n",
              "      <td>E</td>\n",
              "      <td>EDPHLRNRPGKGHNYIDGMTQEDATCKPVTYAGACSSFDVLLEKGK...</td>\n",
              "      <td>3735</td>\n",
              "      <td>Protein</td>\n",
              "    </tr>\n",
              "    <tr>\n",
              "      <th>69714</th>\n",
              "      <td>6F9F</td>\n",
              "      <td>VIRUS</td>\n",
              "      <td>ELECTRON MICROSCOPY</td>\n",
              "      <td>Protein</td>\n",
              "      <td>3735</td>\n",
              "      <td>13.30</td>\n",
              "      <td>409122.38</td>\n",
              "      <td>NaN</td>\n",
              "      <td>NaN</td>\n",
              "      <td>NaN</td>\n",
              "      <td>NaN</td>\n",
              "      <td>NaN</td>\n",
              "      <td>NaN</td>\n",
              "      <td>2018.0</td>\n",
              "      <td>F</td>\n",
              "      <td>DPGCSELIQASSRITTCSTEGVNTKCRLSGTALIRAGSVGAEACLM...</td>\n",
              "      <td>3735</td>\n",
              "      <td>Protein</td>\n",
              "    </tr>\n",
              "    <tr>\n",
              "      <th>69715</th>\n",
              "      <td>6F9F</td>\n",
              "      <td>VIRUS</td>\n",
              "      <td>ELECTRON MICROSCOPY</td>\n",
              "      <td>Protein</td>\n",
              "      <td>3735</td>\n",
              "      <td>13.30</td>\n",
              "      <td>409122.38</td>\n",
              "      <td>NaN</td>\n",
              "      <td>NaN</td>\n",
              "      <td>NaN</td>\n",
              "      <td>NaN</td>\n",
              "      <td>NaN</td>\n",
              "      <td>NaN</td>\n",
              "      <td>2018.0</td>\n",
              "      <td>G</td>\n",
              "      <td>EDPHLRNRPGKGHNYIDGMTQEDATCKPVTYAGACSSFDVLLEKGK...</td>\n",
              "      <td>3735</td>\n",
              "      <td>Protein</td>\n",
              "    </tr>\n",
              "    <tr>\n",
              "      <th>69716</th>\n",
              "      <td>6F9F</td>\n",
              "      <td>VIRUS</td>\n",
              "      <td>ELECTRON MICROSCOPY</td>\n",
              "      <td>Protein</td>\n",
              "      <td>3735</td>\n",
              "      <td>13.30</td>\n",
              "      <td>409122.38</td>\n",
              "      <td>NaN</td>\n",
              "      <td>NaN</td>\n",
              "      <td>NaN</td>\n",
              "      <td>NaN</td>\n",
              "      <td>NaN</td>\n",
              "      <td>NaN</td>\n",
              "      <td>2018.0</td>\n",
              "      <td>H</td>\n",
              "      <td>DPGCSELIQASSRITTCSTEGVNTKCRLSGTALIRAGSVGAEACLM...</td>\n",
              "      <td>3735</td>\n",
              "      <td>Protein</td>\n",
              "    </tr>\n",
              "    <tr>\n",
              "      <th>69717</th>\n",
              "      <td>6F9F</td>\n",
              "      <td>VIRUS</td>\n",
              "      <td>ELECTRON MICROSCOPY</td>\n",
              "      <td>Protein</td>\n",
              "      <td>3735</td>\n",
              "      <td>13.30</td>\n",
              "      <td>409122.38</td>\n",
              "      <td>NaN</td>\n",
              "      <td>NaN</td>\n",
              "      <td>NaN</td>\n",
              "      <td>NaN</td>\n",
              "      <td>NaN</td>\n",
              "      <td>NaN</td>\n",
              "      <td>2018.0</td>\n",
              "      <td>I</td>\n",
              "      <td>EDPHLRNRPGKGHNYIDGMTQEDATCKPVTYAGACSSFDVLLEKGK...</td>\n",
              "      <td>3735</td>\n",
              "      <td>Protein</td>\n",
              "    </tr>\n",
              "    <tr>\n",
              "      <th>69718</th>\n",
              "      <td>6F9F</td>\n",
              "      <td>VIRUS</td>\n",
              "      <td>ELECTRON MICROSCOPY</td>\n",
              "      <td>Protein</td>\n",
              "      <td>3735</td>\n",
              "      <td>13.30</td>\n",
              "      <td>409122.38</td>\n",
              "      <td>NaN</td>\n",
              "      <td>NaN</td>\n",
              "      <td>NaN</td>\n",
              "      <td>NaN</td>\n",
              "      <td>NaN</td>\n",
              "      <td>NaN</td>\n",
              "      <td>2018.0</td>\n",
              "      <td>J</td>\n",
              "      <td>DPGCSELIQASSRITTCSTEGVNTKCRLSGTALIRAGSVGAEACLM...</td>\n",
              "      <td>3735</td>\n",
              "      <td>Protein</td>\n",
              "    </tr>\n",
              "    <tr>\n",
              "      <th>69719</th>\n",
              "      <td>6FAE</td>\n",
              "      <td>HYDROLASE</td>\n",
              "      <td>X-RAY DIFFRACTION</td>\n",
              "      <td>Protein</td>\n",
              "      <td>584</td>\n",
              "      <td>2.35</td>\n",
              "      <td>67448.08</td>\n",
              "      <td>VAPOR DIFFUSION, SITTING DROP</td>\n",
              "      <td>293.0</td>\n",
              "      <td>2.26</td>\n",
              "      <td>45.62</td>\n",
              "      <td>0.1 M tris  16% PEG 8K 0.1M Potassium chloride</td>\n",
              "      <td>8.00</td>\n",
              "      <td>NaN</td>\n",
              "      <td>A</td>\n",
              "      <td>MCKQTYQRETRHSWDSPAFNNDVVQRRHYRIGLNLFNKKPEKGIQY...</td>\n",
              "      <td>584</td>\n",
              "      <td>Protein</td>\n",
              "    </tr>\n",
              "  </tbody>\n",
              "</table>\n",
              "<p>69720 rows × 18 columns</p>\n",
              "</div>"
            ],
            "text/plain": [
              "      structureId  ... macromoleculeType_y\n",
              "0            117E  ...             Protein\n",
              "1            11BA  ...             Protein\n",
              "2            11BA  ...             Protein\n",
              "3            11BG  ...             Protein\n",
              "4            11BG  ...             Protein\n",
              "5            11GS  ...             Protein\n",
              "6            178L  ...             Protein\n",
              "7            17GS  ...             Protein\n",
              "8            1A1Q  ...             Protein\n",
              "9            1A1Q  ...             Protein\n",
              "10           1A1Q  ...             Protein\n",
              "11           1A1R  ...             Protein\n",
              "12           1A30  ...             Protein\n",
              "13           1A3B  ...             Protein\n",
              "14           1A3W  ...             Protein\n",
              "15           1A4G  ...             Protein\n",
              "16           1A4I  ...             Protein\n",
              "17           1A4L  ...             Protein\n",
              "18           1A4L  ...             Protein\n",
              "19           1A4L  ...             Protein\n",
              "20           1A4M  ...             Protein\n",
              "21           1A4M  ...             Protein\n",
              "22           1A4M  ...             Protein\n",
              "23           1A4M  ...             Protein\n",
              "24           1A4Q  ...             Protein\n",
              "25           1A4Q  ...             Protein\n",
              "26           1A4R  ...             Protein\n",
              "27           1A4R  ...             Protein\n",
              "28           1A4S  ...             Protein\n",
              "29           1A5H  ...             Protein\n",
              "...           ...  ...                 ...\n",
              "69690        6F9D  ...             Protein\n",
              "69691        6F9D  ...             Protein\n",
              "69692        6F9D  ...             Protein\n",
              "69693        6F9D  ...             Protein\n",
              "69694        6F9D  ...             Protein\n",
              "69695        6F9D  ...             Protein\n",
              "69696        6F9D  ...             Protein\n",
              "69697        6F9E  ...             Protein\n",
              "69698        6F9E  ...             Protein\n",
              "69699        6F9E  ...             Protein\n",
              "69700        6F9E  ...             Protein\n",
              "69701        6F9E  ...             Protein\n",
              "69702        6F9E  ...             Protein\n",
              "69703        6F9E  ...             Protein\n",
              "69704        6F9E  ...             Protein\n",
              "69705        6F9E  ...             Protein\n",
              "69706        6F9E  ...             Protein\n",
              "69707        6F9E  ...             Protein\n",
              "69708        6F9E  ...             Protein\n",
              "69709        6F9F  ...             Protein\n",
              "69710        6F9F  ...             Protein\n",
              "69711        6F9F  ...             Protein\n",
              "69712        6F9F  ...             Protein\n",
              "69713        6F9F  ...             Protein\n",
              "69714        6F9F  ...             Protein\n",
              "69715        6F9F  ...             Protein\n",
              "69716        6F9F  ...             Protein\n",
              "69717        6F9F  ...             Protein\n",
              "69718        6F9F  ...             Protein\n",
              "69719        6FAE  ...             Protein\n",
              "\n",
              "[69720 rows x 18 columns]"
            ]
          },
          "metadata": {
            "tags": []
          },
          "execution_count": 10
        }
      ]
    },
    {
      "cell_type": "code",
      "metadata": {
        "id": "bHQEydJTO0s8",
        "colab_type": "code",
        "outputId": "4c14f14c-02dd-4e6c-beea-3c06dc69f9fa",
        "colab": {
          "base_uri": "https://localhost:8080/",
          "height": 34
        }
      },
      "source": [
        "data_work.shape"
      ],
      "execution_count": 11,
      "outputs": [
        {
          "output_type": "execute_result",
          "data": {
            "text/plain": [
              "(69720, 18)"
            ]
          },
          "metadata": {
            "tags": []
          },
          "execution_count": 11
        }
      ]
    },
    {
      "cell_type": "code",
      "metadata": {
        "id": "F555fKqC0xaA",
        "colab_type": "code",
        "outputId": "14327b45-05c2-412b-f2ab-d25e12c9c1ea",
        "colab": {
          "base_uri": "https://localhost:8080/",
          "height": 1071
        }
      },
      "source": [
        "data_work.sequence"
      ],
      "execution_count": 12,
      "outputs": [
        {
          "output_type": "execute_result",
          "data": {
            "text/plain": [
              "0        TYTTRQIGAKNTLEYKVYIEKDGKPVSAFHDIPLYADKENNIFNMV...\n",
              "1        KESAAAKFERQHMDSGNSPSSSSNYCNLMMCCRKMTQGKCKPVNTF...\n",
              "2        KESAAAKFERQHMDSGNSPSSSSNYCNLMMCCRKMTQGKCKPVNTF...\n",
              "3        KESAAAKFERQHMDSGNSPSSSSNYCNLMMCCRKMTQGKCKPVNTF...\n",
              "4        KESAAAKFERQHMDSGNSPSSSSNYCNLMMCCRKMTQGKCKPVNTF...\n",
              "5        MPPYTVVYFPVRGRCAALRMLLADQGQSWKEEVVTVETWQEGSLKA...\n",
              "6        MNIFEMLRIDEGLRLKIYKDTEGYYTIGIGHLLTKSPSLNAAKSEL...\n",
              "7        MPPYTVVYFPVRGRCAALRMLLADQGQSWKEEVVTVETWQEGSLKA...\n",
              "8        APITAYSQQTRGLLGCIITSLTGRDKNQVEGEVQVVSTATQSFLAT...\n",
              "9        APITAYSQQTRGLLGCIITSLTGRDKNQVEGEVQVVSTATQSFLAT...\n",
              "10       APITAYSQQTRGLLGCIITSLTGRDKNQVEGEVQVVSTATQSFLAT...\n",
              "11       ASMTGGQQMGAPITAYAQQTRGLLGCIITSLTGRDKNQVEGEVQIV...\n",
              "12       PQITLWKRPLVTIKIGGQLKEALLDTGADDTVIEEMSLPGRWKPKM...\n",
              "13       IVEGSDAEIGMSPWQVMLFRKSPQELLCGASLISDRWVLTAAHCLL...\n",
              "14       MSRLERLTSLNVVAGSDLRRTSIIGTIGPKTNNPETLVALRKAGLN...\n",
              "15       EPEWTYPRLSCQGSTFQKALLISPHRFGEARGNSAPLIIREPFIAC...\n",
              "16       MAPAEILNGKEISAQIRARLKNQVTQLKEQVPGFTPRLAILQVGNR...\n",
              "17       TPAFNKPKVELHVHLDGAIKPETILYFGKKRGIALPADTVEELRNI...\n",
              "18       TPAFNKPKVELHVHLDGAIKPETILYFGKKRGIALPADTVEELRNI...\n",
              "19       TPAFNKPKVELHVHLDGAIKPETILYFGKKRGIALPADTVEELRNI...\n",
              "20       TPAFNKPKVELHVHLDGAIKPETILYFGKKRGIALPADTVEELRNI...\n",
              "21       TPAFNKPKVELHVHLDGAIKPETILYFGKKRGIALPADTVEELRNI...\n",
              "22       TPAFNKPKVELHVHLDGAIKPETILYFGKKRGIALPADTVEELRNI...\n",
              "23       TPAFNKPKVELHVHLDGAIKPETILYFGKKRGIALPADTVEELRNI...\n",
              "24       EPEWTYPRLSCQGSTFQKALLISPHRFGEARGNSAPLIIREPFIAC...\n",
              "25       EPEWTYPRLSCQGSTFQKALLISPHRFGEARGNSAPLIIREPFIAC...\n",
              "26       MQTIKCVVVGDVAVGKTCLLISYTTNKFPSEYVPTVFDNYAVTVMI...\n",
              "27       MQTIKCVVVGDVAVGKTCLLISYTTNKFPSEYVPTVFDNYAVTVMI...\n",
              "28       AQLVDSMPSASTGSVVVTDDLNYWGGRRIKSKDGATTEPVFEPATG...\n",
              "29       IKGGLFADIASHPWQAAIFAKHRRSPGERFLCGGILISSCWILSAA...\n",
              "                               ...                        \n",
              "69690    DPGCSELIQASSRITTCSTEGVNTKCRLSGTALIRAGSVGAEACLM...\n",
              "69691    EDPHLRNRPGKGHNYIDGMTQEDATCKPVTYAGACSSFDVLLEKGK...\n",
              "69692    DPGCSELIQASSRITTCSTEGVNTKCRLSGTALIRAGSVGAEACLM...\n",
              "69693    EDPHLRNRPGKGHNYIDGMTQEDATCKPVTYAGACSSFDVLLEKGK...\n",
              "69694    DPGCSELIQASSRITTCSTEGVNTKCRLSGTALIRAGSVGAEACLM...\n",
              "69695    EDPHLRNRPGKGHNYIDGMTQEDATCKPVTYAGACSSFDVLLEKGK...\n",
              "69696    DPGCSELIQASSRITTCSTEGVNTKCRLSGTALIRAGSVGAEACLM...\n",
              "69697    EDPHLRNRPGKGHNYIDGMTQEDATCKPVTYAGACSSFDVLLEKGK...\n",
              "69698    DPGCSELIQASSRITTCSTEGVNTKCRLSGTALIRAGSVGAEACLM...\n",
              "69699    EDPHLRNRPGKGHNYIDGMTQEDATCKPVTYAGACSSFDVLLEKGK...\n",
              "69700    DPGCSELIQASSRITTCSTEGVNTKCRLSGTALIRAGSVGAEACLM...\n",
              "69701    EDPHLRNRPGKGHNYIDGMTQEDATCKPVTYAGACSSFDVLLEKGK...\n",
              "69702    DPGCSELIQASSRITTCSTEGVNTKCRLSGTALIRAGSVGAEACLM...\n",
              "69703    EDPHLRNRPGKGHNYIDGMTQEDATCKPVTYAGACSSFDVLLEKGK...\n",
              "69704    DPGCSELIQASSRITTCSTEGVNTKCRLSGTALIRAGSVGAEACLM...\n",
              "69705    EDPHLRNRPGKGHNYIDGMTQEDATCKPVTYAGACSSFDVLLEKGK...\n",
              "69706    DPGCSELIQASSRITTCSTEGVNTKCRLSGTALIRAGSVGAEACLM...\n",
              "69707    EDPHLRNRPGKGHNYIDGMTQEDATCKPVTYAGACSSFDVLLEKGK...\n",
              "69708    DPGCSELIQASSRITTCSTEGVNTKCRLSGTALIRAGSVGAEACLM...\n",
              "69709    EDPHLRNRPGKGHNYIDGMTQEDATCKPVTYAGACSSFDVLLEKGK...\n",
              "69710    DPGCSELIQASSRITTCSTEGVNTKCRLSGTALIRAGSVGAEACLM...\n",
              "69711    EDPHLRNRPGKGHNYIDGMTQEDATCKPVTYAGACSSFDVLLEKGK...\n",
              "69712    DPGCSELIQASSRITTCSTEGVNTKCRLSGTALIRAGSVGAEACLM...\n",
              "69713    EDPHLRNRPGKGHNYIDGMTQEDATCKPVTYAGACSSFDVLLEKGK...\n",
              "69714    DPGCSELIQASSRITTCSTEGVNTKCRLSGTALIRAGSVGAEACLM...\n",
              "69715    EDPHLRNRPGKGHNYIDGMTQEDATCKPVTYAGACSSFDVLLEKGK...\n",
              "69716    DPGCSELIQASSRITTCSTEGVNTKCRLSGTALIRAGSVGAEACLM...\n",
              "69717    EDPHLRNRPGKGHNYIDGMTQEDATCKPVTYAGACSSFDVLLEKGK...\n",
              "69718    DPGCSELIQASSRITTCSTEGVNTKCRLSGTALIRAGSVGAEACLM...\n",
              "69719    MCKQTYQRETRHSWDSPAFNNDVVQRRHYRIGLNLFNKKPEKGIQY...\n",
              "Name: sequence, Length: 69720, dtype: object"
            ]
          },
          "metadata": {
            "tags": []
          },
          "execution_count": 12
        }
      ]
    },
    {
      "cell_type": "markdown",
      "metadata": {
        "id": "2YtG3MGbIRWR",
        "colab_type": "text"
      },
      "source": [
        "SE EXTRAEN LOS VALORES DE LA SECUENCIAS PARA SER UTILIZADOS"
      ]
    },
    {
      "cell_type": "code",
      "metadata": {
        "id": "kP-JYzzk0xaI",
        "colab_type": "code",
        "colab": {}
      },
      "source": [
        "secuencias = data_work.sequence.values"
      ],
      "execution_count": 0,
      "outputs": []
    },
    {
      "cell_type": "code",
      "metadata": {
        "id": "VgvOwFrFdmqY",
        "colab_type": "code",
        "outputId": "e8d821c6-2b3b-4e9c-c521-cf7a1b629cdf",
        "colab": {
          "base_uri": "https://localhost:8080/",
          "height": 54
        }
      },
      "source": [
        "secuencias[1]"
      ],
      "execution_count": 14,
      "outputs": [
        {
          "output_type": "execute_result",
          "data": {
            "text/plain": [
              "'KESAAAKFERQHMDSGNSPSSSSNYCNLMMCCRKMTQGKCKPVNTFVHESLADVKAVCSQKKVTCKNGQTNCYQSKSTMRITDCRETGSSKYPNCAYKTTQVEKHIIVACGGKPSVPVHFDASV'"
            ]
          },
          "metadata": {
            "tags": []
          },
          "execution_count": 14
        }
      ]
    },
    {
      "cell_type": "markdown",
      "metadata": {
        "id": "1FXyFPFwIY81",
        "colab_type": "text"
      },
      "source": [
        "SE DETERMINA LA SECUENCIA MAS LARGA "
      ]
    },
    {
      "cell_type": "code",
      "metadata": {
        "id": "H2XascPtdDx7",
        "colab_type": "code",
        "colab": {}
      },
      "source": [
        "maximo=[]\n",
        "for i in range(len(secuencias)):\n",
        "  maximo.append(len(secuencias[i]))\n",
        "longitud=max(maximo)"
      ],
      "execution_count": 0,
      "outputs": []
    },
    {
      "cell_type": "markdown",
      "metadata": {
        "id": "E9yKmc5HIeg0",
        "colab_type": "text"
      },
      "source": [
        "SE REALIZA UN ONE HOT ENCODIG PARA LAS CLASES "
      ]
    },
    {
      "cell_type": "code",
      "metadata": {
        "id": "x0BQqKb80xaN",
        "colab_type": "code",
        "colab": {}
      },
      "source": [
        "from sklearn.preprocessing import LabelBinarizer\n",
        "lb = LabelBinarizer()\n",
        "Y = lb.fit_transform(data_work.classification)"
      ],
      "execution_count": 0,
      "outputs": []
    },
    {
      "cell_type": "code",
      "metadata": {
        "id": "xiw7tdiu0xaR",
        "colab_type": "code",
        "outputId": "c0a9d5da-6738-46e6-8c07-81352f74c3ba",
        "colab": {
          "base_uri": "https://localhost:8080/",
          "height": 34
        }
      },
      "source": [
        "Y.shape"
      ],
      "execution_count": 17,
      "outputs": [
        {
          "output_type": "execute_result",
          "data": {
            "text/plain": [
              "(69720, 10)"
            ]
          },
          "metadata": {
            "tags": []
          },
          "execution_count": 17
        }
      ]
    },
    {
      "cell_type": "markdown",
      "metadata": {
        "id": "kTkwE1UFInR7",
        "colab_type": "text"
      },
      "source": [
        "DEBIDO A QUE LOS AMINOACIDOS SE ENCEUNTRAN REPRESENTADOS POR LETRAS, SE PROCEDE A TOQUENIZAR LAS SECUENCIAS"
      ]
    },
    {
      "cell_type": "code",
      "metadata": {
        "id": "zzSJg-RZ0xae",
        "colab_type": "code",
        "colab": {}
      },
      "source": [
        "tokenizer = Tokenizer(char_level=True)\n",
        "tokenizer.fit_on_texts(secuencias)"
      ],
      "execution_count": 0,
      "outputs": []
    },
    {
      "cell_type": "code",
      "metadata": {
        "id": "tKW37Wbp0xaj",
        "colab_type": "code",
        "colab": {}
      },
      "source": [
        "length_secuence=255\n",
        "X = tokenizer.texts_to_sequences(secuencias)\n",
        "X = sequence.pad_sequences(X, maxlen=length_secuence)"
      ],
      "execution_count": 0,
      "outputs": []
    },
    {
      "cell_type": "code",
      "metadata": {
        "id": "u8w0GCRp0xas",
        "colab_type": "code",
        "colab": {}
      },
      "source": [
        "x=X.reshape(X.shape[0],X.shape[1],1)"
      ],
      "execution_count": 0,
      "outputs": []
    },
    {
      "cell_type": "code",
      "metadata": {
        "id": "mvrt4nKV0xav",
        "colab_type": "code",
        "outputId": "06921c75-e436-4789-ca9e-c7cb41758470",
        "colab": {
          "base_uri": "https://localhost:8080/",
          "height": 34
        }
      },
      "source": [
        "x.shape"
      ],
      "execution_count": 32,
      "outputs": [
        {
          "output_type": "execute_result",
          "data": {
            "text/plain": [
              "(69720, 255, 1)"
            ]
          },
          "metadata": {
            "tags": []
          },
          "execution_count": 32
        }
      ]
    },
    {
      "cell_type": "markdown",
      "metadata": {
        "id": "5O95XmrzIyEA",
        "colab_type": "text"
      },
      "source": [
        "SE REALIZA LA DIVISIÓN EN TRAIN Y TEST"
      ]
    },
    {
      "cell_type": "code",
      "metadata": {
        "id": "gRBTkgis0xaz",
        "colab_type": "code",
        "colab": {}
      },
      "source": [
        "x_train, x_test, y_train, y_test = train_test_split(X, Y, test_size=.3)"
      ],
      "execution_count": 0,
      "outputs": []
    },
    {
      "cell_type": "code",
      "metadata": {
        "id": "_a77IjvA0xa8",
        "colab_type": "code",
        "colab": {}
      },
      "source": [
        "X_train, X_test=x_train.reshape(x_train.shape[0],x_train.shape[1],1),x_test.reshape(x_test.shape[0],x_test.shape[1],1)"
      ],
      "execution_count": 0,
      "outputs": []
    },
    {
      "cell_type": "code",
      "metadata": {
        "id": "8UGn37-G0xa_",
        "colab_type": "code",
        "outputId": "6b05cae2-336c-46f8-88bb-73a0d1b96036",
        "colab": {
          "base_uri": "https://localhost:8080/",
          "height": 34
        }
      },
      "source": [
        "X_train.shape,y_train.shape,X_test.shape,y_test.shape"
      ],
      "execution_count": 35,
      "outputs": [
        {
          "output_type": "execute_result",
          "data": {
            "text/plain": [
              "((48804, 255, 1), (48804, 10), (20916, 255, 1), (20916, 10))"
            ]
          },
          "metadata": {
            "tags": []
          },
          "execution_count": 35
        }
      ]
    },
    {
      "cell_type": "markdown",
      "metadata": {
        "id": "BFmdKT11I3Zd",
        "colab_type": "text"
      },
      "source": [
        "SE CONTRUYE LA ARQUITECTURA A EVALUAR"
      ]
    },
    {
      "cell_type": "code",
      "metadata": {
        "id": "C7_yYIDc0xbC",
        "colab_type": "code",
        "colab": {}
      },
      "source": [
        "embedding_dim=8"
      ],
      "execution_count": 0,
      "outputs": []
    },
    {
      "cell_type": "code",
      "metadata": {
        "id": "jK7kfcb00xbF",
        "colab_type": "code",
        "colab": {}
      },
      "source": [
        "model = Sequential()\n",
        "model.add(Embedding(len(tokenizer.word_index)+1, embedding_dim, input_length=length_secuence,mask_zero=True))\n",
        "model.add(SpatialDropout1D(0.4))\n",
        "model.add(SimpleRNN(30, dropout=0.25, recurrent_dropout=0.25,activation = 'relu'))\n",
        "model.add(RepeatVector(length_secuence))\n",
        "model.add(SimpleRNN(30, dropout=0.25,activation = 'relu'))\n",
        "model.add(Dense(len(data),activation='softmax'))\n",
        "model.compile(optimizer='adam',loss='categorical_crossentropy',metrics = ['accuracy'])"
      ],
      "execution_count": 0,
      "outputs": []
    },
    {
      "cell_type": "code",
      "metadata": {
        "id": "Z3lioWVu0xbN",
        "colab_type": "code",
        "outputId": "eb067a59-bf36-4dfa-d251-709d707b4c70",
        "colab": {
          "base_uri": "https://localhost:8080/",
          "height": 340
        }
      },
      "source": [
        "model.summary()"
      ],
      "execution_count": 38,
      "outputs": [
        {
          "output_type": "stream",
          "text": [
            "_________________________________________________________________\n",
            "Layer (type)                 Output Shape              Param #   \n",
            "=================================================================\n",
            "embedding_3 (Embedding)      (None, 255, 8)            208       \n",
            "_________________________________________________________________\n",
            "spatial_dropout1d_3 (Spatial (None, 255, 8)            0         \n",
            "_________________________________________________________________\n",
            "simple_rnn_3 (SimpleRNN)     (None, 30)                1170      \n",
            "_________________________________________________________________\n",
            "repeat_vector_2 (RepeatVecto (None, 255, 30)           0         \n",
            "_________________________________________________________________\n",
            "simple_rnn_4 (SimpleRNN)     (None, 30)                1830      \n",
            "_________________________________________________________________\n",
            "dense_2 (Dense)              (None, 10)                310       \n",
            "=================================================================\n",
            "Total params: 3,518\n",
            "Trainable params: 3,518\n",
            "Non-trainable params: 0\n",
            "_________________________________________________________________\n"
          ],
          "name": "stdout"
        }
      ]
    },
    {
      "cell_type": "markdown",
      "metadata": {
        "id": "31mG_GxRI9vR",
        "colab_type": "text"
      },
      "source": [
        "ENTRENAMIENTO DE LA ARQUITECTURA "
      ]
    },
    {
      "cell_type": "code",
      "metadata": {
        "id": "slZYDKgO0xbQ",
        "colab_type": "code",
        "outputId": "771ae855-4d9f-47b5-a27b-5237b1ae6d8f",
        "colab": {
          "base_uri": "https://localhost:8080/",
          "height": 374
        }
      },
      "source": [
        "model.fit(x_train, y_train,epochs=10, verbose=1,batch_size=150) "
      ],
      "execution_count": 39,
      "outputs": [
        {
          "output_type": "stream",
          "text": [
            "Epoch 1/10\n",
            "48804/48804 [==============================] - 110s 2ms/step - loss: 2.2523 - acc: 0.1553\n",
            "Epoch 2/10\n",
            "48804/48804 [==============================] - 108s 2ms/step - loss: 2.1889 - acc: 0.1888\n",
            "Epoch 3/10\n",
            "48804/48804 [==============================] - 108s 2ms/step - loss: 2.1724 - acc: 0.1958\n",
            "Epoch 4/10\n",
            "48804/48804 [==============================] - 107s 2ms/step - loss: 2.1637 - acc: 0.1990\n",
            "Epoch 5/10\n",
            "48804/48804 [==============================] - 107s 2ms/step - loss: 2.1545 - acc: 0.2027\n",
            "Epoch 6/10\n",
            "48804/48804 [==============================] - 107s 2ms/step - loss: 2.1483 - acc: 0.2043\n",
            "Epoch 7/10\n",
            "48804/48804 [==============================] - 107s 2ms/step - loss: 2.1430 - acc: 0.2066\n",
            "Epoch 8/10\n",
            "48804/48804 [==============================] - 107s 2ms/step - loss: 2.1360 - acc: 0.2112\n",
            "Epoch 9/10\n",
            "48804/48804 [==============================] - 107s 2ms/step - loss: 2.1293 - acc: 0.2135\n",
            "Epoch 10/10\n",
            "48804/48804 [==============================] - 107s 2ms/step - loss: 2.1272 - acc: 0.2153\n"
          ],
          "name": "stdout"
        },
        {
          "output_type": "execute_result",
          "data": {
            "text/plain": [
              "<keras.callbacks.History at 0x7fd0a7823890>"
            ]
          },
          "metadata": {
            "tags": []
          },
          "execution_count": 39
        }
      ]
    },
    {
      "cell_type": "code",
      "metadata": {
        "id": "TA4PS9MdJVTH",
        "colab_type": "code",
        "colab": {
          "base_uri": "https://localhost:8080/",
          "height": 34
        },
        "outputId": "e63d8f93-0098-4859-85dc-62a4c8fa8f66"
      },
      "source": [
        "predict=model.predict(x_test).argmax(axis=1)\n",
        "y_acc=y_test.argmax(axis=1)\n",
        "np.mean(predict==y_acc)"
      ],
      "execution_count": 40,
      "outputs": [
        {
          "output_type": "execute_result",
          "data": {
            "text/plain": [
              "0.234413845859629"
            ]
          },
          "metadata": {
            "tags": []
          },
          "execution_count": 40
        }
      ]
    },
    {
      "cell_type": "code",
      "metadata": {
        "id": "onkEKQGRvV_e",
        "colab_type": "code",
        "colab": {}
      },
      "source": [
        "model2 = Sequential()\n",
        "model2.add(Embedding(len(tokenizer.word_index)+1, embedding_dim, input_length=length_secuence,mask_zero=True))\n",
        "model2.add(SpatialDropout1D(0.4))\n",
        "model2.add(GRU(30, dropout=0.25, recurrent_dropout=0.25,activation = 'relu'))\n",
        "model2.add(RepeatVector(length_secuence))\n",
        "model2.add(GRU(30, dropout=0.25,activation = 'relu'))\n",
        "model2.add(Dense(len(data),activation='softmax'))\n",
        "model2.compile(optimizer='adam',loss='categorical_crossentropy',metrics = ['accuracy'])"
      ],
      "execution_count": 0,
      "outputs": []
    },
    {
      "cell_type": "code",
      "metadata": {
        "id": "0pusNb65zbO8",
        "colab_type": "code",
        "outputId": "df82899e-4c58-46ac-85d0-46afa8ecdda8",
        "colab": {
          "base_uri": "https://localhost:8080/",
          "height": 340
        }
      },
      "source": [
        "model2.summary()"
      ],
      "execution_count": 42,
      "outputs": [
        {
          "output_type": "stream",
          "text": [
            "_________________________________________________________________\n",
            "Layer (type)                 Output Shape              Param #   \n",
            "=================================================================\n",
            "embedding_4 (Embedding)      (None, 255, 8)            208       \n",
            "_________________________________________________________________\n",
            "spatial_dropout1d_4 (Spatial (None, 255, 8)            0         \n",
            "_________________________________________________________________\n",
            "gru_1 (GRU)                  (None, 30)                3510      \n",
            "_________________________________________________________________\n",
            "repeat_vector_3 (RepeatVecto (None, 255, 30)           0         \n",
            "_________________________________________________________________\n",
            "gru_2 (GRU)                  (None, 30)                5490      \n",
            "_________________________________________________________________\n",
            "dense_3 (Dense)              (None, 10)                310       \n",
            "=================================================================\n",
            "Total params: 9,518\n",
            "Trainable params: 9,518\n",
            "Non-trainable params: 0\n",
            "_________________________________________________________________\n"
          ],
          "name": "stdout"
        }
      ]
    },
    {
      "cell_type": "code",
      "metadata": {
        "id": "ZL_PEkolzeCc",
        "colab_type": "code",
        "colab": {
          "base_uri": "https://localhost:8080/",
          "height": 374
        },
        "outputId": "c3d55d35-3f4f-4dfc-9f20-c8db62199b12"
      },
      "source": [
        "model2.fit(x_train, y_train,epochs=10, verbose=1,batch_size=150) "
      ],
      "execution_count": 43,
      "outputs": [
        {
          "output_type": "stream",
          "text": [
            "Epoch 1/10\n",
            "48804/48804 [==============================] - 250s 5ms/step - loss: 2.2604 - acc: 0.1501\n",
            "Epoch 2/10\n",
            "48804/48804 [==============================] - 247s 5ms/step - loss: 2.1915 - acc: 0.1851\n",
            "Epoch 3/10\n",
            "48804/48804 [==============================] - 250s 5ms/step - loss: 2.1624 - acc: 0.1978\n",
            "Epoch 4/10\n",
            "48804/48804 [==============================] - 250s 5ms/step - loss: 2.1511 - acc: 0.2082\n",
            "Epoch 5/10\n",
            "48804/48804 [==============================] - 248s 5ms/step - loss: 2.1362 - acc: 0.2150\n",
            "Epoch 6/10\n",
            "48804/48804 [==============================] - 247s 5ms/step - loss: 2.1251 - acc: 0.2198\n",
            "Epoch 7/10\n",
            "48804/48804 [==============================] - 246s 5ms/step - loss: 2.1119 - acc: 0.2265\n",
            "Epoch 8/10\n",
            "48804/48804 [==============================] - 248s 5ms/step - loss: 2.1021 - acc: 0.2322\n",
            "Epoch 9/10\n",
            "48804/48804 [==============================] - 247s 5ms/step - loss: 2.0924 - acc: 0.2344\n",
            "Epoch 10/10\n",
            "48804/48804 [==============================] - 248s 5ms/step - loss: 2.0823 - acc: 0.2371\n"
          ],
          "name": "stdout"
        },
        {
          "output_type": "execute_result",
          "data": {
            "text/plain": [
              "<keras.callbacks.History at 0x7fd090c8a1d0>"
            ]
          },
          "metadata": {
            "tags": []
          },
          "execution_count": 43
        }
      ]
    },
    {
      "cell_type": "code",
      "metadata": {
        "id": "G6EdsVbT0xbV",
        "colab_type": "code",
        "outputId": "96491dee-08d6-4c75-e2d0-cf9b6303bda3",
        "colab": {
          "base_uri": "https://localhost:8080/",
          "height": 34
        }
      },
      "source": [
        "predict2=model2.predict(x_test).argmax(axis=1)\n",
        "y_acc=y_test.argmax(axis=1)\n",
        "np.mean(predict2==y_acc)"
      ],
      "execution_count": 44,
      "outputs": [
        {
          "output_type": "execute_result",
          "data": {
            "text/plain": [
              "0.2620481927710843"
            ]
          },
          "metadata": {
            "tags": []
          },
          "execution_count": 44
        }
      ]
    },
    {
      "cell_type": "code",
      "metadata": {
        "id": "3VbVFHPg0xbf",
        "colab_type": "code",
        "colab": {}
      },
      "source": [
        "model3 = Sequential()\n",
        "model3.add(Embedding(len(tokenizer.word_index)+1, embedding_dim, input_length=length_secuence,mask_zero=True))\n",
        "model3.add(SpatialDropout1D(0.4))\n",
        "model3.add(GRU(30, dropout=0.25, recurrent_dropout=0.25,activation = 'relu'))\n",
        "model3.add(RepeatVector(length_secuence))\n",
        "model3.add(GRU(30, dropout=0.25,activation = 'relu'))\n",
        "model3.add(Dense(len(data),activation='softmax'))\n",
        "adam = Adam(lr=0.005, beta_1=0.9, beta_2=0.999, epsilon=1e-08, decay=0.0)\n",
        "model3.compile(optimizer=adam,loss='categorical_crossentropy',metrics = ['accuracy'])"
      ],
      "execution_count": 0,
      "outputs": []
    },
    {
      "cell_type": "code",
      "metadata": {
        "id": "QwAMPBbmRsti",
        "colab_type": "code",
        "colab": {
          "base_uri": "https://localhost:8080/",
          "height": 340
        },
        "outputId": "db352f4d-9763-4eb1-f95d-15b13e22a561"
      },
      "source": [
        "model3.summary()"
      ],
      "execution_count": 60,
      "outputs": [
        {
          "output_type": "stream",
          "text": [
            "_________________________________________________________________\n",
            "Layer (type)                 Output Shape              Param #   \n",
            "=================================================================\n",
            "embedding_10 (Embedding)     (None, 255, 8)            208       \n",
            "_________________________________________________________________\n",
            "spatial_dropout1d_10 (Spatia (None, 255, 8)            0         \n",
            "_________________________________________________________________\n",
            "gru_13 (GRU)                 (None, 30)                3510      \n",
            "_________________________________________________________________\n",
            "repeat_vector_9 (RepeatVecto (None, 255, 30)           0         \n",
            "_________________________________________________________________\n",
            "gru_14 (GRU)                 (None, 30)                5490      \n",
            "_________________________________________________________________\n",
            "dense_9 (Dense)              (None, 10)                310       \n",
            "=================================================================\n",
            "Total params: 9,518\n",
            "Trainable params: 9,518\n",
            "Non-trainable params: 0\n",
            "_________________________________________________________________\n"
          ],
          "name": "stdout"
        }
      ]
    },
    {
      "cell_type": "code",
      "metadata": {
        "id": "UCdQLdYDSI11",
        "colab_type": "code",
        "colab": {
          "base_uri": "https://localhost:8080/",
          "height": 374
        },
        "outputId": "8791cc62-c32d-4402-d301-60fe92b90dbb"
      },
      "source": [
        "model3.fit(x_train, y_train,epochs=10, verbose=1,batch_size=150) "
      ],
      "execution_count": 61,
      "outputs": [
        {
          "output_type": "stream",
          "text": [
            "Epoch 1/10\n",
            "48804/48804 [==============================] - 253s 5ms/step - loss: 2.2029 - acc: 0.1796\n",
            "Epoch 2/10\n",
            "48804/48804 [==============================] - 250s 5ms/step - loss: 2.1241 - acc: 0.2194\n",
            "Epoch 3/10\n",
            "48804/48804 [==============================] - 253s 5ms/step - loss: 2.0739 - acc: 0.2415\n",
            "Epoch 4/10\n",
            "48804/48804 [==============================] - 250s 5ms/step - loss: 2.0364 - acc: 0.2568\n",
            "Epoch 5/10\n",
            "48804/48804 [==============================] - 258s 5ms/step - loss: 2.0190 - acc: 0.2652\n",
            "Epoch 6/10\n",
            "48804/48804 [==============================] - 264s 5ms/step - loss: 1.9971 - acc: 0.2723\n",
            "Epoch 7/10\n",
            "48804/48804 [==============================] - 264s 5ms/step - loss: 1.9766 - acc: 0.2776\n",
            "Epoch 8/10\n",
            "48804/48804 [==============================] - 258s 5ms/step - loss: 1.9665 - acc: 0.2837\n",
            "Epoch 9/10\n",
            "48804/48804 [==============================] - 257s 5ms/step - loss: 1.9585 - acc: 0.2857\n",
            "Epoch 10/10\n",
            "48804/48804 [==============================] - 257s 5ms/step - loss: 1.9476 - acc: 0.2892\n"
          ],
          "name": "stdout"
        },
        {
          "output_type": "execute_result",
          "data": {
            "text/plain": [
              "<keras.callbacks.History at 0x7fd031de20d0>"
            ]
          },
          "metadata": {
            "tags": []
          },
          "execution_count": 61
        }
      ]
    },
    {
      "cell_type": "code",
      "metadata": {
        "id": "6E41wrU3o0MQ",
        "colab_type": "code",
        "colab": {
          "base_uri": "https://localhost:8080/",
          "height": 34
        },
        "outputId": "bb508bf8-1f34-4f11-d186-2dda8a4d4fee"
      },
      "source": [
        "predict3=model3.predict(x_test).argmax(axis=1)\n",
        "y_acc=y_test.argmax(axis=1)\n",
        "np.mean(predict3==y_acc)"
      ],
      "execution_count": 62,
      "outputs": [
        {
          "output_type": "execute_result",
          "data": {
            "text/plain": [
              "0.3385446548097151"
            ]
          },
          "metadata": {
            "tags": []
          },
          "execution_count": 62
        }
      ]
    },
    {
      "cell_type": "markdown",
      "metadata": {
        "id": "FtUpONwSJCa3",
        "colab_type": "text"
      },
      "source": [
        "SE CONTRUYO Y CARGO UNA BASE DE DATOS CORRESPONDIENTE A LOS PARAMETROS DE pH CAMBIOS QUIMICOS ALPHA Y INDICE DE HIDROFOBICIDAD CON EL FIN DE DESARROLLAR UN ENTRENAMIENTO MULTIVARIADO"
      ]
    },
    {
      "cell_type": "code",
      "metadata": {
        "id": "HB4Tn03F0xbt",
        "colab_type": "code",
        "colab": {
          "base_uri": "https://localhost:8080/",
          "height": 669
        },
        "outputId": "eb5928fe-112e-4e1e-864f-57defc374e6c"
      },
      "source": [
        "aaind  "
      ],
      "execution_count": 115,
      "outputs": [
        {
          "output_type": "execute_result",
          "data": {
            "text/html": [
              "<div>\n",
              "<style scoped>\n",
              "    .dataframe tbody tr th:only-of-type {\n",
              "        vertical-align: middle;\n",
              "    }\n",
              "\n",
              "    .dataframe tbody tr th {\n",
              "        vertical-align: top;\n",
              "    }\n",
              "\n",
              "    .dataframe thead th {\n",
              "        text-align: right;\n",
              "    }\n",
              "</style>\n",
              "<table border=\"1\" class=\"dataframe\">\n",
              "  <thead>\n",
              "    <tr style=\"text-align: right;\">\n",
              "      <th></th>\n",
              "      <th>AMINOACIDO</th>\n",
              "      <th>pH</th>\n",
              "      <th>CAMBIOSQUIMICOSALPHA</th>\n",
              "      <th>INDICEDEHIDROFOBICIDAD</th>\n",
              "    </tr>\n",
              "  </thead>\n",
              "  <tbody>\n",
              "    <tr>\n",
              "      <th>0</th>\n",
              "      <td>A</td>\n",
              "      <td>1.0</td>\n",
              "      <td>4.35</td>\n",
              "      <td>0.610</td>\n",
              "    </tr>\n",
              "    <tr>\n",
              "      <th>1</th>\n",
              "      <td>R</td>\n",
              "      <td>0.7</td>\n",
              "      <td>4.38</td>\n",
              "      <td>0.600</td>\n",
              "    </tr>\n",
              "    <tr>\n",
              "      <th>2</th>\n",
              "      <td>N</td>\n",
              "      <td>1.0</td>\n",
              "      <td>4.75</td>\n",
              "      <td>0.060</td>\n",
              "    </tr>\n",
              "    <tr>\n",
              "      <th>3</th>\n",
              "      <td>D</td>\n",
              "      <td>1.7</td>\n",
              "      <td>4.76</td>\n",
              "      <td>0.460</td>\n",
              "    </tr>\n",
              "    <tr>\n",
              "      <th>4</th>\n",
              "      <td>C</td>\n",
              "      <td>1.0</td>\n",
              "      <td>4.65</td>\n",
              "      <td>1.070</td>\n",
              "    </tr>\n",
              "    <tr>\n",
              "      <th>5</th>\n",
              "      <td>Q</td>\n",
              "      <td>1.0</td>\n",
              "      <td>4.37</td>\n",
              "      <td>0.000</td>\n",
              "    </tr>\n",
              "    <tr>\n",
              "      <th>6</th>\n",
              "      <td>E</td>\n",
              "      <td>1.7</td>\n",
              "      <td>4.29</td>\n",
              "      <td>0.470</td>\n",
              "    </tr>\n",
              "    <tr>\n",
              "      <th>7</th>\n",
              "      <td>G</td>\n",
              "      <td>1.3</td>\n",
              "      <td>3.97</td>\n",
              "      <td>0.070</td>\n",
              "    </tr>\n",
              "    <tr>\n",
              "      <th>8</th>\n",
              "      <td>H</td>\n",
              "      <td>1.0</td>\n",
              "      <td>4.63</td>\n",
              "      <td>0.061</td>\n",
              "    </tr>\n",
              "    <tr>\n",
              "      <th>9</th>\n",
              "      <td>I</td>\n",
              "      <td>1.0</td>\n",
              "      <td>3.95</td>\n",
              "      <td>2.220</td>\n",
              "    </tr>\n",
              "    <tr>\n",
              "      <th>10</th>\n",
              "      <td>L</td>\n",
              "      <td>1.0</td>\n",
              "      <td>4.17</td>\n",
              "      <td>1.530</td>\n",
              "    </tr>\n",
              "    <tr>\n",
              "      <th>11</th>\n",
              "      <td>K</td>\n",
              "      <td>0.7</td>\n",
              "      <td>4.36</td>\n",
              "      <td>1.150</td>\n",
              "    </tr>\n",
              "    <tr>\n",
              "      <th>12</th>\n",
              "      <td>M</td>\n",
              "      <td>1.0</td>\n",
              "      <td>4.52</td>\n",
              "      <td>1.180</td>\n",
              "    </tr>\n",
              "    <tr>\n",
              "      <th>13</th>\n",
              "      <td>F</td>\n",
              "      <td>1.0</td>\n",
              "      <td>4.66</td>\n",
              "      <td>2.020</td>\n",
              "    </tr>\n",
              "    <tr>\n",
              "      <th>14</th>\n",
              "      <td>P</td>\n",
              "      <td>13.0</td>\n",
              "      <td>4.44</td>\n",
              "      <td>1.950</td>\n",
              "    </tr>\n",
              "    <tr>\n",
              "      <th>15</th>\n",
              "      <td>S</td>\n",
              "      <td>1.0</td>\n",
              "      <td>4.50</td>\n",
              "      <td>0.050</td>\n",
              "    </tr>\n",
              "    <tr>\n",
              "      <th>16</th>\n",
              "      <td>T</td>\n",
              "      <td>1.0</td>\n",
              "      <td>4.35</td>\n",
              "      <td>0.050</td>\n",
              "    </tr>\n",
              "    <tr>\n",
              "      <th>17</th>\n",
              "      <td>W</td>\n",
              "      <td>1.0</td>\n",
              "      <td>4.70</td>\n",
              "      <td>2.650</td>\n",
              "    </tr>\n",
              "    <tr>\n",
              "      <th>18</th>\n",
              "      <td>Y</td>\n",
              "      <td>1.0</td>\n",
              "      <td>4.60</td>\n",
              "      <td>1.880</td>\n",
              "    </tr>\n",
              "    <tr>\n",
              "      <th>19</th>\n",
              "      <td>V</td>\n",
              "      <td>1.0</td>\n",
              "      <td>3.95</td>\n",
              "      <td>1.320</td>\n",
              "    </tr>\n",
              "  </tbody>\n",
              "</table>\n",
              "</div>"
            ],
            "text/plain": [
              "   AMINOACIDO    pH  CAMBIOSQUIMICOSALPHA  INDICEDEHIDROFOBICIDAD\n",
              "0           A   1.0                  4.35                   0.610\n",
              "1           R   0.7                  4.38                   0.600\n",
              "2           N   1.0                  4.75                   0.060\n",
              "3           D   1.7                  4.76                   0.460\n",
              "4           C   1.0                  4.65                   1.070\n",
              "5           Q   1.0                  4.37                   0.000\n",
              "6           E   1.7                  4.29                   0.470\n",
              "7           G   1.3                  3.97                   0.070\n",
              "8           H   1.0                  4.63                   0.061\n",
              "9           I   1.0                  3.95                   2.220\n",
              "10          L   1.0                  4.17                   1.530\n",
              "11          K   0.7                  4.36                   1.150\n",
              "12          M   1.0                  4.52                   1.180\n",
              "13          F   1.0                  4.66                   2.020\n",
              "14          P  13.0                  4.44                   1.950\n",
              "15          S   1.0                  4.50                   0.050\n",
              "16          T   1.0                  4.35                   0.050\n",
              "17          W   1.0                  4.70                   2.650\n",
              "18          Y   1.0                  4.60                   1.880\n",
              "19          V   1.0                  3.95                   1.320"
            ]
          },
          "metadata": {
            "tags": []
          },
          "execution_count": 115
        }
      ]
    },
    {
      "cell_type": "code",
      "metadata": {
        "id": "HzNxVFYb0xbl",
        "colab_type": "code",
        "colab": {}
      },
      "source": [
        "sec_pur=secuencias[0:2]"
      ],
      "execution_count": 0,
      "outputs": []
    },
    {
      "cell_type": "code",
      "metadata": {
        "id": "qCu1jlQkYHCD",
        "colab_type": "code",
        "outputId": "a37aed2d-3bf1-4e41-d333-f20527a6547e",
        "colab": {
          "base_uri": "https://localhost:8080/",
          "height": 34
        }
      },
      "source": [
        "sec_pur.shape"
      ],
      "execution_count": 126,
      "outputs": [
        {
          "output_type": "execute_result",
          "data": {
            "text/plain": [
              "(2,)"
            ]
          },
          "metadata": {
            "tags": []
          },
          "execution_count": 126
        }
      ]
    },
    {
      "cell_type": "markdown",
      "metadata": {
        "id": "XMJhXXMYJQkq",
        "colab_type": "text"
      },
      "source": [
        "SE LE ASIGNA A CADA UNO DE LOS AMINOACIDOS SU CORRESPONDIENTE VALOR DE CADA UNO DE LOS INDICES"
      ]
    },
    {
      "cell_type": "code",
      "metadata": {
        "id": "I_u5hHf7BzW-",
        "colab_type": "code",
        "colab": {}
      },
      "source": [
        "listpH=[]\n",
        "listalp=[]\n",
        "listhidro=[]\n",
        "for sec in secuencias:\n",
        "  phindx=[]\n",
        "  alphindx=[]\n",
        "  hidroindx=[]\n",
        "  for aminov in sec:\n",
        "    b=0\n",
        "    for bus in aaind.AMINOACIDO:\n",
        "      if bus == aminov:\n",
        "        phindx.append(aaind.pH[b])\n",
        "        alphindx.append(aaind.CAMBIOSQUIMICOSALPHA[b])\n",
        "        hidroindx.append(aaind.INDICEDEHIDROFOBICIDAD[b])\n",
        "      b=b+1\n",
        "  listpH.append(np.asarray(phindx)) \n",
        "  listalp.append(np.asarray(alphindx))\n",
        "  listhidro.append(np.asarray(hidroindx))"
      ],
      "execution_count": 0,
      "outputs": []
    },
    {
      "cell_type": "code",
      "metadata": {
        "id": "4nJoj_9gB5sS",
        "colab_type": "code",
        "colab": {}
      },
      "source": [
        "multi_data_set=np.array([secuencias,listpH,listalp,listhidro])"
      ],
      "execution_count": 0,
      "outputs": []
    },
    {
      "cell_type": "code",
      "metadata": {
        "id": "HGGNLmTN89zk",
        "colab_type": "code",
        "colab": {
          "base_uri": "https://localhost:8080/",
          "height": 34
        },
        "outputId": "89e05400-1585-420e-e715-f85e18be495a"
      },
      "source": [
        "multi_data_set.shape"
      ],
      "execution_count": 228,
      "outputs": [
        {
          "output_type": "execute_result",
          "data": {
            "text/plain": [
              "(4, 69720)"
            ]
          },
          "metadata": {
            "tags": []
          },
          "execution_count": 228
        }
      ]
    },
    {
      "cell_type": "code",
      "metadata": {
        "id": "jBUjzlRwCLRy",
        "colab_type": "code",
        "colab": {}
      },
      "source": [
        "multi_data_set_work=np.transpose(multi_data_set)"
      ],
      "execution_count": 0,
      "outputs": []
    },
    {
      "cell_type": "code",
      "metadata": {
        "id": "7BeN62IbZr2_",
        "colab_type": "code",
        "colab": {
          "base_uri": "https://localhost:8080/",
          "height": 34
        },
        "outputId": "37496104-0d83-4c38-c17d-aec9438ceeab"
      },
      "source": [
        "multi_data_set_work.shape"
      ],
      "execution_count": 223,
      "outputs": [
        {
          "output_type": "execute_result",
          "data": {
            "text/plain": [
              "(69720, 4)"
            ]
          },
          "metadata": {
            "tags": []
          },
          "execution_count": 223
        }
      ]
    },
    {
      "cell_type": "markdown",
      "metadata": {
        "id": "wnThJk_zJdId",
        "colab_type": "text"
      },
      "source": [
        "SE DESARROLLÓ UNA FUNCION PARA CONTRUIR UNA BASE DE DATOS CON LAS CARACTERÍTICAS NECESARIAS, DEBIDO A QUE NO ES POSIBLE TOQUENIZAR ARREGLOS, EN ESTA SE LE ASIGNAN LOS CEROS QUE SE DEBAN COMPLETAR PARA AQUELLAS PROTEINAS QUE NO TENGAN LA CANTIDAD DE DATOS NECESARIA"
      ]
    },
    {
      "cell_type": "code",
      "metadata": {
        "id": "kZsECiRwIueD",
        "colab_type": "code",
        "colab": {}
      },
      "source": [
        "def create_dataset_mul(dataset,n_steps_in):\n",
        "  data_total=[]\n",
        "  for i in dataset:\n",
        "    dataX=[]\n",
        "    for j in range(1,i.shape[0]):\n",
        "      a = i[j]\n",
        "      b=a[0:n_steps_in]\n",
        "      if len(a) < n_steps_in:\n",
        "        b=np.zeros((n_steps_in))\n",
        "        for h in range(len(a)):\n",
        "          b[h]=a[h]\n",
        "      dataX.append(b) \n",
        "    data_total.append(np.array(dataX))\n",
        "  return  np.array(data_total)"
      ],
      "execution_count": 0,
      "outputs": []
    },
    {
      "cell_type": "code",
      "metadata": {
        "id": "ESIKymMPD4pU",
        "colab_type": "code",
        "colab": {}
      },
      "source": [
        "cread=create_dataset_mul(multi_data_set_work,250)"
      ],
      "execution_count": 0,
      "outputs": []
    },
    {
      "cell_type": "code",
      "metadata": {
        "id": "yA_5PimBI2Xi",
        "colab_type": "code",
        "colab": {}
      },
      "source": [
        "prueba_data=cread.reshape(cread.shape[0],cread.shape[2],cread.shape[1])"
      ],
      "execution_count": 0,
      "outputs": []
    },
    {
      "cell_type": "code",
      "metadata": {
        "id": "8qRMmCtMlR44",
        "colab_type": "code",
        "colab": {}
      },
      "source": [
        "x_train_M, x_test_M, y_train_M, y_test_M = train_test_split(cread, Y, test_size=.3)"
      ],
      "execution_count": 0,
      "outputs": []
    },
    {
      "cell_type": "code",
      "metadata": {
        "id": "ttGL3VthsLJd",
        "colab_type": "code",
        "colab": {
          "base_uri": "https://localhost:8080/",
          "height": 34
        },
        "outputId": "3dd1f9d8-6ff3-47d6-df7e-a3b0ce9bf014"
      },
      "source": [
        "x_train_M.shape, x_test_M.shape, y_train_M.shape, y_test_M.shape "
      ],
      "execution_count": 373,
      "outputs": [
        {
          "output_type": "execute_result",
          "data": {
            "text/plain": [
              "((48804, 3, 250), (20916, 3, 250), (48804, 10), (20916, 10))"
            ]
          },
          "metadata": {
            "tags": []
          },
          "execution_count": 373
        }
      ]
    },
    {
      "cell_type": "code",
      "metadata": {
        "id": "puA7UjF9JHFv",
        "colab_type": "code",
        "colab": {}
      },
      "source": [
        "modelM = Sequential()\n",
        "modelM.add(GRU(50,input_shape=(cread.shape[1],cread.shape[2])))\n",
        "modelM.add(Dense(len(data),activation='softmax'))\n",
        "modelM.compile(optimizer='adam',loss='categorical_crossentropy',metrics = ['accuracy'])"
      ],
      "execution_count": 0,
      "outputs": []
    },
    {
      "cell_type": "code",
      "metadata": {
        "id": "s4Ch_a-vJc2j",
        "colab_type": "code",
        "colab": {
          "base_uri": "https://localhost:8080/",
          "height": 204
        },
        "outputId": "3f618f1f-c084-41d2-9652-60756c5548f4"
      },
      "source": [
        "modelM.summary()"
      ],
      "execution_count": 368,
      "outputs": [
        {
          "output_type": "stream",
          "text": [
            "_________________________________________________________________\n",
            "Layer (type)                 Output Shape              Param #   \n",
            "=================================================================\n",
            "gru_15 (GRU)                 (None, 50)                45150     \n",
            "_________________________________________________________________\n",
            "dense_11 (Dense)             (None, 10)                510       \n",
            "=================================================================\n",
            "Total params: 45,660\n",
            "Trainable params: 45,660\n",
            "Non-trainable params: 0\n",
            "_________________________________________________________________\n"
          ],
          "name": "stdout"
        }
      ]
    },
    {
      "cell_type": "code",
      "metadata": {
        "id": "B-YyPHhnbaPg",
        "colab_type": "code",
        "colab": {
          "base_uri": "https://localhost:8080/",
          "height": 374
        },
        "outputId": "cbe52671-d6d1-4f11-fae6-26b8e09bdcb8"
      },
      "source": [
        "modelM.fit(x_train_M, y_train_M,epochs=10, verbose=1,batch_size=150) "
      ],
      "execution_count": 375,
      "outputs": [
        {
          "output_type": "stream",
          "text": [
            "Epoch 1/10\n",
            "48804/48804 [==============================] - 5s 104us/step - loss: 1.7951 - acc: 0.3909\n",
            "Epoch 2/10\n",
            "48804/48804 [==============================] - 3s 53us/step - loss: 1.3303 - acc: 0.5792\n",
            "Epoch 3/10\n",
            "48804/48804 [==============================] - 3s 52us/step - loss: 1.0823 - acc: 0.6632\n",
            "Epoch 4/10\n",
            "48804/48804 [==============================] - 3s 53us/step - loss: 0.9200 - acc: 0.7184\n",
            "Epoch 5/10\n",
            "48804/48804 [==============================] - 3s 53us/step - loss: 0.8014 - acc: 0.7588\n",
            "Epoch 6/10\n",
            "48804/48804 [==============================] - 3s 52us/step - loss: 0.7119 - acc: 0.7882\n",
            "Epoch 7/10\n",
            "48804/48804 [==============================] - 3s 52us/step - loss: 0.6432 - acc: 0.8108\n",
            "Epoch 8/10\n",
            "48804/48804 [==============================] - 3s 52us/step - loss: 0.5833 - acc: 0.8282\n",
            "Epoch 9/10\n",
            "48804/48804 [==============================] - 3s 55us/step - loss: 0.5343 - acc: 0.8438\n",
            "Epoch 10/10\n",
            "48804/48804 [==============================] - 3s 57us/step - loss: 0.4920 - acc: 0.8550\n"
          ],
          "name": "stdout"
        },
        {
          "output_type": "execute_result",
          "data": {
            "text/plain": [
              "<keras.callbacks.History at 0x7fd02b5b8310>"
            ]
          },
          "metadata": {
            "tags": []
          },
          "execution_count": 375
        }
      ]
    },
    {
      "cell_type": "code",
      "metadata": {
        "id": "pGxWWGw-sV6M",
        "colab_type": "code",
        "colab": {
          "base_uri": "https://localhost:8080/",
          "height": 34
        },
        "outputId": "b311c2fa-da9b-4c12-b4e0-d064ed06a11d"
      },
      "source": [
        "predictM=modelM.predict(x_test_M).argmax(axis=1)\n",
        "y_acc=y_test_M.argmax(axis=1)\n",
        "np.mean(predictM==y_acc)"
      ],
      "execution_count": 378,
      "outputs": [
        {
          "output_type": "execute_result",
          "data": {
            "text/plain": [
              "0.7989577357047236"
            ]
          },
          "metadata": {
            "tags": []
          },
          "execution_count": 378
        }
      ]
    },
    {
      "cell_type": "code",
      "metadata": {
        "id": "7XLVN2wXs0uW",
        "colab_type": "code",
        "colab": {}
      },
      "source": [
        "modelM2 = Sequential()\n",
        "modelM2.add(GRU(250,input_shape=(cread.shape[1],cread.shape[2])))\n",
        "modelM2.add(Dense(len(data),activation='softmax'))\n",
        "modelM2.compile(optimizer='adam',loss='categorical_crossentropy',metrics = ['accuracy'])"
      ],
      "execution_count": 0,
      "outputs": []
    },
    {
      "cell_type": "code",
      "metadata": {
        "id": "8sZ5ZCQRtSNf",
        "colab_type": "code",
        "colab": {
          "base_uri": "https://localhost:8080/",
          "height": 204
        },
        "outputId": "9df66589-9221-4e62-826f-aa8a8681d046"
      },
      "source": [
        "modelM2.summary()"
      ],
      "execution_count": 383,
      "outputs": [
        {
          "output_type": "stream",
          "text": [
            "_________________________________________________________________\n",
            "Layer (type)                 Output Shape              Param #   \n",
            "=================================================================\n",
            "gru_16 (GRU)                 (None, 250)               375750    \n",
            "_________________________________________________________________\n",
            "dense_12 (Dense)             (None, 10)                2510      \n",
            "=================================================================\n",
            "Total params: 378,260\n",
            "Trainable params: 378,260\n",
            "Non-trainable params: 0\n",
            "_________________________________________________________________\n"
          ],
          "name": "stdout"
        }
      ]
    },
    {
      "cell_type": "code",
      "metadata": {
        "id": "1tmu0o_6t0dQ",
        "colab_type": "code",
        "colab": {
          "base_uri": "https://localhost:8080/",
          "height": 374
        },
        "outputId": "317bdcd0-f0a7-400b-f824-87f083d42060"
      },
      "source": [
        "modelM2.fit(x_train_M, y_train_M,epochs=10, verbose=1,batch_size=150) "
      ],
      "execution_count": 384,
      "outputs": [
        {
          "output_type": "stream",
          "text": [
            "Epoch 1/10\n",
            "48804/48804 [==============================] - 5s 102us/step - loss: 1.4697 - acc: 0.5161\n",
            "Epoch 2/10\n",
            "48804/48804 [==============================] - 3s 54us/step - loss: 0.8253 - acc: 0.7478\n",
            "Epoch 3/10\n",
            "48804/48804 [==============================] - 3s 55us/step - loss: 0.5532 - acc: 0.8316\n",
            "Epoch 4/10\n",
            "48804/48804 [==============================] - 3s 54us/step - loss: 0.4006 - acc: 0.8771\n",
            "Epoch 5/10\n",
            "48804/48804 [==============================] - 3s 55us/step - loss: 0.3067 - acc: 0.9042\n",
            "Epoch 6/10\n",
            "48804/48804 [==============================] - 3s 54us/step - loss: 0.2353 - acc: 0.9276\n",
            "Epoch 7/10\n",
            "48804/48804 [==============================] - 3s 53us/step - loss: 0.1954 - acc: 0.9390\n",
            "Epoch 8/10\n",
            "48804/48804 [==============================] - 3s 54us/step - loss: 0.1737 - acc: 0.9460\n",
            "Epoch 9/10\n",
            "48804/48804 [==============================] - 3s 54us/step - loss: 0.1629 - acc: 0.9484\n",
            "Epoch 10/10\n",
            "48804/48804 [==============================] - 3s 53us/step - loss: 0.1480 - acc: 0.9533\n"
          ],
          "name": "stdout"
        },
        {
          "output_type": "execute_result",
          "data": {
            "text/plain": [
              "<keras.callbacks.History at 0x7fd0aabba510>"
            ]
          },
          "metadata": {
            "tags": []
          },
          "execution_count": 384
        }
      ]
    },
    {
      "cell_type": "code",
      "metadata": {
        "id": "m2Nr6gyUt3j4",
        "colab_type": "code",
        "colab": {
          "base_uri": "https://localhost:8080/",
          "height": 34
        },
        "outputId": "3da253ef-7f3f-4c7d-e243-9339e7e3243b"
      },
      "source": [
        "predictM2=modelM2.predict(x_test_M).argmax(axis=1)\n",
        "y_acc=y_test_M.argmax(axis=1)\n",
        "np.mean(predictM2==y_acc)"
      ],
      "execution_count": 387,
      "outputs": [
        {
          "output_type": "execute_result",
          "data": {
            "text/plain": [
              "0.8548001529929241"
            ]
          },
          "metadata": {
            "tags": []
          },
          "execution_count": 387
        }
      ]
    },
    {
      "cell_type": "markdown",
      "metadata": {
        "id": "0OqJK1KaKGRR",
        "colab_type": "text"
      },
      "source": [
        "SE DIVIDE Y ENTRENA CON RESPECTO A LAS VARIABLES pH HIDROFOBICIDAD Y CAMBIOS EN LA QUIMICA"
      ]
    },
    {
      "cell_type": "code",
      "metadata": {
        "id": "13kZWzenuMD5",
        "colab_type": "code",
        "colab": {}
      },
      "source": [
        "x_train_M2, x_test_M2, y_train_M2, y_test_M2 = train_test_split(prueba_data, Y, test_size=.3)"
      ],
      "execution_count": 0,
      "outputs": []
    },
    {
      "cell_type": "code",
      "metadata": {
        "id": "Fflz0Myx3C7g",
        "colab_type": "code",
        "colab": {
          "base_uri": "https://localhost:8080/",
          "height": 34
        },
        "outputId": "c9041055-a067-4392-a1ff-e7319ec0adb3"
      },
      "source": [
        "x_train_M2.shape, x_test_M2.shape, y_train_M2.shape, y_test_M2.shape"
      ],
      "execution_count": 400,
      "outputs": [
        {
          "output_type": "execute_result",
          "data": {
            "text/plain": [
              "((48804, 250, 3), (20916, 250, 3), (48804, 10), (20916, 10))"
            ]
          },
          "metadata": {
            "tags": []
          },
          "execution_count": 400
        }
      ]
    },
    {
      "cell_type": "code",
      "metadata": {
        "id": "f3R5FIh03Hvc",
        "colab_type": "code",
        "colab": {}
      },
      "source": [
        "modelM3 = Sequential()\n",
        "modelM3.add(GRU(250,input_shape=(cread.shape[2],cread.shape[1])))\n",
        "modelM3.add(Dense(len(data),activation='softmax'))\n",
        "modelM3.compile(optimizer='adam',loss='categorical_crossentropy',metrics = ['accuracy'])"
      ],
      "execution_count": 0,
      "outputs": []
    },
    {
      "cell_type": "code",
      "metadata": {
        "id": "ZILpL7Qc3M1C",
        "colab_type": "code",
        "colab": {
          "base_uri": "https://localhost:8080/",
          "height": 204
        },
        "outputId": "11a8b5cf-f376-4e29-c03e-70cd06b19ecc"
      },
      "source": [
        "modelM3.summary()"
      ],
      "execution_count": 402,
      "outputs": [
        {
          "output_type": "stream",
          "text": [
            "_________________________________________________________________\n",
            "Layer (type)                 Output Shape              Param #   \n",
            "=================================================================\n",
            "gru_18 (GRU)                 (None, 250)               190500    \n",
            "_________________________________________________________________\n",
            "dense_14 (Dense)             (None, 10)                2510      \n",
            "=================================================================\n",
            "Total params: 193,010\n",
            "Trainable params: 193,010\n",
            "Non-trainable params: 0\n",
            "_________________________________________________________________\n"
          ],
          "name": "stdout"
        }
      ]
    },
    {
      "cell_type": "code",
      "metadata": {
        "id": "tR7BNidP3SDK",
        "colab_type": "code",
        "colab": {
          "base_uri": "https://localhost:8080/",
          "height": 374
        },
        "outputId": "8f1dabb3-6e37-4e06-f38e-ea0dbfce2370"
      },
      "source": [
        "modelM3.fit(x_train_M2, y_train_M2,epochs=20, verbose=1,batch_size=150) "
      ],
      "execution_count": 404,
      "outputs": [
        {
          "output_type": "stream",
          "text": [
            "Epoch 1/10\n",
            "48804/48804 [==============================] - 94s 2ms/step - loss: 1.2328 - acc: 0.5949\n",
            "Epoch 2/10\n",
            "48804/48804 [==============================] - 94s 2ms/step - loss: 1.1248 - acc: 0.6338\n",
            "Epoch 3/10\n",
            "48804/48804 [==============================] - 94s 2ms/step - loss: 1.0268 - acc: 0.6696\n",
            "Epoch 4/10\n",
            "48804/48804 [==============================] - 94s 2ms/step - loss: 0.9451 - acc: 0.6978\n",
            "Epoch 5/10\n",
            "48804/48804 [==============================] - 93s 2ms/step - loss: 0.8711 - acc: 0.7224\n",
            "Epoch 6/10\n",
            "48804/48804 [==============================] - 93s 2ms/step - loss: 0.7965 - acc: 0.7497\n",
            "Epoch 7/10\n",
            "48804/48804 [==============================] - 94s 2ms/step - loss: 0.7506 - acc: 0.7651\n",
            "Epoch 8/10\n",
            "48804/48804 [==============================] - 94s 2ms/step - loss: 0.6829 - acc: 0.7846\n",
            "Epoch 9/10\n",
            "48804/48804 [==============================] - 94s 2ms/step - loss: 0.6474 - acc: 0.7970\n",
            "Epoch 10/10\n",
            "48804/48804 [==============================] - 92s 2ms/step - loss: 0.5945 - acc: 0.8136\n"
          ],
          "name": "stdout"
        },
        {
          "output_type": "execute_result",
          "data": {
            "text/plain": [
              "<keras.callbacks.History at 0x7fd0aabc0990>"
            ]
          },
          "metadata": {
            "tags": []
          },
          "execution_count": 404
        }
      ]
    },
    {
      "cell_type": "code",
      "metadata": {
        "id": "Bntk6jdmFjlD",
        "colab_type": "code",
        "colab": {
          "base_uri": "https://localhost:8080/",
          "height": 34
        },
        "outputId": "b325c532-d0c9-4ff8-e876-ff87bda6d81e"
      },
      "source": [
        "predictM3=modelM3.predict(x_test_M).argmax(axis=1)\n",
        "y_acc=y_test_M.argmax(axis=1)\n",
        "np.mean(predictM3==y_acc)"
      ],
      "execution_count": 426,
      "outputs": [
        {
          "output_type": "execute_result",
          "data": {
            "text/plain": [
              "0.8126314782941289"
            ]
          },
          "metadata": {
            "tags": []
          },
          "execution_count": 426
        }
      ]
    },
    {
      "cell_type": "code",
      "metadata": {
        "id": "KFl7pruR3iu5",
        "colab_type": "code",
        "colab": {}
      },
      "source": [
        "image=io.imread(\"numero de aminoacidos.JPG\")/255.0 "
      ],
      "execution_count": 0,
      "outputs": []
    },
    {
      "cell_type": "code",
      "metadata": {
        "id": "Bz9932nPDjCq",
        "colab_type": "code",
        "colab": {
          "base_uri": "https://localhost:8080/",
          "height": 167
        },
        "outputId": "a16aeab1-2d6f-490f-c7c6-13c3a11062a8"
      },
      "source": [
        "plt.imshow(image)\n",
        "image.shape"
      ],
      "execution_count": 425,
      "outputs": [
        {
          "output_type": "execute_result",
          "data": {
            "text/plain": [
              "(68, 231, 3)"
            ]
          },
          "metadata": {
            "tags": []
          },
          "execution_count": 425
        },
        {
          "output_type": "display_data",
          "data": {
            "image/png": "[encoded data removed]",
            "text/plain": [
              "<Figure size 432x288 with 1 Axes>"
            ]
          },
          "metadata": {
            "tags": []
          }
        }
      ]
    },
    {
      "cell_type": "code",
      "metadata": {
        "id": "puCHCNWXD-gq",
        "colab_type": "code",
        "colab": {}
      },
      "source": [
        ""
      ],
      "execution_count": 0,
      "outputs": []
    },
    {
      "cell_type": "code",
      "metadata": {
        "id": "Ktu6NWJ5EXeU",
        "colab_type": "code",
        "colab": {}
      },
      "source": [
        ""
      ],
      "execution_count": 0,
      "outputs": []
    }
  ]
}